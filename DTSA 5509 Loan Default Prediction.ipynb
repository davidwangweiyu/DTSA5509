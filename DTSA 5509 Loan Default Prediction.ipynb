{
 "cells": [
  {
   "cell_type": "code",
   "execution_count": 43,
   "id": "8fbf0b2a",
   "metadata": {},
   "outputs": [],
   "source": [
    "import pandas as pd\n",
    "from sklearn.preprocessing import LabelEncoder\n",
    "import matplotlib.pyplot as plt\n",
    "import numpy as np\n",
    "import math\n",
    "import scipy as sp\n",
    "import scipy.stats as stats\n",
    "import seaborn as sns\n",
    "import copy\n",
    "import statsmodels.formula.api as smf\n",
    "import statsmodels.api as sm\n",
    "from sklearn.model_selection import train_test_split\n",
    "from sklearn.linear_model import LogisticRegression\n",
    "from sklearn.metrics import roc_auc_score, recall_score, roc_curve, precision_score, classification_report\n",
    "from sklearn.metrics import accuracy_score, precision_score, recall_score, f1_score, confusion_matrix\n",
    "from sklearn.ensemble import RandomForestClassifier, AdaBoostClassifier \n",
    "from sklearn.tree import DecisionTreeClassifier\n",
    "import tensorflow as tf\n",
    "from tensorflow import keras\n",
    "from tensorflow.keras import layers\n",
    "import plotly.express as px\n",
    "from IPython.display import display"
   ]
  },
  {
   "cell_type": "markdown",
   "id": "4c40d6db",
   "metadata": {},
   "source": [
    "# DTSA 5509 Final Project Loan Default Prediction\n",
    "### Author: Wei Yu (David) Wang\n",
    "### Date: 2023-10-16"
   ]
  },
  {
   "cell_type": "markdown",
   "id": "8f617633",
   "metadata": {},
   "source": [
    "## Introduction and Problem Description\n",
    "\n",
    "For my final project for DTSA-5509, I decided to take on the August 2023 Coursera Data Science Coding Challenge: Loan Default Prediction. I wanted to apply the knowledge I learned in this course to real-life financial data and gain the knowledge to solve real-life issues such as risk management in potential loan defaults. \n",
    "\n",
    "The types of learning algorithms and types of tasks to classify if a loan is likely to go to default include\n",
    "- Polynomial Regression\n",
    "- Logistic Regression\n",
    "- Decision Tree\n",
    "- Random Forest\n",
    "- Adaboost\n",
    "- Support Vector Classification (SVC)\n",
    "- and a Neural Work using Keras. \n",
    "\n",
    "Before running this notebook, please ensure that all dependacies listed above are installed. Thank you for taking the time to view my work!"
   ]
  },
  {
   "cell_type": "markdown",
   "id": "b5359c16",
   "metadata": {},
   "source": [
    "## Data\n",
    "\n",
    "The data is obtained from https://www.kaggle.com/datasets/nikhil1e9/loan-default. This Kaggel user obtained the data frame Coursera which provided a dataset that is a sample of individuals who received loans in 2021. \n",
    "\n",
    "Data Science Coding Challenge: Loan Default Prediction (no date) Coursera. Available at: https://www.coursera.org/projects/data-science-coding-challenge-loan-default-prediction (Accessed: 16 October 2023). \n",
    "\n",
    "While I do know that a good portion of data science work is data cleaning, I wanted to skip ahead and jump into the machine learning with a fairly clean dataset. There are 18 attributes, ranging from the debtor's age, income, credit score to if they have a cosigner or a mortgage. The targetted attribute to classify is the Default attribute which is if the loan eventually defaulted or not. This is a large dataset 255347 rows of loans. The data format is tabulated data housed within a single csv file. "
   ]
  },
  {
   "cell_type": "code",
   "execution_count": 44,
   "id": "a35ff834",
   "metadata": {},
   "outputs": [
    {
     "name": "stdout",
     "output_type": "stream",
     "text": [
      "<class 'pandas.core.frame.DataFrame'>\n",
      "RangeIndex: 255347 entries, 0 to 255346\n",
      "Data columns (total 18 columns):\n",
      " #   Column          Non-Null Count   Dtype  \n",
      "---  ------          --------------   -----  \n",
      " 0   LoanID          255347 non-null  object \n",
      " 1   Age             255347 non-null  int64  \n",
      " 2   Income          255347 non-null  int64  \n",
      " 3   LoanAmount      255347 non-null  int64  \n",
      " 4   CreditScore     255347 non-null  int64  \n",
      " 5   MonthsEmployed  255347 non-null  int64  \n",
      " 6   NumCreditLines  255347 non-null  int64  \n",
      " 7   InterestRate    255347 non-null  float64\n",
      " 8   LoanTerm        255347 non-null  int64  \n",
      " 9   DTIRatio        255347 non-null  float64\n",
      " 10  Education       255347 non-null  object \n",
      " 11  EmploymentType  255347 non-null  object \n",
      " 12  MaritalStatus   255347 non-null  object \n",
      " 13  HasMortgage     255347 non-null  object \n",
      " 14  HasDependents   255347 non-null  object \n",
      " 15  LoanPurpose     255347 non-null  object \n",
      " 16  HasCoSigner     255347 non-null  object \n",
      " 17  Default         255347 non-null  int64  \n",
      "dtypes: float64(2), int64(8), object(8)\n",
      "memory usage: 35.1+ MB\n"
     ]
    }
   ],
   "source": [
    "# loading the dataset\n",
    "df = pd.read_csv(\"https://raw.githubusercontent.com/davidwangweiyu/DTSA5509/main/Loan_default.csv\")\n",
    "df.info()"
   ]
  },
  {
   "cell_type": "code",
   "execution_count": 45,
   "id": "8f969162",
   "metadata": {},
   "outputs": [
    {
     "data": {
      "text/plain": [
       "(255347, 18)"
      ]
     },
     "execution_count": 45,
     "metadata": {},
     "output_type": "execute_result"
    }
   ],
   "source": [
    "# Shape of Dataset\n",
    "df.shape"
   ]
  },
  {
   "cell_type": "markdown",
   "id": "1412e4de",
   "metadata": {},
   "source": [
    "## Data Cleaning and Exploratory Data Analysis (EDA) Procedure"
   ]
  },
  {
   "cell_type": "markdown",
   "id": "20c0895f",
   "metadata": {},
   "source": [
    "### Data Cleaning\n",
    "\n",
    "The steps to clean and process the data include loading in the dataset, identifying the data types of variables in the csv, identifying attributes that cannot be encoded into ordered numerical values, and encoding object variables to numerical values.\n",
    "\n",
    "The goal of the data cleaning process is to create a dataframe fit for machine learning by converting all values into integers or floats. This is done by using df.info() to determine if there are null values and the data type of each variable. Then for all variables with object datatype, df['variable'].unique() is used to determine if the values can be ordered or binary classified. In this case, non of the variables with more than 2 unique values could be ordered because either domain knowledge is required or a whole seperate machine learning analysis is needed to determine how the values should be ordered in terms of default risk.\n",
    "\n",
    "For example for marital status, how should single, married and divorced be ordered? Should it go single > married > divorced because you need to be married to divorce or married > single > divorced because married people are staying commited while divorced people broke a comittment to marriage and are thus more likely to break a comittment to a loan. "
   ]
  },
  {
   "cell_type": "markdown",
   "id": "1e39378b",
   "metadata": {},
   "source": [
    "#### Removing and Encoding Variables\n",
    "\n",
    "From the info() function, it can be seen that Education, Marital Status, Has Mortgage, Has Dependents, Loan Purpose, Has Cosigner are object datatypes. There are no null values as seen in the non-null count column, and there are over 250000 loan samples. For the attributes that are objects, work is needed to label encode the values for machine learning."
   ]
  },
  {
   "cell_type": "code",
   "execution_count": 46,
   "id": "879b48df",
   "metadata": {},
   "outputs": [
    {
     "data": {
      "text/plain": [
       "array([\"Bachelor's\", \"Master's\", 'High School', 'PhD'], dtype=object)"
      ]
     },
     "execution_count": 46,
     "metadata": {},
     "output_type": "execute_result"
    }
   ],
   "source": [
    "# Education Attribute\n",
    "df['Education'].unique()"
   ]
  },
  {
   "cell_type": "code",
   "execution_count": 47,
   "id": "6912f3cd",
   "metadata": {},
   "outputs": [
    {
     "data": {
      "text/plain": [
       "array(['Full-time', 'Unemployed', 'Self-employed', 'Part-time'],\n",
       "      dtype=object)"
      ]
     },
     "execution_count": 47,
     "metadata": {},
     "output_type": "execute_result"
    }
   ],
   "source": [
    "# Employment Type\n",
    "df['EmploymentType'].unique()"
   ]
  },
  {
   "cell_type": "code",
   "execution_count": 48,
   "id": "c12fe866",
   "metadata": {},
   "outputs": [
    {
     "data": {
      "text/plain": [
       "array(['Divorced', 'Married', 'Single'], dtype=object)"
      ]
     },
     "execution_count": 48,
     "metadata": {},
     "output_type": "execute_result"
    }
   ],
   "source": [
    "# Marital Status\n",
    "df['MaritalStatus'].unique()"
   ]
  },
  {
   "cell_type": "code",
   "execution_count": 49,
   "id": "ef046d52",
   "metadata": {},
   "outputs": [
    {
     "data": {
      "text/plain": [
       "array(['Other', 'Auto', 'Business', 'Home', 'Education'], dtype=object)"
      ]
     },
     "execution_count": 49,
     "metadata": {},
     "output_type": "execute_result"
    }
   ],
   "source": [
    "# Loan Purpose\n",
    "df['LoanPurpose'].unique()"
   ]
  },
  {
   "cell_type": "markdown",
   "id": "4c65d767",
   "metadata": {},
   "source": [
    "This is iterated for all object data type variables. \n",
    "\n",
    "For simplicity, any non-binary classification of attributes including Education, Employment Type, Marital Status, and Loan Purpose were removed and not encoded because further analysis is required to order the categories or very complicating interaction terms are required. \n",
    "\n",
    "For example, to determine the order if a Bachelor's or a Master's educated person is more likely to default requires domain knowledge or a much deeper analysis into the dataset because an undergrad student might make less money but also have less debt.\n",
    "\n",
    "Object datatypes that can be classified into binary is encoded and kept below."
   ]
  },
  {
   "cell_type": "code",
   "execution_count": 50,
   "id": "b4dd5a0a",
   "metadata": {},
   "outputs": [
    {
     "data": {
      "text/plain": [
       "array(['Yes', 'No'], dtype=object)"
      ]
     },
     "execution_count": 50,
     "metadata": {},
     "output_type": "execute_result"
    }
   ],
   "source": [
    "# If the debtor has a mortgage\n",
    "df['HasMortgage'].unique()"
   ]
  },
  {
   "cell_type": "code",
   "execution_count": 51,
   "id": "02b6624c",
   "metadata": {},
   "outputs": [
    {
     "data": {
      "text/plain": [
       "array([1, 0])"
      ]
     },
     "execution_count": 51,
     "metadata": {},
     "output_type": "execute_result"
    }
   ],
   "source": [
    "label_encoder = LabelEncoder()\n",
    "df['HasMortgage_enc'] = label_encoder.fit_transform(df['HasMortgage'])\n",
    "df['HasMortgage_enc'].unique()"
   ]
  },
  {
   "cell_type": "code",
   "execution_count": 52,
   "id": "f8287884",
   "metadata": {},
   "outputs": [
    {
     "data": {
      "text/plain": [
       "array(['Yes', 'No'], dtype=object)"
      ]
     },
     "execution_count": 52,
     "metadata": {},
     "output_type": "execute_result"
    }
   ],
   "source": [
    "# If the debtor has dependents\n",
    "df['HasDependents'].unique()"
   ]
  },
  {
   "cell_type": "code",
   "execution_count": 53,
   "id": "957affa3",
   "metadata": {},
   "outputs": [
    {
     "data": {
      "text/plain": [
       "array([1, 0])"
      ]
     },
     "execution_count": 53,
     "metadata": {},
     "output_type": "execute_result"
    }
   ],
   "source": [
    "label_encoder = LabelEncoder()\n",
    "df['HasDependents_enc'] = label_encoder.fit_transform(df['HasDependents'])\n",
    "df['HasDependents_enc'].unique()"
   ]
  },
  {
   "cell_type": "code",
   "execution_count": 54,
   "id": "04e8eaa2",
   "metadata": {},
   "outputs": [
    {
     "data": {
      "text/plain": [
       "array(['Yes', 'No'], dtype=object)"
      ]
     },
     "execution_count": 54,
     "metadata": {},
     "output_type": "execute_result"
    }
   ],
   "source": [
    "# If the debor has a cosigner\n",
    "df['HasCoSigner'].unique()"
   ]
  },
  {
   "cell_type": "code",
   "execution_count": 55,
   "id": "7f2ae24d",
   "metadata": {},
   "outputs": [
    {
     "data": {
      "text/plain": [
       "array([1, 0])"
      ]
     },
     "execution_count": 55,
     "metadata": {},
     "output_type": "execute_result"
    }
   ],
   "source": [
    "label_encoder = LabelEncoder()\n",
    "df['HasCoSigner_enc'] = label_encoder.fit_transform(df['HasCoSigner'])\n",
    "df['HasCoSigner_enc'].unique()"
   ]
  },
  {
   "cell_type": "code",
   "execution_count": 56,
   "id": "3b5d215f",
   "metadata": {},
   "outputs": [],
   "source": [
    "# Remove all object datatype columns (LoanID should be used for machine learning) \n",
    "columns_to_remove = ['LoanID', 'Education', 'EmploymentType', 'MaritalStatus', 'LoanPurpose',\n",
    "                     'HasMortgage', 'HasDependents', 'EmploymentType', 'HasCoSigner', 'LoanPurpose']\n",
    "\n",
    "df.drop(columns_to_remove, axis=1, inplace=True)"
   ]
  },
  {
   "cell_type": "code",
   "execution_count": 57,
   "id": "ac6ecd3d",
   "metadata": {},
   "outputs": [
    {
     "name": "stdout",
     "output_type": "stream",
     "text": [
      "<class 'pandas.core.frame.DataFrame'>\n",
      "RangeIndex: 255347 entries, 0 to 255346\n",
      "Data columns (total 13 columns):\n",
      " #   Column             Non-Null Count   Dtype  \n",
      "---  ------             --------------   -----  \n",
      " 0   Default            255347 non-null  int64  \n",
      " 1   Age                255347 non-null  int64  \n",
      " 2   Income             255347 non-null  int64  \n",
      " 3   LoanAmount         255347 non-null  int64  \n",
      " 4   CreditScore        255347 non-null  int64  \n",
      " 5   MonthsEmployed     255347 non-null  int64  \n",
      " 6   NumCreditLines     255347 non-null  int64  \n",
      " 7   InterestRate       255347 non-null  float64\n",
      " 8   LoanTerm           255347 non-null  int64  \n",
      " 9   DTIRatio           255347 non-null  float64\n",
      " 10  HasMortgage_enc    255347 non-null  int32  \n",
      " 11  HasDependents_enc  255347 non-null  int32  \n",
      " 12  HasCoSigner_enc    255347 non-null  int32  \n",
      "dtypes: float64(2), int32(3), int64(8)\n",
      "memory usage: 22.4 MB\n"
     ]
    }
   ],
   "source": [
    "# Put Default as the first column because it is the targetted attribute for classification\n",
    "first_column = 'Default'\n",
    "\n",
    "# Ensure the column exists in the DataFrame\n",
    "if first_column in df:\n",
    "    # Get the list of column names\n",
    "    columns = df.columns.tolist()\n",
    "\n",
    "    # Move the 'Default' column to the front\n",
    "    columns.remove(first_column)\n",
    "    columns = [first_column] + columns\n",
    "\n",
    "    # Reorder the DataFrame columns\n",
    "    df = df[columns]\n",
    "else:\n",
    "    print(f\"'{first_column}' column not found in the DataFrame.\")\n",
    "df.info()"
   ]
  },
  {
   "cell_type": "markdown",
   "id": "9289a609",
   "metadata": {},
   "source": [
    "It can now be seen that there are no object data type columns and the entire dataset can be used for machine learning. "
   ]
  },
  {
   "cell_type": "markdown",
   "id": "96326554",
   "metadata": {},
   "source": [
    "### EDA"
   ]
  },
  {
   "cell_type": "code",
   "execution_count": 58,
   "id": "92df7e92",
   "metadata": {},
   "outputs": [
    {
     "data": {
      "text/html": [
       "<div>\n",
       "<style scoped>\n",
       "    .dataframe tbody tr th:only-of-type {\n",
       "        vertical-align: middle;\n",
       "    }\n",
       "\n",
       "    .dataframe tbody tr th {\n",
       "        vertical-align: top;\n",
       "    }\n",
       "\n",
       "    .dataframe thead th {\n",
       "        text-align: right;\n",
       "    }\n",
       "</style>\n",
       "<table border=\"1\" class=\"dataframe\">\n",
       "  <thead>\n",
       "    <tr style=\"text-align: right;\">\n",
       "      <th></th>\n",
       "      <th>Default</th>\n",
       "      <th>Age</th>\n",
       "      <th>Income</th>\n",
       "      <th>LoanAmount</th>\n",
       "      <th>CreditScore</th>\n",
       "      <th>MonthsEmployed</th>\n",
       "      <th>NumCreditLines</th>\n",
       "      <th>InterestRate</th>\n",
       "      <th>LoanTerm</th>\n",
       "      <th>DTIRatio</th>\n",
       "      <th>HasMortgage_enc</th>\n",
       "      <th>HasDependents_enc</th>\n",
       "      <th>HasCoSigner_enc</th>\n",
       "    </tr>\n",
       "  </thead>\n",
       "  <tbody>\n",
       "    <tr>\n",
       "      <th>Default</th>\n",
       "      <td>1.000000</td>\n",
       "      <td>-0.167783</td>\n",
       "      <td>-0.099119</td>\n",
       "      <td>0.086659</td>\n",
       "      <td>-0.034166</td>\n",
       "      <td>-0.097374</td>\n",
       "      <td>0.028330</td>\n",
       "      <td>0.131273</td>\n",
       "      <td>0.000545</td>\n",
       "      <td>0.019236</td>\n",
       "      <td>-0.022856</td>\n",
       "      <td>-0.034678</td>\n",
       "      <td>-0.039109</td>\n",
       "    </tr>\n",
       "    <tr>\n",
       "      <th>Age</th>\n",
       "      <td>-0.167783</td>\n",
       "      <td>1.000000</td>\n",
       "      <td>-0.001244</td>\n",
       "      <td>-0.002213</td>\n",
       "      <td>-0.000548</td>\n",
       "      <td>-0.000341</td>\n",
       "      <td>-0.000890</td>\n",
       "      <td>-0.001127</td>\n",
       "      <td>0.000263</td>\n",
       "      <td>-0.004689</td>\n",
       "      <td>0.000035</td>\n",
       "      <td>0.000710</td>\n",
       "      <td>-0.002918</td>\n",
       "    </tr>\n",
       "    <tr>\n",
       "      <th>Income</th>\n",
       "      <td>-0.099119</td>\n",
       "      <td>-0.001244</td>\n",
       "      <td>1.000000</td>\n",
       "      <td>-0.000865</td>\n",
       "      <td>-0.001430</td>\n",
       "      <td>0.002675</td>\n",
       "      <td>-0.002016</td>\n",
       "      <td>-0.002303</td>\n",
       "      <td>-0.000998</td>\n",
       "      <td>0.000205</td>\n",
       "      <td>-0.000945</td>\n",
       "      <td>-0.001570</td>\n",
       "      <td>-0.003524</td>\n",
       "    </tr>\n",
       "    <tr>\n",
       "      <th>LoanAmount</th>\n",
       "      <td>0.086659</td>\n",
       "      <td>-0.002213</td>\n",
       "      <td>-0.000865</td>\n",
       "      <td>1.000000</td>\n",
       "      <td>0.001261</td>\n",
       "      <td>0.002817</td>\n",
       "      <td>0.000794</td>\n",
       "      <td>-0.002291</td>\n",
       "      <td>0.002538</td>\n",
       "      <td>0.001122</td>\n",
       "      <td>-0.000801</td>\n",
       "      <td>0.000139</td>\n",
       "      <td>-0.001848</td>\n",
       "    </tr>\n",
       "    <tr>\n",
       "      <th>CreditScore</th>\n",
       "      <td>-0.034166</td>\n",
       "      <td>-0.000548</td>\n",
       "      <td>-0.001430</td>\n",
       "      <td>0.001261</td>\n",
       "      <td>1.000000</td>\n",
       "      <td>0.000613</td>\n",
       "      <td>0.000016</td>\n",
       "      <td>0.000436</td>\n",
       "      <td>0.001130</td>\n",
       "      <td>-0.001039</td>\n",
       "      <td>0.001728</td>\n",
       "      <td>-0.003018</td>\n",
       "      <td>-0.002755</td>\n",
       "    </tr>\n",
       "    <tr>\n",
       "      <th>MonthsEmployed</th>\n",
       "      <td>-0.097374</td>\n",
       "      <td>-0.000341</td>\n",
       "      <td>0.002675</td>\n",
       "      <td>0.002817</td>\n",
       "      <td>0.000613</td>\n",
       "      <td>1.000000</td>\n",
       "      <td>0.001267</td>\n",
       "      <td>0.000096</td>\n",
       "      <td>-0.001166</td>\n",
       "      <td>0.001765</td>\n",
       "      <td>0.000210</td>\n",
       "      <td>0.001450</td>\n",
       "      <td>0.001045</td>\n",
       "    </tr>\n",
       "    <tr>\n",
       "      <th>NumCreditLines</th>\n",
       "      <td>0.028330</td>\n",
       "      <td>-0.000890</td>\n",
       "      <td>-0.002016</td>\n",
       "      <td>0.000794</td>\n",
       "      <td>0.000016</td>\n",
       "      <td>0.001267</td>\n",
       "      <td>1.000000</td>\n",
       "      <td>-0.000297</td>\n",
       "      <td>-0.000226</td>\n",
       "      <td>-0.000586</td>\n",
       "      <td>-0.001744</td>\n",
       "      <td>-0.001895</td>\n",
       "      <td>0.002105</td>\n",
       "    </tr>\n",
       "    <tr>\n",
       "      <th>InterestRate</th>\n",
       "      <td>0.131273</td>\n",
       "      <td>-0.001127</td>\n",
       "      <td>-0.002303</td>\n",
       "      <td>-0.002291</td>\n",
       "      <td>0.000436</td>\n",
       "      <td>0.000096</td>\n",
       "      <td>-0.000297</td>\n",
       "      <td>1.000000</td>\n",
       "      <td>0.000892</td>\n",
       "      <td>0.000575</td>\n",
       "      <td>-0.000424</td>\n",
       "      <td>-0.000243</td>\n",
       "      <td>-0.003991</td>\n",
       "    </tr>\n",
       "    <tr>\n",
       "      <th>LoanTerm</th>\n",
       "      <td>0.000545</td>\n",
       "      <td>0.000263</td>\n",
       "      <td>-0.000998</td>\n",
       "      <td>0.002538</td>\n",
       "      <td>0.001130</td>\n",
       "      <td>-0.001166</td>\n",
       "      <td>-0.000226</td>\n",
       "      <td>0.000892</td>\n",
       "      <td>1.000000</td>\n",
       "      <td>0.002273</td>\n",
       "      <td>0.001775</td>\n",
       "      <td>0.002417</td>\n",
       "      <td>-0.001166</td>\n",
       "    </tr>\n",
       "    <tr>\n",
       "      <th>DTIRatio</th>\n",
       "      <td>0.019236</td>\n",
       "      <td>-0.004689</td>\n",
       "      <td>0.000205</td>\n",
       "      <td>0.001122</td>\n",
       "      <td>-0.001039</td>\n",
       "      <td>0.001765</td>\n",
       "      <td>-0.000586</td>\n",
       "      <td>0.000575</td>\n",
       "      <td>0.002273</td>\n",
       "      <td>1.000000</td>\n",
       "      <td>0.000231</td>\n",
       "      <td>0.001492</td>\n",
       "      <td>0.000373</td>\n",
       "    </tr>\n",
       "    <tr>\n",
       "      <th>HasMortgage_enc</th>\n",
       "      <td>-0.022856</td>\n",
       "      <td>0.000035</td>\n",
       "      <td>-0.000945</td>\n",
       "      <td>-0.000801</td>\n",
       "      <td>0.001728</td>\n",
       "      <td>0.000210</td>\n",
       "      <td>-0.001744</td>\n",
       "      <td>-0.000424</td>\n",
       "      <td>0.001775</td>\n",
       "      <td>0.000231</td>\n",
       "      <td>1.000000</td>\n",
       "      <td>0.000067</td>\n",
       "      <td>-0.003529</td>\n",
       "    </tr>\n",
       "    <tr>\n",
       "      <th>HasDependents_enc</th>\n",
       "      <td>-0.034678</td>\n",
       "      <td>0.000710</td>\n",
       "      <td>-0.001570</td>\n",
       "      <td>0.000139</td>\n",
       "      <td>-0.003018</td>\n",
       "      <td>0.001450</td>\n",
       "      <td>-0.001895</td>\n",
       "      <td>-0.000243</td>\n",
       "      <td>0.002417</td>\n",
       "      <td>0.001492</td>\n",
       "      <td>0.000067</td>\n",
       "      <td>1.000000</td>\n",
       "      <td>0.001602</td>\n",
       "    </tr>\n",
       "    <tr>\n",
       "      <th>HasCoSigner_enc</th>\n",
       "      <td>-0.039109</td>\n",
       "      <td>-0.002918</td>\n",
       "      <td>-0.003524</td>\n",
       "      <td>-0.001848</td>\n",
       "      <td>-0.002755</td>\n",
       "      <td>0.001045</td>\n",
       "      <td>0.002105</td>\n",
       "      <td>-0.003991</td>\n",
       "      <td>-0.001166</td>\n",
       "      <td>0.000373</td>\n",
       "      <td>-0.003529</td>\n",
       "      <td>0.001602</td>\n",
       "      <td>1.000000</td>\n",
       "    </tr>\n",
       "  </tbody>\n",
       "</table>\n",
       "</div>"
      ],
      "text/plain": [
       "                    Default       Age    Income  LoanAmount  CreditScore  \\\n",
       "Default            1.000000 -0.167783 -0.099119    0.086659    -0.034166   \n",
       "Age               -0.167783  1.000000 -0.001244   -0.002213    -0.000548   \n",
       "Income            -0.099119 -0.001244  1.000000   -0.000865    -0.001430   \n",
       "LoanAmount         0.086659 -0.002213 -0.000865    1.000000     0.001261   \n",
       "CreditScore       -0.034166 -0.000548 -0.001430    0.001261     1.000000   \n",
       "MonthsEmployed    -0.097374 -0.000341  0.002675    0.002817     0.000613   \n",
       "NumCreditLines     0.028330 -0.000890 -0.002016    0.000794     0.000016   \n",
       "InterestRate       0.131273 -0.001127 -0.002303   -0.002291     0.000436   \n",
       "LoanTerm           0.000545  0.000263 -0.000998    0.002538     0.001130   \n",
       "DTIRatio           0.019236 -0.004689  0.000205    0.001122    -0.001039   \n",
       "HasMortgage_enc   -0.022856  0.000035 -0.000945   -0.000801     0.001728   \n",
       "HasDependents_enc -0.034678  0.000710 -0.001570    0.000139    -0.003018   \n",
       "HasCoSigner_enc   -0.039109 -0.002918 -0.003524   -0.001848    -0.002755   \n",
       "\n",
       "                   MonthsEmployed  NumCreditLines  InterestRate  LoanTerm  \\\n",
       "Default                 -0.097374        0.028330      0.131273  0.000545   \n",
       "Age                     -0.000341       -0.000890     -0.001127  0.000263   \n",
       "Income                   0.002675       -0.002016     -0.002303 -0.000998   \n",
       "LoanAmount               0.002817        0.000794     -0.002291  0.002538   \n",
       "CreditScore              0.000613        0.000016      0.000436  0.001130   \n",
       "MonthsEmployed           1.000000        0.001267      0.000096 -0.001166   \n",
       "NumCreditLines           0.001267        1.000000     -0.000297 -0.000226   \n",
       "InterestRate             0.000096       -0.000297      1.000000  0.000892   \n",
       "LoanTerm                -0.001166       -0.000226      0.000892  1.000000   \n",
       "DTIRatio                 0.001765       -0.000586      0.000575  0.002273   \n",
       "HasMortgage_enc          0.000210       -0.001744     -0.000424  0.001775   \n",
       "HasDependents_enc        0.001450       -0.001895     -0.000243  0.002417   \n",
       "HasCoSigner_enc          0.001045        0.002105     -0.003991 -0.001166   \n",
       "\n",
       "                   DTIRatio  HasMortgage_enc  HasDependents_enc  \\\n",
       "Default            0.019236        -0.022856          -0.034678   \n",
       "Age               -0.004689         0.000035           0.000710   \n",
       "Income             0.000205        -0.000945          -0.001570   \n",
       "LoanAmount         0.001122        -0.000801           0.000139   \n",
       "CreditScore       -0.001039         0.001728          -0.003018   \n",
       "MonthsEmployed     0.001765         0.000210           0.001450   \n",
       "NumCreditLines    -0.000586        -0.001744          -0.001895   \n",
       "InterestRate       0.000575        -0.000424          -0.000243   \n",
       "LoanTerm           0.002273         0.001775           0.002417   \n",
       "DTIRatio           1.000000         0.000231           0.001492   \n",
       "HasMortgage_enc    0.000231         1.000000           0.000067   \n",
       "HasDependents_enc  0.001492         0.000067           1.000000   \n",
       "HasCoSigner_enc    0.000373        -0.003529           0.001602   \n",
       "\n",
       "                   HasCoSigner_enc  \n",
       "Default                  -0.039109  \n",
       "Age                      -0.002918  \n",
       "Income                   -0.003524  \n",
       "LoanAmount               -0.001848  \n",
       "CreditScore              -0.002755  \n",
       "MonthsEmployed            0.001045  \n",
       "NumCreditLines            0.002105  \n",
       "InterestRate             -0.003991  \n",
       "LoanTerm                 -0.001166  \n",
       "DTIRatio                  0.000373  \n",
       "HasMortgage_enc          -0.003529  \n",
       "HasDependents_enc         0.001602  \n",
       "HasCoSigner_enc           1.000000  "
      ]
     },
     "execution_count": 58,
     "metadata": {},
     "output_type": "execute_result"
    }
   ],
   "source": [
    "# Generating a Correlation Matrix\n",
    "df.corr()"
   ]
  },
  {
   "cell_type": "code",
   "execution_count": 59,
   "id": "0d39e1db",
   "metadata": {},
   "outputs": [
    {
     "data": {
      "text/plain": [
       "<AxesSubplot:>"
      ]
     },
     "execution_count": 59,
     "metadata": {},
     "output_type": "execute_result"
    },
    {
     "data": {
      "image/png": "[encoded data removed]",
      "text/plain": [
       "<Figure size 1100x900 with 2 Axes>"
      ]
     },
     "metadata": {},
     "output_type": "display_data"
    }
   ],
   "source": [
    "# Generating a Heatmap of the Correlation Matrix\n",
    "\n",
    "sns.set()\n",
    "corr = df.corr()\n",
    "msk = np.triu(np.ones_like(corr, dtype=bool))\n",
    "(f, ax) = plt.subplots(figsize=(11, 9))\n",
    "color_map = sns.diverging_palette(275, 10, as_cmap=True)\n",
    "sns.heatmap(corr, mask = msk, cmap = color_map, center=0, square =True, linewidths=.5, cbar_kws={\"shrink\": .5})"
   ]
  },
  {
   "cell_type": "code",
   "execution_count": 60,
   "id": "295e89af",
   "metadata": {},
   "outputs": [
    {
     "data": {
      "text/plain": [
       "(29653, 225694)"
      ]
     },
     "execution_count": 60,
     "metadata": {},
     "output_type": "execute_result"
    }
   ],
   "source": [
    "# Number of Defaulted Loans vs Non Defaulted Loans\n",
    "defaulted = df[df['Default'] == 1]\n",
    "not_defaulted = df[df['Default'] == 0]\n",
    "\n",
    "defaulted.shape[0], not_defaulted.shape[0]"
   ]
  },
  {
   "cell_type": "code",
   "execution_count": 61,
   "id": "2a1301d4",
   "metadata": {},
   "outputs": [
    {
     "data": {
      "image/png": "[encoded data removed]",
      "text/plain": [
       "<Figure size 600x600 with 1 Axes>"
      ]
     },
     "metadata": {},
     "output_type": "display_data"
    }
   ],
   "source": [
    "labels = ['Defaulted Loans', 'Non-Defaulted Loans']  # Labels for the two values\n",
    "values = [defaulted.shape[0], not_defaulted.shape[0]]\n",
    "\n",
    "# Create a pie chart\n",
    "plt.figure(figsize=(6, 6))  # Set the figure size\n",
    "plt.pie(values, labels=labels, autopct='%1.1f%%', startangle=140)  # Create the pie chart\n",
    "\n",
    "# title\n",
    "plt.title('Defaulted vs Non-Defaulted Loans')\n",
    "\n",
    "# Display pie chart\n",
    "plt.show()"
   ]
  },
  {
   "cell_type": "markdown",
   "id": "927901b9",
   "metadata": {},
   "source": [
    "From the heatmap and correlation matrix, it can be seen that the risk of default is negatively correlated with age, months employed, and income while positively correlated with interest rate, loan amount, and debt to income ratio. However, the scores are all very low with age at -0.167783, indicating that a simple regression model will perform poorly. Generally, all variables are not correlated and not colinear. By identifying that 88.4% of loans are non-default, a baseline model can be created for comparison. Any model created should at least be able to beat a precision score of 0.884 with a recall score of 1 and an f1 score of 0.938 or else it's worse than a model that determines every loan will not default. "
   ]
  },
  {
   "cell_type": "markdown",
   "id": "b4947d3b",
   "metadata": {},
   "source": [
    "## Analysis and Model Building\n",
    "\n",
    "### Polynomial Regression\n",
    "\n",
    "The first model tested is the polynomial regression method. A backward optimization was used below."
   ]
  },
  {
   "cell_type": "code",
   "execution_count": 62,
   "id": "4a4b0a55",
   "metadata": {},
   "outputs": [
    {
     "name": "stdout",
     "output_type": "stream",
     "text": [
      "Default ~ Income + LoanAmount + CreditScore + MonthsEmployed + NumCreditLines + InterestRate + LoanTerm + DTIRatio + HasMortgage_enc + HasDependents_enc + HasCoSigner_enc\n"
     ]
    }
   ],
   "source": [
    "# Creating a formula from a list of columns\n",
    "column_names = df.columns.tolist()\n",
    "\n",
    "factor_columns = column_names[2:]\n",
    "formula_ols = 'Default ~ '\n",
    "\n",
    "for factor in factor_columns:\n",
    "    if formula_ols == 'Default ~ ':\n",
    "        formula_ols += factor\n",
    "    else:\n",
    "        formula_ols = formula_ols + \" + \" + factor\n",
    "\n",
    "print(formula_ols)"
   ]
  },
  {
   "cell_type": "code",
   "execution_count": 63,
   "id": "4e7a991a",
   "metadata": {},
   "outputs": [
    {
     "name": "stdout",
     "output_type": "stream",
     "text": [
      "                            OLS Regression Results                            \n",
      "==============================================================================\n",
      "Dep. Variable:                Default   R-squared:                       0.050\n",
      "Model:                            OLS   Adj. R-squared:                  0.050\n",
      "Method:                 Least Squares   F-statistic:                     1212.\n",
      "Date:                Tue, 17 Oct 2023   Prob (F-statistic):               0.00\n",
      "Time:                        00:25:16   Log-Likelihood:                -65176.\n",
      "No. Observations:              255347   AIC:                         1.304e+05\n",
      "Df Residuals:                  255335   BIC:                         1.305e+05\n",
      "Df Model:                          11                                         \n",
      "Covariance Type:            nonrobust                                         \n",
      "=====================================================================================\n",
      "                        coef    std err          t      P>|t|      [0.025      0.975]\n",
      "-------------------------------------------------------------------------------------\n",
      "Intercept             0.1383      0.004     32.944      0.000       0.130       0.146\n",
      "Income            -8.115e-07   1.59e-08    -51.153      0.000   -8.43e-07    -7.8e-07\n",
      "LoanAmount         3.937e-07   8.73e-09     45.126      0.000    3.77e-07    4.11e-07\n",
      "CreditScore       -6.969e-05   3.89e-06    -17.917      0.000   -7.73e-05   -6.21e-05\n",
      "MonthsEmployed       -0.0009   1.78e-05    -50.443      0.000      -0.001      -0.001\n",
      "NumCreditLines        0.0081      0.001     14.623      0.000       0.007       0.009\n",
      "InterestRate          0.0063   9.31e-05     67.948      0.000       0.006       0.007\n",
      "LoanTerm           1.424e-06   3.64e-05      0.039      0.969      -7e-05    7.28e-05\n",
      "DTIRatio              0.0268      0.003     10.007      0.000       0.022       0.032\n",
      "HasMortgage_enc      -0.0146      0.001    -11.835      0.000      -0.017      -0.012\n",
      "HasDependents_enc    -0.0222      0.001    -17.979      0.000      -0.025      -0.020\n",
      "HasCoSigner_enc      -0.0249      0.001    -20.140      0.000      -0.027      -0.022\n",
      "==============================================================================\n",
      "Omnibus:                   104589.063   Durbin-Watson:                   2.000\n",
      "Prob(Omnibus):                  0.000   Jarque-Bera (JB):           331269.730\n",
      "Skew:                           2.220   Prob(JB):                         0.00\n",
      "Kurtosis:                       6.380   Cond. No.                     1.16e+06\n",
      "==============================================================================\n",
      "\n",
      "Notes:\n",
      "[1] Standard Errors assume that the covariance matrix of the errors is correctly specified.\n",
      "[2] The condition number is large, 1.16e+06. This might indicate that there are\n",
      "strong multicollinearity or other numerical problems.\n"
     ]
    }
   ],
   "source": [
    "# Polynomial Regression Model Building\n",
    "model = smf.ols(formula_ols, data = df).fit()\n",
    "print(model.summary())"
   ]
  },
  {
   "cell_type": "markdown",
   "id": "b9f6cbf7",
   "metadata": {},
   "source": [
    "The results of this model is very poor with an R-Squared value of 0.05. Loan Term needs to be removed because its P Value is over 0.05"
   ]
  },
  {
   "cell_type": "code",
   "execution_count": 64,
   "id": "da05874d",
   "metadata": {},
   "outputs": [
    {
     "name": "stdout",
     "output_type": "stream",
     "text": [
      "                            OLS Regression Results                            \n",
      "==============================================================================\n",
      "Dep. Variable:                Default   R-squared:                       0.050\n",
      "Model:                            OLS   Adj. R-squared:                  0.050\n",
      "Method:                 Least Squares   F-statistic:                     1333.\n",
      "Date:                Tue, 17 Oct 2023   Prob (F-statistic):               0.00\n",
      "Time:                        00:25:16   Log-Likelihood:                -65176.\n",
      "No. Observations:              255347   AIC:                         1.304e+05\n",
      "Df Residuals:                  255336   BIC:                         1.305e+05\n",
      "Df Model:                          10                                         \n",
      "Covariance Type:            nonrobust                                         \n",
      "=====================================================================================\n",
      "                        coef    std err          t      P>|t|      [0.025      0.975]\n",
      "-------------------------------------------------------------------------------------\n",
      "Intercept             0.1383      0.004     34.672      0.000       0.130       0.146\n",
      "Income            -8.115e-07   1.59e-08    -51.154      0.000   -8.43e-07    -7.8e-07\n",
      "LoanAmount         3.937e-07   8.73e-09     45.126      0.000    3.77e-07    4.11e-07\n",
      "CreditScore       -6.969e-05   3.89e-06    -17.917      0.000   -7.73e-05   -6.21e-05\n",
      "MonthsEmployed       -0.0009   1.78e-05    -50.443      0.000      -0.001      -0.001\n",
      "NumCreditLines        0.0081      0.001     14.623      0.000       0.007       0.009\n",
      "InterestRate          0.0063   9.31e-05     67.949      0.000       0.006       0.007\n",
      "DTIRatio              0.0268      0.003     10.007      0.000       0.022       0.032\n",
      "HasMortgage_enc      -0.0146      0.001    -11.835      0.000      -0.017      -0.012\n",
      "HasDependents_enc    -0.0222      0.001    -17.979      0.000      -0.025      -0.020\n",
      "HasCoSigner_enc      -0.0249      0.001    -20.140      0.000      -0.027      -0.022\n",
      "==============================================================================\n",
      "Omnibus:                   104589.065   Durbin-Watson:                   2.000\n",
      "Prob(Omnibus):                  0.000   Jarque-Bera (JB):           331269.740\n",
      "Skew:                           2.220   Prob(JB):                         0.00\n",
      "Kurtosis:                       6.380   Cond. No.                     1.11e+06\n",
      "==============================================================================\n",
      "\n",
      "Notes:\n",
      "[1] Standard Errors assume that the covariance matrix of the errors is correctly specified.\n",
      "[2] The condition number is large, 1.11e+06. This might indicate that there are\n",
      "strong multicollinearity or other numerical problems.\n"
     ]
    }
   ],
   "source": [
    "# Removing Loan Term\n",
    "modified_formula = formula_ols.replace(\"+ LoanTerm \", '')\n",
    "model1 = smf.ols(modified_formula, data = df).fit()\n",
    "print(model1.summary())"
   ]
  },
  {
   "cell_type": "markdown",
   "id": "3ff40aa2",
   "metadata": {},
   "source": [
    "After removing all variables with a P value over 0.05, the model still performs just as poorly. It looks like this method is unsuitable for predicting if a loan will go into default. This could be that Polynomial regression is intended to predict continuous numeric values and not a binary classifier as needed for this ML problem."
   ]
  },
  {
   "cell_type": "markdown",
   "id": "35af5ffc",
   "metadata": {},
   "source": [
    "### Logistic Regression\n",
    "\n",
    "The next ML method used is logistic regression, which is primarily used for classification problems, where the goal is to predict binary or multiclass outcomes (e.g., yes/no, spam/ham, or class labels).\n",
    "\n",
    "The dataset used is split into training and testing data for validating ML model metrics."
   ]
  },
  {
   "cell_type": "code",
   "execution_count": 65,
   "id": "97a5c60b",
   "metadata": {},
   "outputs": [],
   "source": [
    "# Splitting into training and testing datasets\n",
    "\n",
    "x = df.drop('Default', axis=1)\n",
    "y = df['Default']\n",
    "x_train, x_test, y_train, y_test = train_test_split(x, y, test_size = 0.25, random_state = 0)"
   ]
  },
  {
   "cell_type": "code",
   "execution_count": 66,
   "id": "50f65f20",
   "metadata": {},
   "outputs": [
    {
     "name": "stderr",
     "output_type": "stream",
     "text": [
      "C:\\ProgramData\\Anaconda3\\lib\\site-packages\\sklearn\\linear_model\\_logistic.py:814: ConvergenceWarning:\n",
      "\n",
      "lbfgs failed to converge (status=1):\n",
      "STOP: TOTAL NO. of ITERATIONS REACHED LIMIT.\n",
      "\n",
      "Increase the number of iterations (max_iter) or scale the data as shown in:\n",
      "    https://scikit-learn.org/stable/modules/preprocessing.html\n",
      "Please also refer to the documentation for alternative solver options:\n",
      "    https://scikit-learn.org/stable/modules/linear_model.html#logistic-regression\n",
      "\n"
     ]
    }
   ],
   "source": [
    "# Creating a Logistic Regression Model\n",
    "\n",
    "LogReg = LogisticRegression().fit(x_train, y_train)"
   ]
  },
  {
   "cell_type": "code",
   "execution_count": 67,
   "id": "058280b0",
   "metadata": {},
   "outputs": [
    {
     "name": "stdout",
     "output_type": "stream",
     "text": [
      "Precision: 0.6694214876033058\n",
      "Recall: 0.0108\n"
     ]
    }
   ],
   "source": [
    "# Make predictions on the test set\n",
    "y_pred = LogReg.predict(x_test)\n",
    "\n",
    "# Calculate precision and recall\n",
    "precision = precision_score(y_test, y_pred)\n",
    "recall = recall_score(y_test, y_pred)\n",
    "\n",
    "# Print the results\n",
    "print(\"Precision:\", precision)\n",
    "print(\"Recall:\", recall)"
   ]
  },
  {
   "cell_type": "code",
   "execution_count": 68,
   "id": "62d47f9e",
   "metadata": {},
   "outputs": [
    {
     "data": {
      "image/png": "[encoded data removed]",
      "text/plain": [
       "<Figure size 640x480 with 1 Axes>"
      ]
     },
     "metadata": {},
     "output_type": "display_data"
    }
   ],
   "source": [
    "ypredprob = LogReg.predict_proba(x_test)\n",
    "roc_auc = round(roc_auc_score(y_test, ypredprob[:, 1]), 4)\n",
    "fpr, tpr, th = roc_curve(y_test, ypredprob[:, 1])\n",
    "plt.plot(fpr, tpr, color = \"blue\")\n",
    "plt.plot(np.arange(0, 1.1, 0.1), np.arange(0, 1.1, 0.1), color = \"red\", linestyle = \"dashed\")\n",
    "plt.text(x = 0.7, y = 0.2, s = \"AUC = \" + str(roc_auc))\n",
    "plt.xlabel(\"False Positive Rate\")\n",
    "plt.ylabel(\"True Positive Rate\")\n",
    "plt.title(\"ROC Curve\")\n",
    "plt.show()"
   ]
  },
  {
   "cell_type": "markdown",
   "id": "f6ddd017",
   "metadata": {},
   "source": [
    "From the precision and recall metrics, it looks like the logistic regression method is also a poor choice for this problem as the model is not even able to recall 0.05% of loan defaults. This is likely because the model has a linear decision boundary which is problematic if the relationship between predictors and the outcome is nonlinear which occurs in this case as seen from the correlation matrix."
   ]
  },
  {
   "cell_type": "markdown",
   "id": "d7ccfca4",
   "metadata": {},
   "source": [
    "## Decision Tree Classifier\n",
    "\n",
    "The next ML method to test is the decision tree method which can model complex, nonlinear relationships in the data.\n",
    "Three decision tree methods are going to be used including a \n",
    "- default decision tree classifier\n",
    "- random forest\n",
    "- adaboost classifier"
   ]
  },
  {
   "cell_type": "markdown",
   "id": "9552e746",
   "metadata": {},
   "source": [
    "### Default decision tree classifier"
   ]
  },
  {
   "cell_type": "code",
   "execution_count": 69,
   "id": "7b752f5c",
   "metadata": {},
   "outputs": [
    {
     "name": "stdout",
     "output_type": "stream",
     "text": [
      "Decision Tree Classifier Results:\n",
      "Accuracy: 0.802919936713818\n",
      "Confusion Matrix:\n",
      " [[49518  6819]\n",
      " [ 5762  1738]]\n",
      "Classification Report:\n",
      "               precision    recall  f1-score   support\n",
      "\n",
      "           0       0.90      0.88      0.89     56337\n",
      "           1       0.20      0.23      0.22      7500\n",
      "\n",
      "    accuracy                           0.80     63837\n",
      "   macro avg       0.55      0.56      0.55     63837\n",
      "weighted avg       0.81      0.80      0.81     63837\n",
      "\n"
     ]
    }
   ],
   "source": [
    "# Initialize and train a decision tree classifier\n",
    "decision_tree = DecisionTreeClassifier()\n",
    "decision_tree.fit(x_train, y_train)\n",
    "\n",
    "# Make predictions on the test set\n",
    "y_pred_dt = decision_tree.predict(x_test)\n",
    "\n",
    "# Evaluate the decision tree model\n",
    "accuracy_dt = accuracy_score(y_test, y_pred_dt)\n",
    "conf_matrix_dt = confusion_matrix(y_test, y_pred_dt)\n",
    "classification_report_dt = classification_report(y_test, y_pred_dt)\n",
    "\n",
    "print(\"Decision Tree Classifier Results:\")\n",
    "print(f\"Accuracy: {accuracy_dt}\")\n",
    "print(\"Confusion Matrix:\\n\", conf_matrix_dt)\n",
    "print(\"Classification Report:\\n\", classification_report_dt)"
   ]
  },
  {
   "cell_type": "markdown",
   "id": "5cc3c454",
   "metadata": {},
   "source": [
    "From the classification report, it looks like a default decision tree performs significantly better than logistic regression increasing the recall of defaults to ~23%. However, the model is still very unreliable with a precision score of ~20% for defaults."
   ]
  },
  {
   "cell_type": "markdown",
   "id": "b3b5abec",
   "metadata": {},
   "source": [
    "### Random Forest"
   ]
  },
  {
   "cell_type": "code",
   "execution_count": 70,
   "id": "801dda18",
   "metadata": {},
   "outputs": [
    {
     "name": "stdout",
     "output_type": "stream",
     "text": [
      "\n",
      "Random Forest Classifier Results:\n",
      "Accuracy: 0.884173755032348\n",
      "Confusion Matrix:\n",
      " [[56087   250]\n",
      " [ 7144   356]]\n",
      "Classification Report:\n",
      "               precision    recall  f1-score   support\n",
      "\n",
      "           0       0.89      1.00      0.94     56337\n",
      "           1       0.59      0.05      0.09      7500\n",
      "\n",
      "    accuracy                           0.88     63837\n",
      "   macro avg       0.74      0.52      0.51     63837\n",
      "weighted avg       0.85      0.88      0.84     63837\n",
      "\n"
     ]
    }
   ],
   "source": [
    "# Initialize and train a random forest classifier\n",
    "random_forest = RandomForestClassifier()\n",
    "random_forest.fit(x_train, y_train)\n",
    "\n",
    "# Make predictions on the test set\n",
    "y_pred_rf = random_forest.predict(x_test)\n",
    "\n",
    "# Evaluate the random forest model\n",
    "accuracy_rf = accuracy_score(y_test, y_pred_rf)\n",
    "conf_matrix_rf = confusion_matrix(y_test, y_pred_rf)\n",
    "classification_report_rf = classification_report(y_test, y_pred_rf)\n",
    "\n",
    "print(\"\\nRandom Forest Classifier Results:\")\n",
    "print(f\"Accuracy: {accuracy_rf}\")\n",
    "print(\"Confusion Matrix:\\n\", conf_matrix_rf)\n",
    "print(\"Classification Report:\\n\", classification_report_rf)"
   ]
  },
  {
   "cell_type": "markdown",
   "id": "b3dc0c6f",
   "metadata": {},
   "source": [
    "From the classification report, it looks like the random forest performs worse than the default decision tree classifier, being able to only recall ~5% of defaults but increaing the precision of predicting defaults to ~59%."
   ]
  },
  {
   "cell_type": "markdown",
   "id": "a551c1bc",
   "metadata": {},
   "source": [
    "### AdaBoost Classifier"
   ]
  },
  {
   "cell_type": "code",
   "execution_count": 71,
   "id": "ab3b34ca",
   "metadata": {},
   "outputs": [
    {
     "name": "stdout",
     "output_type": "stream",
     "text": [
      "AdaBoost Classifier Results:\n",
      "Accuracy: 0.8023873302316838\n",
      "Confusion Matrix:\n",
      " [[49520  6817]\n",
      " [ 5798  1702]]\n",
      "Classification Report:\n",
      "               precision    recall  f1-score   support\n",
      "\n",
      "           0       0.90      0.88      0.89     56337\n",
      "           1       0.20      0.23      0.21      7500\n",
      "\n",
      "    accuracy                           0.80     63837\n",
      "   macro avg       0.55      0.55      0.55     63837\n",
      "weighted avg       0.81      0.80      0.81     63837\n",
      "\n"
     ]
    }
   ],
   "source": [
    "# Initialize and train a decision tree and adaboost classifier\n",
    "base_classifier = DecisionTreeClassifier()\n",
    "adaboost_model = AdaBoostClassifier(base_classifier, n_estimators=50)\n",
    "adaboost_model.fit(x_train, y_train)\n",
    "\n",
    "# Make predictions on the test set\n",
    "y_pred = adaboost_model.predict(x_test)\n",
    "\n",
    "# Evaluate the AdaBoost model\n",
    "accuracy = accuracy_score(y_test, y_pred)\n",
    "conf_matrix = confusion_matrix(y_test, y_pred)\n",
    "report = classification_report(y_test, y_pred)\n",
    "\n",
    "print(\"AdaBoost Classifier Results:\")\n",
    "print(f\"Accuracy: {accuracy}\")\n",
    "print(\"Confusion Matrix:\\n\", conf_matrix)\n",
    "print(\"Classification Report:\\n\", report)"
   ]
  },
  {
   "cell_type": "markdown",
   "id": "2daa3be5",
   "metadata": {},
   "source": [
    "From the classification report, it looks like the Adaboost classifier performs very similar to the default decision tree classifier.\n",
    "\n",
    "While the adaboost forest method is an improvment from logistic regression and polynomial regression, a ~23% recall rate of loan defaults is still very unreliable."
   ]
  },
  {
   "cell_type": "markdown",
   "id": "a812128f",
   "metadata": {},
   "source": [
    "## Neural Network"
   ]
  },
  {
   "cell_type": "markdown",
   "id": "996baf9f",
   "metadata": {},
   "source": [
    "Neural networks are highly flexible and can learn complex non-linear relationships in the data. Because they consist of multiple layers of interconnected neurons, they can model intricate patterns. The method used in this analysis is a sequential keras model. The sequential model builds neural networks in a sequential, layer by layer method.\n",
    "\n",
    "The first layers added are set at Rectified Linear Unit (relu) which is one if the most popular activation functions and is computationally efficient. The second layer added are set at sigmoid activation which squashes the output to the range of 0 - 1 and is commonly used in binary classification problems. "
   ]
  },
  {
   "cell_type": "code",
   "execution_count": 106,
   "id": "e2e02d79",
   "metadata": {},
   "outputs": [
    {
     "name": "stdout",
     "output_type": "stream",
     "text": [
      "Epoch 1/10\n",
      "5387/5387 [==============================] - 5s 857us/step - loss: 0.3233 - accuracy: 0.8831 - val_loss: 0.3169 - val_accuracy: 0.8867\n",
      "Epoch 2/10\n",
      "5387/5387 [==============================] - 5s 877us/step - loss: 0.3161 - accuracy: 0.8857 - val_loss: 0.3144 - val_accuracy: 0.8865\n",
      "Epoch 3/10\n",
      "5387/5387 [==============================] - 5s 894us/step - loss: 0.3152 - accuracy: 0.8858 - val_loss: 0.3142 - val_accuracy: 0.8859\n",
      "Epoch 4/10\n",
      "5387/5387 [==============================] - 4s 821us/step - loss: 0.3149 - accuracy: 0.8860 - val_loss: 0.3140 - val_accuracy: 0.8862\n",
      "Epoch 5/10\n",
      "5387/5387 [==============================] - 4s 822us/step - loss: 0.3145 - accuracy: 0.8863 - val_loss: 0.3137 - val_accuracy: 0.8874\n",
      "Epoch 6/10\n",
      "5387/5387 [==============================] - 4s 821us/step - loss: 0.3143 - accuracy: 0.8861 - val_loss: 0.3134 - val_accuracy: 0.8865\n",
      "Epoch 7/10\n",
      "5387/5387 [==============================] - 4s 823us/step - loss: 0.3141 - accuracy: 0.8865 - val_loss: 0.3130 - val_accuracy: 0.8873\n",
      "Epoch 8/10\n",
      "5387/5387 [==============================] - 4s 822us/step - loss: 0.3140 - accuracy: 0.8862 - val_loss: 0.3135 - val_accuracy: 0.8873\n",
      "Epoch 9/10\n",
      "5387/5387 [==============================] - 4s 823us/step - loss: 0.3139 - accuracy: 0.8862 - val_loss: 0.3131 - val_accuracy: 0.8866\n",
      "Epoch 10/10\n",
      "5387/5387 [==============================] - 4s 821us/step - loss: 0.3138 - accuracy: 0.8863 - val_loss: 0.3137 - val_accuracy: 0.8870\n",
      "1995/1995 [==============================] - 1s 549us/step\n",
      "0.884346068894215\n",
      "0.5615141955835962\n",
      "0.0712\n",
      "0.12637557685481007\n",
      "[[55920   417]\n",
      " [ 6966   534]]\n",
      "              precision    recall  f1-score   support\n",
      "\n",
      "           0       0.89      0.99      0.94     56337\n",
      "           1       0.56      0.07      0.13      7500\n",
      "\n",
      "    accuracy                           0.88     63837\n",
      "   macro avg       0.73      0.53      0.53     63837\n",
      "weighted avg       0.85      0.88      0.84     63837\n",
      "\n"
     ]
    }
   ],
   "source": [
    "from sklearn.metrics import accuracy_score, precision_score, recall_score, f1_score, confusion_matrix\n",
    "\n",
    "# Set a random seed for TensorFlow\n",
    "np.random.seed(0)\n",
    "tf.random.set_seed(0)\n",
    "\n",
    "# Normalizing features\n",
    "X = (x - x.mean()) / x.std()\n",
    "X_train, X_test, y_train, y_test = train_test_split(X, y, test_size=0.25, random_state = 0)\n",
    "\n",
    "# Initializing Keras Sequential Model\n",
    "\n",
    "model = keras.Sequential()\n",
    "model.add(layers.Dense(64, activation='relu', input_shape=(X_train.shape[1],)))\n",
    "model.add(layers.Dense(1, activation='sigmoid'))\n",
    "\n",
    "# Compiling the model\n",
    "model.compile(optimizer='adam', loss='binary_crossentropy', metrics=['accuracy'])\n",
    "\n",
    "# Fitting the model to the training datset\n",
    "model.fit(X_train, y_train, epochs=10, batch_size=32, validation_split=0.1)\n",
    "\n",
    "# Creating predictions for validation\n",
    "y_pred = model.predict(X_test)\n",
    "# Classifying forecast values so that values greater than 0.5 counts as a default (1), \n",
    "# and values less than 0.5 counts as not at risk for default (0)\n",
    "y_pred = (y_pred > 0.5)\n",
    "\n",
    "# Example for classification\n",
    "accuracy = accuracy_score(y_test, y_pred)\n",
    "precision = precision_score(y_test, y_pred)\n",
    "recall = recall_score(y_test, y_pred)\n",
    "f1 = f1_score(y_test, y_pred)\n",
    "conf_matrix = confusion_matrix(y_test, y_pred)\n",
    "report = classification_report(y_test, y_pred)\n",
    "\n",
    "print(accuracy)\n",
    "print(precision)\n",
    "print(recall)\n",
    "print(f1)\n",
    "print(conf_matrix)\n",
    "print(report)"
   ]
  },
  {
   "cell_type": "markdown",
   "id": "0c508a9c",
   "metadata": {},
   "source": [
    "From first glance, this model looks poor being only able to recall 3% of loan defaults and performs very similarily to the random forest classifier. \n",
    "\n",
    "However, the user is able to set \"y_pred = (y_pred > 0.5)\" at a different level than 0.5. \n",
    "Values between 0 to 0.8 in increments of 0.005 will be tested in order to maximize the recall of loan defaults while minimizing loss of recall for loans that do not default."
   ]
  },
  {
   "cell_type": "code",
   "execution_count": 107,
   "id": "5b106516",
   "metadata": {},
   "outputs": [
    {
     "name": "stdout",
     "output_type": "stream",
     "text": [
      "0.0\n",
      "1995/1995 [==============================] - 1s 561us/step\n",
      "0.005\n",
      " 183/1995 [=>............................] - ETA: 1s"
     ]
    },
    {
     "name": "stderr",
     "output_type": "stream",
     "text": [
      "C:\\ProgramData\\Anaconda3\\lib\\site-packages\\sklearn\\metrics\\_classification.py:1318: UndefinedMetricWarning:\n",
      "\n",
      "Precision and F-score are ill-defined and being set to 0.0 in labels with no predicted samples. Use `zero_division` parameter to control this behavior.\n",
      "\n",
      "C:\\ProgramData\\Anaconda3\\lib\\site-packages\\sklearn\\metrics\\_classification.py:1318: UndefinedMetricWarning:\n",
      "\n",
      "Precision and F-score are ill-defined and being set to 0.0 in labels with no predicted samples. Use `zero_division` parameter to control this behavior.\n",
      "\n",
      "C:\\ProgramData\\Anaconda3\\lib\\site-packages\\sklearn\\metrics\\_classification.py:1318: UndefinedMetricWarning:\n",
      "\n",
      "Precision and F-score are ill-defined and being set to 0.0 in labels with no predicted samples. Use `zero_division` parameter to control this behavior.\n",
      "\n"
     ]
    },
    {
     "name": "stdout",
     "output_type": "stream",
     "text": [
      "1995/1995 [==============================] - 1s 556us/step\n",
      "0.01\n",
      "1995/1995 [==============================] - 1s 559us/step\n",
      "0.015\n",
      "1995/1995 [==============================] - 1s 555us/step\n",
      "0.02\n",
      "1995/1995 [==============================] - 1s 560us/step\n",
      "0.025\n",
      "1995/1995 [==============================] - 1s 557us/step\n",
      "0.03\n",
      "1995/1995 [==============================] - 1s 559us/step\n",
      "0.035\n",
      "1995/1995 [==============================] - 1s 563us/step\n",
      "0.04\n",
      "1995/1995 [==============================] - 1s 556us/step\n",
      "0.045\n",
      "1995/1995 [==============================] - 1s 558us/step\n",
      "0.05\n",
      "1995/1995 [==============================] - 1s 558us/step\n",
      "0.055\n",
      "1995/1995 [==============================] - 1s 553us/step\n",
      "0.06\n",
      "1995/1995 [==============================] - 1s 563us/step\n",
      "0.065\n",
      "1995/1995 [==============================] - 1s 554us/step\n",
      "0.07\n",
      "1995/1995 [==============================] - 1s 556us/step\n",
      "0.075\n",
      "1995/1995 [==============================] - 1s 553us/step\n",
      "0.08\n",
      "1995/1995 [==============================] - 1s 552us/step\n",
      "0.085\n",
      "1995/1995 [==============================] - 1s 564us/step\n",
      "0.09\n",
      "1995/1995 [==============================] - 1s 554us/step\n",
      "0.095\n",
      "1995/1995 [==============================] - 1s 553us/step\n",
      "0.1\n",
      "1995/1995 [==============================] - 1s 553us/step\n",
      "0.105\n",
      "1995/1995 [==============================] - 1s 552us/step\n",
      "0.11\n",
      "1995/1995 [==============================] - 1s 552us/step\n",
      "0.115\n",
      "1995/1995 [==============================] - 1s 552us/step\n",
      "0.12\n",
      "1995/1995 [==============================] - 1s 561us/step\n",
      "0.125\n",
      "1995/1995 [==============================] - 1s 552us/step\n",
      "0.13\n",
      "1995/1995 [==============================] - 1s 551us/step\n",
      "0.135\n",
      "1995/1995 [==============================] - 1s 552us/step\n",
      "0.14\n",
      "1995/1995 [==============================] - 1s 715us/step\n",
      "0.145\n",
      "1995/1995 [==============================] - 1s 618us/step\n",
      "0.15\n",
      "1995/1995 [==============================] - 1s 554us/step\n",
      "0.155\n",
      "1995/1995 [==============================] - 1s 549us/step\n",
      "0.16\n",
      "1995/1995 [==============================] - 1s 552us/step\n",
      "0.165\n",
      "1995/1995 [==============================] - 1s 623us/step\n",
      "0.17\n",
      "1995/1995 [==============================] - 1s 605us/step\n",
      "0.175\n",
      "1995/1995 [==============================] - 1s 578us/step\n",
      "0.18\n",
      "1995/1995 [==============================] - 1s 578us/step\n",
      "0.185\n",
      "1995/1995 [==============================] - 1s 588us/step\n",
      "0.19\n",
      "1995/1995 [==============================] - 1s 574us/step\n",
      "0.195\n",
      "1995/1995 [==============================] - 1s 588us/step\n",
      "0.2\n",
      "1995/1995 [==============================] - 1s 553us/step\n",
      "0.205\n",
      "1995/1995 [==============================] - 1s 556us/step\n",
      "0.21\n",
      "1995/1995 [==============================] - 1s 562us/step\n",
      "0.215\n",
      "1995/1995 [==============================] - 1s 605us/step\n",
      "0.22\n",
      "1995/1995 [==============================] - 1s 623us/step\n",
      "0.225\n",
      "1995/1995 [==============================] - 1s 579us/step\n",
      "0.23\n",
      "1995/1995 [==============================] - 1s 554us/step\n",
      "0.235\n",
      "1995/1995 [==============================] - 1s 566us/step\n",
      "0.24\n",
      "1995/1995 [==============================] - 1s 563us/step\n",
      "0.245\n",
      "1995/1995 [==============================] - 1s 551us/step\n",
      "0.25\n",
      "1995/1995 [==============================] - 1s 554us/step\n",
      "0.255\n",
      "1995/1995 [==============================] - 1s 553us/step\n",
      "0.26\n",
      "1995/1995 [==============================] - 1s 552us/step\n",
      "0.265\n",
      "1995/1995 [==============================] - 1s 564us/step\n",
      "0.27\n",
      "1995/1995 [==============================] - 1s 562us/step\n",
      "0.275\n",
      "1995/1995 [==============================] - 1s 559us/step\n",
      "0.28\n",
      "1995/1995 [==============================] - 1s 554us/step\n",
      "0.285\n",
      "1995/1995 [==============================] - 1s 555us/step\n",
      "0.29\n",
      "1995/1995 [==============================] - 1s 553us/step\n",
      "0.295\n",
      "1995/1995 [==============================] - 1s 551us/step\n",
      "0.3\n",
      "1995/1995 [==============================] - 1s 561us/step\n",
      "0.305\n",
      "1995/1995 [==============================] - 1s 560us/step\n",
      "0.31\n",
      "1995/1995 [==============================] - 1s 555us/step\n",
      "0.315\n",
      "1995/1995 [==============================] - 1s 553us/step\n",
      "0.32\n",
      "1995/1995 [==============================] - 1s 553us/step\n",
      "0.325\n",
      "1995/1995 [==============================] - 1s 554us/step\n",
      "0.33\n",
      "1995/1995 [==============================] - 1s 557us/step\n",
      "0.335\n",
      "1995/1995 [==============================] - 1s 554us/step\n",
      "0.34\n",
      "1995/1995 [==============================] - 1s 553us/step\n",
      "0.345\n",
      "1995/1995 [==============================] - 1s 553us/step\n",
      "0.35\n",
      "1995/1995 [==============================] - 1s 560us/step\n",
      "0.355\n",
      "1995/1995 [==============================] - 1s 552us/step\n",
      "0.36\n",
      "1995/1995 [==============================] - 1s 559us/step\n",
      "0.365\n",
      "1995/1995 [==============================] - 1s 559us/step\n",
      "0.37\n",
      "1995/1995 [==============================] - 1s 557us/step\n",
      "0.375\n",
      "1995/1995 [==============================] - 1s 552us/step\n",
      "0.38\n",
      "1995/1995 [==============================] - 1s 552us/step\n",
      "0.385\n",
      "1995/1995 [==============================] - 1s 554us/step\n",
      "0.39\n",
      "1995/1995 [==============================] - 1s 552us/step\n",
      "0.395\n",
      "1995/1995 [==============================] - 1s 550us/step\n",
      "0.4\n",
      "1995/1995 [==============================] - 1s 551us/step\n",
      "0.405\n",
      "1995/1995 [==============================] - 1s 669us/step\n",
      "0.41\n",
      "1995/1995 [==============================] - 1s 688us/step\n",
      "0.415\n",
      "1995/1995 [==============================] - 1s 576us/step\n",
      "0.42\n",
      "1995/1995 [==============================] - 1s 554us/step\n",
      "0.425\n",
      "1995/1995 [==============================] - 1s 550us/step\n",
      "0.43\n",
      "1995/1995 [==============================] - 1s 553us/step\n",
      "0.435\n",
      "1995/1995 [==============================] - 1s 553us/step\n",
      "0.44\n",
      "1995/1995 [==============================] - 1s 559us/step\n",
      "0.445\n",
      "1995/1995 [==============================] - 1s 560us/step\n",
      "0.45\n",
      "1995/1995 [==============================] - 1s 575us/step\n",
      "0.455\n",
      "1995/1995 [==============================] - 1s 550us/step\n",
      "0.46\n",
      "1995/1995 [==============================] - 1s 553us/step\n",
      "0.465\n",
      "1995/1995 [==============================] - 1s 551us/step\n",
      "0.47\n",
      "1995/1995 [==============================] - 1s 558us/step\n",
      "0.475\n",
      "1995/1995 [==============================] - 1s 553us/step\n",
      "0.48\n",
      "1995/1995 [==============================] - 1s 557us/step\n",
      "0.485\n",
      "1995/1995 [==============================] - 1s 560us/step\n",
      "0.49\n",
      "1995/1995 [==============================] - 1s 551us/step\n",
      "0.495\n",
      "1995/1995 [==============================] - 1s 552us/step\n",
      "0.5\n",
      "1995/1995 [==============================] - 1s 554us/step\n",
      "0.505\n",
      "1995/1995 [==============================] - 1s 550us/step\n",
      "0.51\n",
      "1995/1995 [==============================] - 1s 554us/step\n",
      "0.515\n",
      "1995/1995 [==============================] - 1s 551us/step\n",
      "0.52\n",
      "1995/1995 [==============================] - 1s 560us/step\n",
      "0.525\n",
      "1995/1995 [==============================] - 1s 552us/step\n",
      "0.53\n",
      "1995/1995 [==============================] - 1s 555us/step\n",
      "0.535\n",
      "1995/1995 [==============================] - 1s 560us/step\n",
      "0.54\n",
      "1995/1995 [==============================] - 1s 554us/step\n",
      "0.545\n",
      "1995/1995 [==============================] - 1s 554us/step\n",
      "0.55\n",
      "1995/1995 [==============================] - 1s 559us/step\n",
      "0.555\n",
      "1995/1995 [==============================] - 1s 554us/step\n",
      "0.56\n",
      "1995/1995 [==============================] - 1s 570us/step\n",
      "0.565\n",
      "1995/1995 [==============================] - 1s 557us/step\n",
      "0.57\n",
      "1995/1995 [==============================] - 1s 557us/step\n",
      "0.575\n",
      "1995/1995 [==============================] - 1s 560us/step\n",
      "0.58\n",
      "1995/1995 [==============================] - 1s 556us/step\n",
      "0.585\n",
      "1995/1995 [==============================] - 1s 553us/step\n",
      "0.59\n",
      "1995/1995 [==============================] - 1s 553us/step\n",
      "0.595\n",
      "1995/1995 [==============================] - 1s 554us/step\n",
      "0.6\n",
      "1995/1995 [==============================] - 1s 572us/step\n",
      "0.605\n",
      "1995/1995 [==============================] - 1s 556us/step\n",
      "0.61\n",
      "1995/1995 [==============================] - 1s 561us/step\n",
      "0.615\n",
      "1995/1995 [==============================] - 1s 552us/step\n",
      "0.62\n",
      "1995/1995 [==============================] - 1s 584us/step\n",
      "0.625\n",
      "1995/1995 [==============================] - 1s 573us/step\n",
      "0.63\n",
      "1995/1995 [==============================] - 1s 557us/step\n",
      "0.635\n",
      "1995/1995 [==============================] - 1s 590us/step\n",
      "0.64\n",
      "1995/1995 [==============================] - 1s 559us/step\n",
      "0.645\n",
      "1995/1995 [==============================] - 1s 553us/step\n",
      "0.65\n",
      "1995/1995 [==============================] - 1s 560us/step\n",
      "0.655\n",
      "1995/1995 [==============================] - 1s 554us/step\n",
      "0.66\n",
      "1995/1995 [==============================] - 1s 581us/step\n",
      "0.665\n",
      "1995/1995 [==============================] - 1s 556us/step\n",
      "0.67\n",
      "1995/1995 [==============================] - 1s 582us/step\n",
      "0.675\n",
      "1995/1995 [==============================] - 1s 564us/step\n",
      "0.68\n",
      "1995/1995 [==============================] - 1s 553us/step\n",
      "0.685\n",
      "1995/1995 [==============================] - 1s 559us/step\n",
      "0.69\n",
      "1995/1995 [==============================] - 1s 552us/step\n",
      "0.695\n",
      "1995/1995 [==============================] - 1s 551us/step\n",
      "0.7\n",
      "1995/1995 [==============================] - 1s 550us/step\n",
      "0.705\n",
      "1995/1995 [==============================] - 1s 564us/step\n",
      "0.71\n",
      "1995/1995 [==============================] - 1s 559us/step\n",
      "0.715\n",
      "1995/1995 [==============================] - 1s 552us/step\n",
      "0.72\n",
      "1995/1995 [==============================] - 1s 553us/step\n",
      "0.725\n",
      "1995/1995 [==============================] - 1s 553us/step\n",
      "0.73\n",
      "1995/1995 [==============================] - 1s 550us/step\n",
      "0.735\n",
      "1995/1995 [==============================] - 1s 552us/step\n",
      "0.74\n",
      "1995/1995 [==============================] - 1s 558us/step\n",
      "0.745\n",
      "1995/1995 [==============================] - 1s 551us/step\n",
      "0.75\n",
      "1995/1995 [==============================] - 1s 556us/step\n",
      "0.755\n",
      "1995/1995 [==============================] - 1s 553us/step\n",
      "0.76\n",
      "1995/1995 [==============================] - 1s 551us/step\n",
      "0.765\n",
      "1995/1995 [==============================] - 1s 555us/step\n",
      "0.77\n",
      "1995/1995 [==============================] - 1s 551us/step\n",
      "0.775\n",
      "1995/1995 [==============================] - 1s 552us/step\n",
      "0.78\n",
      "1995/1995 [==============================] - 1s 552us/step\n",
      "0.785\n",
      "1995/1995 [==============================] - 1s 553us/step\n",
      "0.79\n",
      "1995/1995 [==============================] - 1s 552us/step\n",
      "0.795\n",
      "1995/1995 [==============================] - 1s 553us/step\n",
      "0.8\n",
      "1995/1995 [==============================] - 1s 550us/step\n"
     ]
    }
   ],
   "source": [
    "# Testing values 0 - 0.8 in increments of 0.005 in order to classify if a loan will default. \n",
    "\n",
    "zero_recall = []\n",
    "one_recall = []\n",
    "\n",
    "zero_precision = []\n",
    "one_precision = []\n",
    "\n",
    "zero_f1 = []\n",
    "one_f1 = []\n",
    "\n",
    "true_negative = []\n",
    "false_negative = []\n",
    "\n",
    "weighted_avg = []\n",
    "y_pred_set = []\n",
    "\n",
    "\n",
    "for i in range(0, 161):\n",
    "    print(str(i/200))\n",
    "    y_pred = model.predict(X_test)\n",
    "    y_pred = (y_pred > i/200)\n",
    "    accuracy = accuracy_score(y_test, y_pred)\n",
    "    precision = precision_score(y_test, y_pred)\n",
    "    recall = recall_score(y_test, y_pred)\n",
    "    f1 = f1_score(y_test, y_pred)\n",
    "    conf_matrix = confusion_matrix(y_test, y_pred)\n",
    "    report = classification_report(y_test, y_pred, output_dict=True)\n",
    "    zero_recall += [report['0']['recall']]\n",
    "    one_recall += [report['1']['recall']]\n",
    "    zero_precision += [report['0']['precision']]\n",
    "    one_precision += [report['1']['precision']]\n",
    "    zero_f1 += [report['0']['f1-score']]\n",
    "    one_f1 += [report['1']['f1-score']]\n",
    "    true_negative += [conf_matrix[0][0]]\n",
    "    false_negative += [conf_matrix[1][0]]\n",
    "    weighted_avg += [report['weighted avg']['f1-score']]\n",
    "    y_pred_set += [i/200]\n",
    "\n",
    "dtf_lis = {'Default Score': y_pred_set, 'Recall 0': zero_recall, \n",
    "           'Recall 1': one_recall, 'Precision 0': zero_precision, \n",
    "           'Precision 1': one_precision, 'F1 0': zero_f1, 'F1 1': one_f1,\n",
    "          'True Negative': true_negative, 'False Negative': false_negative,\n",
    "          'Weighted Average F1': weighted_avg}\n",
    "\n",
    "dtf = pd.DataFrame(dtf_lis)"
   ]
  },
  {
   "cell_type": "code",
   "execution_count": 108,
   "id": "3c4d0fb5",
   "metadata": {},
   "outputs": [
    {
     "data": {
      "text/plain": [
       "63837"
      ]
     },
     "execution_count": 108,
     "metadata": {},
     "output_type": "execute_result"
    }
   ],
   "source": [
    "len(y_pred)"
   ]
  },
  {
   "cell_type": "code",
   "execution_count": 114,
   "id": "f6850170",
   "metadata": {},
   "outputs": [
    {
     "data": {
      "text/plain": [
       "13.492773480792886"
      ]
     },
     "execution_count": 114,
     "metadata": {},
     "output_type": "execute_result"
    }
   ],
   "source": [
    "# Average Interest Rate\n",
    "\n",
    "df['InterestRate'].mean()"
   ]
  },
  {
   "cell_type": "code",
   "execution_count": 115,
   "id": "12d429c3",
   "metadata": {},
   "outputs": [
    {
     "data": {
      "text/html": [
       "<div>\n",
       "<style scoped>\n",
       "    .dataframe tbody tr th:only-of-type {\n",
       "        vertical-align: middle;\n",
       "    }\n",
       "\n",
       "    .dataframe tbody tr th {\n",
       "        vertical-align: top;\n",
       "    }\n",
       "\n",
       "    .dataframe thead th {\n",
       "        text-align: right;\n",
       "    }\n",
       "</style>\n",
       "<table border=\"1\" class=\"dataframe\">\n",
       "  <thead>\n",
       "    <tr style=\"text-align: right;\">\n",
       "      <th></th>\n",
       "      <th>Default Score</th>\n",
       "      <th>Recall 0</th>\n",
       "      <th>Recall 1</th>\n",
       "      <th>Precision 0</th>\n",
       "      <th>Precision 1</th>\n",
       "      <th>F1 0</th>\n",
       "      <th>F1 1</th>\n",
       "      <th>True Negative</th>\n",
       "      <th>False Negative</th>\n",
       "      <th>Weighted Average F1</th>\n",
       "      <th>Gross</th>\n",
       "    </tr>\n",
       "  </thead>\n",
       "  <tbody>\n",
       "    <tr>\n",
       "      <th>117</th>\n",
       "      <td>0.585</td>\n",
       "      <td>0.997621</td>\n",
       "      <td>0.0352</td>\n",
       "      <td>0.885938</td>\n",
       "      <td>0.663317</td>\n",
       "      <td>0.938468</td>\n",
       "      <td>0.066852</td>\n",
       "      <td>56203</td>\n",
       "      <td>7236</td>\n",
       "      <td>0.836065</td>\n",
       "      <td>56554.405</td>\n",
       "    </tr>\n",
       "  </tbody>\n",
       "</table>\n",
       "</div>"
      ],
      "text/plain": [
       "     Default Score  Recall 0  Recall 1  Precision 0  Precision 1      F1 0  \\\n",
       "117          0.585  0.997621    0.0352     0.885938     0.663317  0.938468   \n",
       "\n",
       "         F1 1  True Negative  False Negative  Weighted Average F1      Gross  \n",
       "117  0.066852          56203            7236             0.836065  56554.405  "
      ]
     },
     "execution_count": 115,
     "metadata": {},
     "output_type": "execute_result"
    }
   ],
   "source": [
    "# Profit Maximization\n",
    "dtf['Gross'] = dtf['True Negative'] * 1.135 - dtf['False Negative']\n",
    "\n",
    "\n",
    "max_cf1 = dtf['Gross'].max()\n",
    "max_value_row = dtf[dtf['Gross'] == max_cf1]\n",
    "max_value_row"
   ]
  },
  {
   "cell_type": "code",
   "execution_count": 116,
   "id": "13ba2a7e",
   "metadata": {},
   "outputs": [
    {
     "data": {
      "text/html": [
       "<div>\n",
       "<style scoped>\n",
       "    .dataframe tbody tr th:only-of-type {\n",
       "        vertical-align: middle;\n",
       "    }\n",
       "\n",
       "    .dataframe tbody tr th {\n",
       "        vertical-align: top;\n",
       "    }\n",
       "\n",
       "    .dataframe thead th {\n",
       "        text-align: right;\n",
       "    }\n",
       "</style>\n",
       "<table border=\"1\" class=\"dataframe\">\n",
       "  <thead>\n",
       "    <tr style=\"text-align: right;\">\n",
       "      <th></th>\n",
       "      <th>Default Score</th>\n",
       "      <th>Recall 0</th>\n",
       "      <th>Recall 1</th>\n",
       "      <th>Precision 0</th>\n",
       "      <th>Precision 1</th>\n",
       "      <th>F1 0</th>\n",
       "      <th>F1 1</th>\n",
       "      <th>True Negative</th>\n",
       "      <th>False Negative</th>\n",
       "      <th>Weighted Average F1</th>\n",
       "      <th>Gross</th>\n",
       "    </tr>\n",
       "  </thead>\n",
       "  <tbody>\n",
       "    <tr>\n",
       "      <th>67</th>\n",
       "      <td>0.335</td>\n",
       "      <td>0.960878</td>\n",
       "      <td>0.2132</td>\n",
       "      <td>0.901706</td>\n",
       "      <td>0.420458</td>\n",
       "      <td>0.930352</td>\n",
       "      <td>0.282934</td>\n",
       "      <td>54133</td>\n",
       "      <td>5901</td>\n",
       "      <td>0.854289</td>\n",
       "      <td>55539.955</td>\n",
       "    </tr>\n",
       "  </tbody>\n",
       "</table>\n",
       "</div>"
      ],
      "text/plain": [
       "    Default Score  Recall 0  Recall 1  Precision 0  Precision 1      F1 0  \\\n",
       "67          0.335  0.960878    0.2132     0.901706     0.420458  0.930352   \n",
       "\n",
       "        F1 1  True Negative  False Negative  Weighted Average F1      Gross  \n",
       "67  0.282934          54133            5901             0.854289  55539.955  "
      ]
     },
     "execution_count": 116,
     "metadata": {},
     "output_type": "execute_result"
    }
   ],
   "source": [
    "# Macro F1 Score Maximization\n",
    "\n",
    "max_cf1 = dtf['Weighted Average F1'].max()\n",
    "max_value_row = dtf[dtf['Weighted Average F1'] == max_cf1]\n",
    "max_value_row"
   ]
  },
  {
   "cell_type": "code",
   "execution_count": 118,
   "id": "73731cd9",
   "metadata": {},
   "outputs": [
    {
     "data": {
      "text/html": [
       "<div>\n",
       "<style scoped>\n",
       "    .dataframe tbody tr th:only-of-type {\n",
       "        vertical-align: middle;\n",
       "    }\n",
       "\n",
       "    .dataframe tbody tr th {\n",
       "        vertical-align: top;\n",
       "    }\n",
       "\n",
       "    .dataframe thead th {\n",
       "        text-align: right;\n",
       "    }\n",
       "</style>\n",
       "<table border=\"1\" class=\"dataframe\">\n",
       "  <thead>\n",
       "    <tr style=\"text-align: right;\">\n",
       "      <th></th>\n",
       "      <th>Default Score</th>\n",
       "      <th>Recall 0</th>\n",
       "      <th>Recall 1</th>\n",
       "      <th>Precision 0</th>\n",
       "      <th>Precision 1</th>\n",
       "      <th>F1 0</th>\n",
       "      <th>F1 1</th>\n",
       "      <th>True Negative</th>\n",
       "      <th>False Negative</th>\n",
       "      <th>Weighted Average F1</th>\n",
       "      <th>Gross</th>\n",
       "    </tr>\n",
       "  </thead>\n",
       "  <tbody>\n",
       "    <tr>\n",
       "      <th>36</th>\n",
       "      <td>0.18</td>\n",
       "      <td>0.828958</td>\n",
       "      <td>0.508533</td>\n",
       "      <td>0.926846</td>\n",
       "      <td>0.283569</td>\n",
       "      <td>0.875173</td>\n",
       "      <td>0.364105</td>\n",
       "      <td>46701</td>\n",
       "      <td>3686</td>\n",
       "      <td>0.81513</td>\n",
       "      <td>49319.635</td>\n",
       "    </tr>\n",
       "  </tbody>\n",
       "</table>\n",
       "</div>"
      ],
      "text/plain": [
       "    Default Score  Recall 0  Recall 1  Precision 0  Precision 1      F1 0  \\\n",
       "36           0.18  0.828958  0.508533     0.926846     0.283569  0.875173   \n",
       "\n",
       "        F1 1  True Negative  False Negative  Weighted Average F1      Gross  \n",
       "36  0.364105          46701            3686              0.81513  49319.635  "
      ]
     },
     "execution_count": 118,
     "metadata": {},
     "output_type": "execute_result"
    }
   ],
   "source": [
    "# Greater than 50% Recall of Defaulted Loans\n",
    "max_value_row = dtf[dtf['Default Score'] == 0.18]\n",
    "max_value_row"
   ]
  },
  {
   "cell_type": "markdown",
   "id": "b32adce2",
   "metadata": {},
   "source": [
    "By testing values from 0 - 0.8 for the potential default score, the user is able to prioritize the model to a desired precision and recall score. \n",
    "\n",
    "For example, by setting the default score to 0.175, the model is able recall ~50% of loan defaults while still being able to recall ~83% of non-defaulting loans. This is where the F1 score for loan defaults (1) peaks.\n",
    "\n",
    "At setting the default score at ~0.335 which is the maximum weighted F1 score for both classes, the model is able to recall ~28% of loan defaults at ~42% precision while still being able to recall ~96% of non-defaulting loans at ~90% precision.\n",
    "\n",
    "Gross revenue is calculated with by calculating the true negative * the mean interest rate - the false negative. The maximum gross revenue occurs with the default score at 0.585.\n"
   ]
  },
  {
   "cell_type": "markdown",
   "id": "636110e3",
   "metadata": {},
   "source": [
    "## Results and Analysis"
   ]
  },
  {
   "cell_type": "markdown",
   "id": "eb6d6147",
   "metadata": {},
   "source": [
    "These results are very good because the innate nature of loans is that lendors make money on the risk of lending money. Their goals is to make more money charging interest on active loans than to lose on loan defaults. The best performing model is the neural network created using Keras Sequential. \n",
    "\n",
    "The key advantage of this model is that lendors can assess their own risk tolerance and set an appropriate default score depending on the current situation.\n",
    "\n",
    "If there was unlimited access to credit for the lendor, they set a default score no higher than 0.585 for the goal of optimizing gross revenue from loans assuming loan amounts and interest rates are the same in the training and testing dataset which is highly likely in a dataset with over 255000 rows separated into 75% training and 25% testing. Revenue is calculated using the total true negative value (loans given that do not default) * the interest rate - total false negative value (loans given that do default).\n",
    "\n",
    "However, very rarely do lendors have access to unlimited credit. A default score of ~0.335 calculated by obtaining the maximum weighted F1 score results in the best performing model. The weighted average F1 score considers class specific performance and class imbalance which is directly applicable here due to there being significantly less loan defaults than loans not defaulting. This choice does represent a ~2% loss of gross revenue compared to the choice above but the advantage is that compared to the default score above the lendor only needs to lend out ~94.6% of the capital (calculated by True Negative + False Negative for the default score of 0.585 - True Negative + False Negative for the default score of 0.335).\n",
    "\n",
    "If the lendor wanted a recall rate greater than 50% for loans that default, a default score less than ~0.18 should be set. This choice does represent a significant ~13% loss of gross revenue compared to the gross revenue driven model but requires only ~79% of capital."
   ]
  },
  {
   "cell_type": "code",
   "execution_count": 112,
   "id": "a29fbe57",
   "metadata": {},
   "outputs": [
    {
     "data": {
      "application/vnd.plotly.v1+json": {
       "config": {
        "plotlyServerURL": "https://plot.ly"
       },
       "data": [
        {
         "hovertemplate": "variable=Gross<br>Default Score=%{x}<br>value=%{y}<extra></extra>",
         "legendgroup": "Gross",
         "line": {
          "color": "#636efa",
          "dash": "solid"
         },
         "marker": {
          "symbol": "circle"
         },
         "mode": "lines",
         "name": "Gross",
         "orientation": "v",
         "showlegend": true,
         "type": "scatter",
         "x": [
          0,
          0.005,
          0.01,
          0.015,
          0.02,
          0.025,
          0.03,
          0.035,
          0.04,
          0.045,
          0.05,
          0.055,
          0.06,
          0.065,
          0.07,
          0.075,
          0.08,
          0.085,
          0.09,
          0.095,
          0.1,
          0.105,
          0.11,
          0.115,
          0.12,
          0.125,
          0.13,
          0.135,
          0.14,
          0.145,
          0.15,
          0.155,
          0.16,
          0.165,
          0.17,
          0.175,
          0.18,
          0.185,
          0.19,
          0.195,
          0.2,
          0.205,
          0.21,
          0.215,
          0.22,
          0.225,
          0.23,
          0.235,
          0.24,
          0.245,
          0.25,
          0.255,
          0.26,
          0.265,
          0.27,
          0.275,
          0.28,
          0.285,
          0.29,
          0.295,
          0.3,
          0.305,
          0.31,
          0.315,
          0.32,
          0.325,
          0.33,
          0.335,
          0.34,
          0.345,
          0.35,
          0.355,
          0.36,
          0.365,
          0.37,
          0.375,
          0.38,
          0.385,
          0.39,
          0.395,
          0.4,
          0.405,
          0.41,
          0.415,
          0.42,
          0.425,
          0.43,
          0.435,
          0.44,
          0.445,
          0.45,
          0.455,
          0.46,
          0.465,
          0.47,
          0.475,
          0.48,
          0.485,
          0.49,
          0.495,
          0.5,
          0.505,
          0.51,
          0.515,
          0.52,
          0.525,
          0.53,
          0.535,
          0.54,
          0.545,
          0.55,
          0.555,
          0.56,
          0.565,
          0.57,
          0.575,
          0.58,
          0.585,
          0.59,
          0.595,
          0.6,
          0.605,
          0.61,
          0.615,
          0.62,
          0.625,
          0.63,
          0.635,
          0.64,
          0.645,
          0.65,
          0.655,
          0.66,
          0.665,
          0.67,
          0.675,
          0.68,
          0.685,
          0.69,
          0.695,
          0.7,
          0.705,
          0.71,
          0.715,
          0.72,
          0.725,
          0.73,
          0.735,
          0.74,
          0.745,
          0.75,
          0.755,
          0.76,
          0.765,
          0.77,
          0.775,
          0.78,
          0.785,
          0.79,
          0.795,
          0.8
         ],
         "xaxis": "x",
         "y": [
          0,
          110.095,
          1095.03,
          3024.77,
          5366.27,
          7966.25,
          10611.115,
          13257.115,
          15841.2,
          18292.895,
          20580.285,
          22726.745,
          24755.705,
          26711.89,
          28555.845,
          30338.265,
          31996.43,
          33482.075,
          34870.95,
          36206.885,
          37507.335,
          38684.805,
          39710.855,
          40684.4,
          41610.14,
          42538.855,
          43267.51,
          44105.775,
          44759.655,
          45447.56,
          46088.065,
          46728.815,
          47318.815,
          47798.5,
          48336.235,
          48836.92,
          49319.635,
          49703.065,
          50081.495,
          50450.385,
          50809.305,
          51111.340000000004,
          51410.375,
          51703.655,
          52007.745,
          52252.435,
          52561.335,
          52820.485,
          53032.315,
          53218.85,
          53439.49,
          53589.03,
          53754.435,
          53945.325,
          54112.515,
          54250.355,
          54384.115,
          54528.305,
          54652.93,
          54807.770000000004,
          54912.155,
          55028.35,
          55109.225,
          55198.99,
          55302.35,
          55379.39,
          55463.32,
          55539.955,
          55609.590000000004,
          55689.25,
          55754.94,
          55815.575,
          55861.97,
          55927.39,
          56004.35,
          56035.395000000004,
          56081.06,
          56129.05,
          56164.825,
          56195.925,
          56220.215000000004,
          56246.775,
          56259.58,
          56294.735,
          56304.54,
          56319.94,
          56339.42,
          56358.415,
          56383.95,
          56398.54,
          56415.725,
          56429.91,
          56449.635,
          56460.955,
          56468.465000000004,
          56473.785,
          56479.43,
          56482.075,
          56500.665,
          56500.5,
          56503.2,
          56504.495,
          56502.385,
          56511.76,
          56521.405,
          56540.590000000004,
          56550.695,
          56545.18,
          56543.07,
          56549.5,
          56543.39,
          56543.28,
          56542.63,
          56541.520000000004,
          56547.41,
          56551.165,
          56553.19,
          56554.405,
          56545.215000000004,
          56545.565,
          56536.375,
          56538.455,
          56533.86,
          56532.805,
          56524.48,
          56524.695,
          56525.64,
          56523.45,
          56520.585,
          56515.99,
          56511.26,
          56509.665,
          56506.61,
          56503.42,
          56495.69,
          56495.23,
          56486.365,
          56489.04,
          56487.715000000004,
          56485.985,
          56487.39,
          56485.795,
          56484.93,
          56483.065,
          56479.065,
          56475.47,
          56470.74,
          56470.875,
          56469.01,
          56468.145000000004,
          56468.28,
          56467.415,
          56468.55,
          56464.55,
          56463.685,
          56460.82,
          56458.82,
          56458.955,
          56458.090000000004,
          56456.090000000004,
          56454.090000000004
         ],
         "yaxis": "y"
        },
        {
         "hovertemplate": "variable=True Negative<br>Default Score=%{x}<br>value=%{y}<extra></extra>",
         "legendgroup": "True Negative",
         "line": {
          "color": "#EF553B",
          "dash": "solid"
         },
         "marker": {
          "symbol": "circle"
         },
         "mode": "lines",
         "name": "True Negative",
         "orientation": "v",
         "showlegend": true,
         "type": "scatter",
         "x": [
          0,
          0.005,
          0.01,
          0.015,
          0.02,
          0.025,
          0.03,
          0.035,
          0.04,
          0.045,
          0.05,
          0.055,
          0.06,
          0.065,
          0.07,
          0.075,
          0.08,
          0.085,
          0.09,
          0.095,
          0.1,
          0.105,
          0.11,
          0.115,
          0.12,
          0.125,
          0.13,
          0.135,
          0.14,
          0.145,
          0.15,
          0.155,
          0.16,
          0.165,
          0.17,
          0.175,
          0.18,
          0.185,
          0.19,
          0.195,
          0.2,
          0.205,
          0.21,
          0.215,
          0.22,
          0.225,
          0.23,
          0.235,
          0.24,
          0.245,
          0.25,
          0.255,
          0.26,
          0.265,
          0.27,
          0.275,
          0.28,
          0.285,
          0.29,
          0.295,
          0.3,
          0.305,
          0.31,
          0.315,
          0.32,
          0.325,
          0.33,
          0.335,
          0.34,
          0.345,
          0.35,
          0.355,
          0.36,
          0.365,
          0.37,
          0.375,
          0.38,
          0.385,
          0.39,
          0.395,
          0.4,
          0.405,
          0.41,
          0.415,
          0.42,
          0.425,
          0.43,
          0.435,
          0.44,
          0.445,
          0.45,
          0.455,
          0.46,
          0.465,
          0.47,
          0.475,
          0.48,
          0.485,
          0.49,
          0.495,
          0.5,
          0.505,
          0.51,
          0.515,
          0.52,
          0.525,
          0.53,
          0.535,
          0.54,
          0.545,
          0.55,
          0.555,
          0.56,
          0.565,
          0.57,
          0.575,
          0.58,
          0.585,
          0.59,
          0.595,
          0.6,
          0.605,
          0.61,
          0.615,
          0.62,
          0.625,
          0.63,
          0.635,
          0.64,
          0.645,
          0.65,
          0.655,
          0.66,
          0.665,
          0.67,
          0.675,
          0.68,
          0.685,
          0.69,
          0.695,
          0.7,
          0.705,
          0.71,
          0.715,
          0.72,
          0.725,
          0.73,
          0.735,
          0.74,
          0.745,
          0.75,
          0.755,
          0.76,
          0.765,
          0.77,
          0.775,
          0.78,
          0.785,
          0.79,
          0.795,
          0.8
         ],
         "xaxis": "x",
         "y": [
          0,
          97,
          978,
          2702,
          4802,
          7150,
          9549,
          11949,
          14320,
          16577,
          18691,
          20687,
          22583,
          24414,
          26147,
          27839,
          29418,
          30845,
          32170,
          33451,
          34721,
          35843,
          36873,
          37840,
          38764,
          39673,
          40426,
          41265,
          41953,
          42656,
          43319,
          43969,
          44569,
          45100,
          45661,
          46192,
          46701,
          47119,
          47537,
          47951,
          48343,
          48684,
          49025,
          49353,
          49687,
          49981,
          50321,
          50611,
          50869,
          51110,
          51374,
          51578,
          51781,
          51995,
          52189,
          52373,
          52549,
          52743,
          52918,
          53102,
          53253,
          53410,
          53535,
          53674,
          53810,
          53914,
          54032,
          54133,
          54234,
          54350,
          54444,
          54545,
          54622,
          54714,
          54810,
          54877,
          54956,
          55030,
          55095,
          55155,
          55209,
          55265,
          55308,
          55361,
          55404,
          55444,
          55492,
          55529,
          55570,
          55604,
          55635,
          55666,
          55701,
          55733,
          55759,
          55791,
          55818,
          55845,
          55879,
          55900,
          55920,
          55937,
          55951,
          55976,
          56003,
          56034,
          56057,
          56068,
          56082,
          56100,
          56114,
          56128,
          56138,
          56152,
          56166,
          56179,
          56194,
          56203,
          56209,
          56219,
          56225,
          56233,
          56236,
          56243,
          56248,
          56257,
          56264,
          56270,
          56271,
          56274,
          56276,
          56279,
          56286,
          56292,
          56294,
          56298,
          56299,
          56304,
          56309,
          56311,
          56314,
          56317,
          56318,
          56319,
          56319,
          56322,
          56324,
          56325,
          56326,
          56327,
          56328,
          56329,
          56330,
          56330,
          56331,
          56332,
          56332,
          56333,
          56334,
          56334,
          56334
         ],
         "yaxis": "y"
        },
        {
         "hovertemplate": "variable=False Negative<br>Default Score=%{x}<br>value=%{y}<extra></extra>",
         "legendgroup": "False Negative",
         "line": {
          "color": "#00cc96",
          "dash": "solid"
         },
         "marker": {
          "symbol": "circle"
         },
         "mode": "lines",
         "name": "False Negative",
         "orientation": "v",
         "showlegend": true,
         "type": "scatter",
         "x": [
          0,
          0.005,
          0.01,
          0.015,
          0.02,
          0.025,
          0.03,
          0.035,
          0.04,
          0.045,
          0.05,
          0.055,
          0.06,
          0.065,
          0.07,
          0.075,
          0.08,
          0.085,
          0.09,
          0.095,
          0.1,
          0.105,
          0.11,
          0.115,
          0.12,
          0.125,
          0.13,
          0.135,
          0.14,
          0.145,
          0.15,
          0.155,
          0.16,
          0.165,
          0.17,
          0.175,
          0.18,
          0.185,
          0.19,
          0.195,
          0.2,
          0.205,
          0.21,
          0.215,
          0.22,
          0.225,
          0.23,
          0.235,
          0.24,
          0.245,
          0.25,
          0.255,
          0.26,
          0.265,
          0.27,
          0.275,
          0.28,
          0.285,
          0.29,
          0.295,
          0.3,
          0.305,
          0.31,
          0.315,
          0.32,
          0.325,
          0.33,
          0.335,
          0.34,
          0.345,
          0.35,
          0.355,
          0.36,
          0.365,
          0.37,
          0.375,
          0.38,
          0.385,
          0.39,
          0.395,
          0.4,
          0.405,
          0.41,
          0.415,
          0.42,
          0.425,
          0.43,
          0.435,
          0.44,
          0.445,
          0.45,
          0.455,
          0.46,
          0.465,
          0.47,
          0.475,
          0.48,
          0.485,
          0.49,
          0.495,
          0.5,
          0.505,
          0.51,
          0.515,
          0.52,
          0.525,
          0.53,
          0.535,
          0.54,
          0.545,
          0.55,
          0.555,
          0.56,
          0.565,
          0.57,
          0.575,
          0.58,
          0.585,
          0.59,
          0.595,
          0.6,
          0.605,
          0.61,
          0.615,
          0.62,
          0.625,
          0.63,
          0.635,
          0.64,
          0.645,
          0.65,
          0.655,
          0.66,
          0.665,
          0.67,
          0.675,
          0.68,
          0.685,
          0.69,
          0.695,
          0.7,
          0.705,
          0.71,
          0.715,
          0.72,
          0.725,
          0.73,
          0.735,
          0.74,
          0.745,
          0.75,
          0.755,
          0.76,
          0.765,
          0.77,
          0.775,
          0.78,
          0.785,
          0.79,
          0.795,
          0.8
         ],
         "xaxis": "x",
         "y": [
          0,
          0,
          15,
          42,
          84,
          149,
          227,
          305,
          412,
          522,
          634,
          753,
          876,
          998,
          1121,
          1259,
          1393,
          1527,
          1642,
          1760,
          1901,
          1997,
          2140,
          2264,
          2387,
          2490,
          2616,
          2730,
          2857,
          2967,
          3079,
          3176,
          3267,
          3390,
          3489,
          3591,
          3686,
          3777,
          3873,
          3974,
          4060,
          4145,
          4233,
          4312,
          4387,
          4476,
          4553,
          4623,
          4704,
          4791,
          4870,
          4952,
          5017,
          5069,
          5122,
          5193,
          5259,
          5335,
          5409,
          5463,
          5530,
          5592,
          5653,
          5721,
          5772,
          5813,
          5863,
          5901,
          5946,
          5998,
          6039,
          6093,
          6134,
          6173,
          6205,
          6250,
          6294,
          6330,
          6368,
          6405,
          6442,
          6479,
          6515,
          6540,
          6579,
          6609,
          6644,
          6667,
          6688,
          6712,
          6730,
          6751,
          6771,
          6796,
          6818,
          6849,
          6874,
          6902,
          6922,
          6946,
          6966,
          6984,
          7002,
          7021,
          7042,
          7058,
          7074,
          7092,
          7110,
          7124,
          7146,
          7162,
          7174,
          7191,
          7201,
          7212,
          7227,
          7236,
          7252,
          7263,
          7279,
          7286,
          7294,
          7303,
          7317,
          7327,
          7334,
          7343,
          7347,
          7355,
          7362,
          7367,
          7378,
          7388,
          7398,
          7403,
          7413,
          7416,
          7423,
          7427,
          7429,
          7434,
          7436,
          7439,
          7443,
          7450,
          7457,
          7458,
          7461,
          7463,
          7464,
          7466,
          7466,
          7470,
          7472,
          7476,
          7478,
          7479,
          7481,
          7483,
          7485
         ],
         "yaxis": "y"
        }
       ],
       "layout": {
        "legend": {
         "title": {
          "text": "variable"
         },
         "tracegroupgap": 0
        },
        "template": {
         "data": {
          "bar": [
           {
            "error_x": {
             "color": "#2a3f5f"
            },
            "error_y": {
             "color": "#2a3f5f"
            },
            "marker": {
             "line": {
              "color": "#E5ECF6",
              "width": 0.5
             },
             "pattern": {
              "fillmode": "overlay",
              "size": 10,
              "solidity": 0.2
             }
            },
            "type": "bar"
           }
          ],
          "barpolar": [
           {
            "marker": {
             "line": {
              "color": "#E5ECF6",
              "width": 0.5
             },
             "pattern": {
              "fillmode": "overlay",
              "size": 10,
              "solidity": 0.2
             }
            },
            "type": "barpolar"
           }
          ],
          "carpet": [
           {
            "aaxis": {
             "endlinecolor": "#2a3f5f",
             "gridcolor": "white",
             "linecolor": "white",
             "minorgridcolor": "white",
             "startlinecolor": "#2a3f5f"
            },
            "baxis": {
             "endlinecolor": "#2a3f5f",
             "gridcolor": "white",
             "linecolor": "white",
             "minorgridcolor": "white",
             "startlinecolor": "#2a3f5f"
            },
            "type": "carpet"
           }
          ],
          "choropleth": [
           {
            "colorbar": {
             "outlinewidth": 0,
             "ticks": ""
            },
            "type": "choropleth"
           }
          ],
          "contour": [
           {
            "colorbar": {
             "outlinewidth": 0,
             "ticks": ""
            },
            "colorscale": [
             [
              0,
              "#0d0887"
             ],
             [
              0.1111111111111111,
              "#46039f"
             ],
             [
              0.2222222222222222,
              "#7201a8"
             ],
             [
              0.3333333333333333,
              "#9c179e"
             ],
             [
              0.4444444444444444,
              "#bd3786"
             ],
             [
              0.5555555555555556,
              "#d8576b"
             ],
             [
              0.6666666666666666,
              "#ed7953"
             ],
             [
              0.7777777777777778,
              "#fb9f3a"
             ],
             [
              0.8888888888888888,
              "#fdca26"
             ],
             [
              1,
              "#f0f921"
             ]
            ],
            "type": "contour"
           }
          ],
          "contourcarpet": [
           {
            "colorbar": {
             "outlinewidth": 0,
             "ticks": ""
            },
            "type": "contourcarpet"
           }
          ],
          "heatmap": [
           {
            "colorbar": {
             "outlinewidth": 0,
             "ticks": ""
            },
            "colorscale": [
             [
              0,
              "#0d0887"
             ],
             [
              0.1111111111111111,
              "#46039f"
             ],
             [
              0.2222222222222222,
              "#7201a8"
             ],
             [
              0.3333333333333333,
              "#9c179e"
             ],
             [
              0.4444444444444444,
              "#bd3786"
             ],
             [
              0.5555555555555556,
              "#d8576b"
             ],
             [
              0.6666666666666666,
              "#ed7953"
             ],
             [
              0.7777777777777778,
              "#fb9f3a"
             ],
             [
              0.8888888888888888,
              "#fdca26"
             ],
             [
              1,
              "#f0f921"
             ]
            ],
            "type": "heatmap"
           }
          ],
          "heatmapgl": [
           {
            "colorbar": {
             "outlinewidth": 0,
             "ticks": ""
            },
            "colorscale": [
             [
              0,
              "#0d0887"
             ],
             [
              0.1111111111111111,
              "#46039f"
             ],
             [
              0.2222222222222222,
              "#7201a8"
             ],
             [
              0.3333333333333333,
              "#9c179e"
             ],
             [
              0.4444444444444444,
              "#bd3786"
             ],
             [
              0.5555555555555556,
              "#d8576b"
             ],
             [
              0.6666666666666666,
              "#ed7953"
             ],
             [
              0.7777777777777778,
              "#fb9f3a"
             ],
             [
              0.8888888888888888,
              "#fdca26"
             ],
             [
              1,
              "#f0f921"
             ]
            ],
            "type": "heatmapgl"
           }
          ],
          "histogram": [
           {
            "marker": {
             "pattern": {
              "fillmode": "overlay",
              "size": 10,
              "solidity": 0.2
             }
            },
            "type": "histogram"
           }
          ],
          "histogram2d": [
           {
            "colorbar": {
             "outlinewidth": 0,
             "ticks": ""
            },
            "colorscale": [
             [
              0,
              "#0d0887"
             ],
             [
              0.1111111111111111,
              "#46039f"
             ],
             [
              0.2222222222222222,
              "#7201a8"
             ],
             [
              0.3333333333333333,
              "#9c179e"
             ],
             [
              0.4444444444444444,
              "#bd3786"
             ],
             [
              0.5555555555555556,
              "#d8576b"
             ],
             [
              0.6666666666666666,
              "#ed7953"
             ],
             [
              0.7777777777777778,
              "#fb9f3a"
             ],
             [
              0.8888888888888888,
              "#fdca26"
             ],
             [
              1,
              "#f0f921"
             ]
            ],
            "type": "histogram2d"
           }
          ],
          "histogram2dcontour": [
           {
            "colorbar": {
             "outlinewidth": 0,
             "ticks": ""
            },
            "colorscale": [
             [
              0,
              "#0d0887"
             ],
             [
              0.1111111111111111,
              "#46039f"
             ],
             [
              0.2222222222222222,
              "#7201a8"
             ],
             [
              0.3333333333333333,
              "#9c179e"
             ],
             [
              0.4444444444444444,
              "#bd3786"
             ],
             [
              0.5555555555555556,
              "#d8576b"
             ],
             [
              0.6666666666666666,
              "#ed7953"
             ],
             [
              0.7777777777777778,
              "#fb9f3a"
             ],
             [
              0.8888888888888888,
              "#fdca26"
             ],
             [
              1,
              "#f0f921"
             ]
            ],
            "type": "histogram2dcontour"
           }
          ],
          "mesh3d": [
           {
            "colorbar": {
             "outlinewidth": 0,
             "ticks": ""
            },
            "type": "mesh3d"
           }
          ],
          "parcoords": [
           {
            "line": {
             "colorbar": {
              "outlinewidth": 0,
              "ticks": ""
             }
            },
            "type": "parcoords"
           }
          ],
          "pie": [
           {
            "automargin": true,
            "type": "pie"
           }
          ],
          "scatter": [
           {
            "fillpattern": {
             "fillmode": "overlay",
             "size": 10,
             "solidity": 0.2
            },
            "type": "scatter"
           }
          ],
          "scatter3d": [
           {
            "line": {
             "colorbar": {
              "outlinewidth": 0,
              "ticks": ""
             }
            },
            "marker": {
             "colorbar": {
              "outlinewidth": 0,
              "ticks": ""
             }
            },
            "type": "scatter3d"
           }
          ],
          "scattercarpet": [
           {
            "marker": {
             "colorbar": {
              "outlinewidth": 0,
              "ticks": ""
             }
            },
            "type": "scattercarpet"
           }
          ],
          "scattergeo": [
           {
            "marker": {
             "colorbar": {
              "outlinewidth": 0,
              "ticks": ""
             }
            },
            "type": "scattergeo"
           }
          ],
          "scattergl": [
           {
            "marker": {
             "colorbar": {
              "outlinewidth": 0,
              "ticks": ""
             }
            },
            "type": "scattergl"
           }
          ],
          "scattermapbox": [
           {
            "marker": {
             "colorbar": {
              "outlinewidth": 0,
              "ticks": ""
             }
            },
            "type": "scattermapbox"
           }
          ],
          "scatterpolar": [
           {
            "marker": {
             "colorbar": {
              "outlinewidth": 0,
              "ticks": ""
             }
            },
            "type": "scatterpolar"
           }
          ],
          "scatterpolargl": [
           {
            "marker": {
             "colorbar": {
              "outlinewidth": 0,
              "ticks": ""
             }
            },
            "type": "scatterpolargl"
           }
          ],
          "scatterternary": [
           {
            "marker": {
             "colorbar": {
              "outlinewidth": 0,
              "ticks": ""
             }
            },
            "type": "scatterternary"
           }
          ],
          "surface": [
           {
            "colorbar": {
             "outlinewidth": 0,
             "ticks": ""
            },
            "colorscale": [
             [
              0,
              "#0d0887"
             ],
             [
              0.1111111111111111,
              "#46039f"
             ],
             [
              0.2222222222222222,
              "#7201a8"
             ],
             [
              0.3333333333333333,
              "#9c179e"
             ],
             [
              0.4444444444444444,
              "#bd3786"
             ],
             [
              0.5555555555555556,
              "#d8576b"
             ],
             [
              0.6666666666666666,
              "#ed7953"
             ],
             [
              0.7777777777777778,
              "#fb9f3a"
             ],
             [
              0.8888888888888888,
              "#fdca26"
             ],
             [
              1,
              "#f0f921"
             ]
            ],
            "type": "surface"
           }
          ],
          "table": [
           {
            "cells": {
             "fill": {
              "color": "#EBF0F8"
             },
             "line": {
              "color": "white"
             }
            },
            "header": {
             "fill": {
              "color": "#C8D4E3"
             },
             "line": {
              "color": "white"
             }
            },
            "type": "table"
           }
          ]
         },
         "layout": {
          "annotationdefaults": {
           "arrowcolor": "#2a3f5f",
           "arrowhead": 0,
           "arrowwidth": 1
          },
          "autotypenumbers": "strict",
          "coloraxis": {
           "colorbar": {
            "outlinewidth": 0,
            "ticks": ""
           }
          },
          "colorscale": {
           "diverging": [
            [
             0,
             "#8e0152"
            ],
            [
             0.1,
             "#c51b7d"
            ],
            [
             0.2,
             "#de77ae"
            ],
            [
             0.3,
             "#f1b6da"
            ],
            [
             0.4,
             "#fde0ef"
            ],
            [
             0.5,
             "#f7f7f7"
            ],
            [
             0.6,
             "#e6f5d0"
            ],
            [
             0.7,
             "#b8e186"
            ],
            [
             0.8,
             "#7fbc41"
            ],
            [
             0.9,
             "#4d9221"
            ],
            [
             1,
             "#276419"
            ]
           ],
           "sequential": [
            [
             0,
             "#0d0887"
            ],
            [
             0.1111111111111111,
             "#46039f"
            ],
            [
             0.2222222222222222,
             "#7201a8"
            ],
            [
             0.3333333333333333,
             "#9c179e"
            ],
            [
             0.4444444444444444,
             "#bd3786"
            ],
            [
             0.5555555555555556,
             "#d8576b"
            ],
            [
             0.6666666666666666,
             "#ed7953"
            ],
            [
             0.7777777777777778,
             "#fb9f3a"
            ],
            [
             0.8888888888888888,
             "#fdca26"
            ],
            [
             1,
             "#f0f921"
            ]
           ],
           "sequentialminus": [
            [
             0,
             "#0d0887"
            ],
            [
             0.1111111111111111,
             "#46039f"
            ],
            [
             0.2222222222222222,
             "#7201a8"
            ],
            [
             0.3333333333333333,
             "#9c179e"
            ],
            [
             0.4444444444444444,
             "#bd3786"
            ],
            [
             0.5555555555555556,
             "#d8576b"
            ],
            [
             0.6666666666666666,
             "#ed7953"
            ],
            [
             0.7777777777777778,
             "#fb9f3a"
            ],
            [
             0.8888888888888888,
             "#fdca26"
            ],
            [
             1,
             "#f0f921"
            ]
           ]
          },
          "colorway": [
           "#636efa",
           "#EF553B",
           "#00cc96",
           "#ab63fa",
           "#FFA15A",
           "#19d3f3",
           "#FF6692",
           "#B6E880",
           "#FF97FF",
           "#FECB52"
          ],
          "font": {
           "color": "#2a3f5f"
          },
          "geo": {
           "bgcolor": "white",
           "lakecolor": "white",
           "landcolor": "#E5ECF6",
           "showlakes": true,
           "showland": true,
           "subunitcolor": "white"
          },
          "hoverlabel": {
           "align": "left"
          },
          "hovermode": "closest",
          "mapbox": {
           "style": "light"
          },
          "paper_bgcolor": "white",
          "plot_bgcolor": "#E5ECF6",
          "polar": {
           "angularaxis": {
            "gridcolor": "white",
            "linecolor": "white",
            "ticks": ""
           },
           "bgcolor": "#E5ECF6",
           "radialaxis": {
            "gridcolor": "white",
            "linecolor": "white",
            "ticks": ""
           }
          },
          "scene": {
           "xaxis": {
            "backgroundcolor": "#E5ECF6",
            "gridcolor": "white",
            "gridwidth": 2,
            "linecolor": "white",
            "showbackground": true,
            "ticks": "",
            "zerolinecolor": "white"
           },
           "yaxis": {
            "backgroundcolor": "#E5ECF6",
            "gridcolor": "white",
            "gridwidth": 2,
            "linecolor": "white",
            "showbackground": true,
            "ticks": "",
            "zerolinecolor": "white"
           },
           "zaxis": {
            "backgroundcolor": "#E5ECF6",
            "gridcolor": "white",
            "gridwidth": 2,
            "linecolor": "white",
            "showbackground": true,
            "ticks": "",
            "zerolinecolor": "white"
           }
          },
          "shapedefaults": {
           "line": {
            "color": "#2a3f5f"
           }
          },
          "ternary": {
           "aaxis": {
            "gridcolor": "white",
            "linecolor": "white",
            "ticks": ""
           },
           "baxis": {
            "gridcolor": "white",
            "linecolor": "white",
            "ticks": ""
           },
           "bgcolor": "#E5ECF6",
           "caxis": {
            "gridcolor": "white",
            "linecolor": "white",
            "ticks": ""
           }
          },
          "title": {
           "x": 0.05
          },
          "xaxis": {
           "automargin": true,
           "gridcolor": "white",
           "linecolor": "white",
           "ticks": "",
           "title": {
            "standoff": 15
           },
           "zerolinecolor": "white",
           "zerolinewidth": 2
          },
          "yaxis": {
           "automargin": true,
           "gridcolor": "white",
           "linecolor": "white",
           "ticks": "",
           "title": {
            "standoff": 15
           },
           "zerolinecolor": "white",
           "zerolinewidth": 2
          }
         }
        },
        "title": {
         "text": "Gross Revenue vs Set Default Score"
        },
        "xaxis": {
         "anchor": "y",
         "domain": [
          0,
          1
         ],
         "title": {
          "text": "Default Score"
         }
        },
        "yaxis": {
         "anchor": "x",
         "domain": [
          0,
          1
         ],
         "title": {
          "text": "value"
         }
        }
       }
      },
      "text/html": [
       "<div>                            <div id=\"4b4f0de0-b12d-4335-8705-29bb0d15f693\" class=\"plotly-graph-div\" style=\"height:525px; width:100%;\"></div>            <script type=\"text/javascript\">                require([\"plotly\"], function(Plotly) {                    window.PLOTLYENV=window.PLOTLYENV || {};                                    if (document.getElementById(\"4b4f0de0-b12d-4335-8705-29bb0d15f693\")) {                    Plotly.newPlot(                        \"4b4f0de0-b12d-4335-8705-29bb0d15f693\",                        [{\"hovertemplate\":\"variable=Gross<br>Default Score=%{x}<br>value=%{y}<extra></extra>\",\"legendgroup\":\"Gross\",\"line\":{\"color\":\"#636efa\",\"dash\":\"solid\"},\"marker\":{\"symbol\":\"circle\"},\"mode\":\"lines\",\"name\":\"Gross\",\"orientation\":\"v\",\"showlegend\":true,\"x\":[0.0,0.005,0.01,0.015,0.02,0.025,0.03,0.035,0.04,0.045,0.05,0.055,0.06,0.065,0.07,0.075,0.08,0.085,0.09,0.095,0.1,0.105,0.11,0.115,0.12,0.125,0.13,0.135,0.14,0.145,0.15,0.155,0.16,0.165,0.17,0.175,0.18,0.185,0.19,0.195,0.2,0.205,0.21,0.215,0.22,0.225,0.23,0.235,0.24,0.245,0.25,0.255,0.26,0.265,0.27,0.275,0.28,0.285,0.29,0.295,0.3,0.305,0.31,0.315,0.32,0.325,0.33,0.335,0.34,0.345,0.35,0.355,0.36,0.365,0.37,0.375,0.38,0.385,0.39,0.395,0.4,0.405,0.41,0.415,0.42,0.425,0.43,0.435,0.44,0.445,0.45,0.455,0.46,0.465,0.47,0.475,0.48,0.485,0.49,0.495,0.5,0.505,0.51,0.515,0.52,0.525,0.53,0.535,0.54,0.545,0.55,0.555,0.56,0.565,0.57,0.575,0.58,0.585,0.59,0.595,0.6,0.605,0.61,0.615,0.62,0.625,0.63,0.635,0.64,0.645,0.65,0.655,0.66,0.665,0.67,0.675,0.68,0.685,0.69,0.695,0.7,0.705,0.71,0.715,0.72,0.725,0.73,0.735,0.74,0.745,0.75,0.755,0.76,0.765,0.77,0.775,0.78,0.785,0.79,0.795,0.8],\"xaxis\":\"x\",\"y\":[0.0,110.095,1095.03,3024.77,5366.27,7966.25,10611.115,13257.115,15841.2,18292.895,20580.285,22726.745,24755.705,26711.89,28555.845,30338.265,31996.43,33482.075,34870.95,36206.885,37507.335,38684.805,39710.855,40684.4,41610.14,42538.855,43267.51,44105.775,44759.655,45447.56,46088.065,46728.815,47318.815,47798.5,48336.235,48836.92,49319.635,49703.065,50081.495,50450.385,50809.305,51111.340000000004,51410.375,51703.655,52007.745,52252.435,52561.335,52820.485,53032.315,53218.85,53439.49,53589.03,53754.435,53945.325,54112.515,54250.355,54384.115,54528.305,54652.93,54807.770000000004,54912.155,55028.35,55109.225,55198.99,55302.35,55379.39,55463.32,55539.955,55609.590000000004,55689.25,55754.94,55815.575,55861.97,55927.39,56004.35,56035.395000000004,56081.06,56129.05,56164.825,56195.925,56220.215000000004,56246.775,56259.58,56294.735,56304.54,56319.94,56339.42,56358.415,56383.95,56398.54,56415.725,56429.91,56449.635,56460.955,56468.465000000004,56473.785,56479.43,56482.075,56500.665,56500.5,56503.2,56504.495,56502.385,56511.76,56521.405,56540.590000000004,56550.695,56545.18,56543.07,56549.5,56543.39,56543.28,56542.63,56541.520000000004,56547.41,56551.165,56553.19,56554.405,56545.215000000004,56545.565,56536.375,56538.455,56533.86,56532.805,56524.48,56524.695,56525.64,56523.45,56520.585,56515.99,56511.26,56509.665,56506.61,56503.42,56495.69,56495.23,56486.365,56489.04,56487.715000000004,56485.985,56487.39,56485.795,56484.93,56483.065,56479.065,56475.47,56470.74,56470.875,56469.01,56468.145000000004,56468.28,56467.415,56468.55,56464.55,56463.685,56460.82,56458.82,56458.955,56458.090000000004,56456.090000000004,56454.090000000004],\"yaxis\":\"y\",\"type\":\"scatter\"},{\"hovertemplate\":\"variable=True Negative<br>Default Score=%{x}<br>value=%{y}<extra></extra>\",\"legendgroup\":\"True Negative\",\"line\":{\"color\":\"#EF553B\",\"dash\":\"solid\"},\"marker\":{\"symbol\":\"circle\"},\"mode\":\"lines\",\"name\":\"True Negative\",\"orientation\":\"v\",\"showlegend\":true,\"x\":[0.0,0.005,0.01,0.015,0.02,0.025,0.03,0.035,0.04,0.045,0.05,0.055,0.06,0.065,0.07,0.075,0.08,0.085,0.09,0.095,0.1,0.105,0.11,0.115,0.12,0.125,0.13,0.135,0.14,0.145,0.15,0.155,0.16,0.165,0.17,0.175,0.18,0.185,0.19,0.195,0.2,0.205,0.21,0.215,0.22,0.225,0.23,0.235,0.24,0.245,0.25,0.255,0.26,0.265,0.27,0.275,0.28,0.285,0.29,0.295,0.3,0.305,0.31,0.315,0.32,0.325,0.33,0.335,0.34,0.345,0.35,0.355,0.36,0.365,0.37,0.375,0.38,0.385,0.39,0.395,0.4,0.405,0.41,0.415,0.42,0.425,0.43,0.435,0.44,0.445,0.45,0.455,0.46,0.465,0.47,0.475,0.48,0.485,0.49,0.495,0.5,0.505,0.51,0.515,0.52,0.525,0.53,0.535,0.54,0.545,0.55,0.555,0.56,0.565,0.57,0.575,0.58,0.585,0.59,0.595,0.6,0.605,0.61,0.615,0.62,0.625,0.63,0.635,0.64,0.645,0.65,0.655,0.66,0.665,0.67,0.675,0.68,0.685,0.69,0.695,0.7,0.705,0.71,0.715,0.72,0.725,0.73,0.735,0.74,0.745,0.75,0.755,0.76,0.765,0.77,0.775,0.78,0.785,0.79,0.795,0.8],\"xaxis\":\"x\",\"y\":[0.0,97.0,978.0,2702.0,4802.0,7150.0,9549.0,11949.0,14320.0,16577.0,18691.0,20687.0,22583.0,24414.0,26147.0,27839.0,29418.0,30845.0,32170.0,33451.0,34721.0,35843.0,36873.0,37840.0,38764.0,39673.0,40426.0,41265.0,41953.0,42656.0,43319.0,43969.0,44569.0,45100.0,45661.0,46192.0,46701.0,47119.0,47537.0,47951.0,48343.0,48684.0,49025.0,49353.0,49687.0,49981.0,50321.0,50611.0,50869.0,51110.0,51374.0,51578.0,51781.0,51995.0,52189.0,52373.0,52549.0,52743.0,52918.0,53102.0,53253.0,53410.0,53535.0,53674.0,53810.0,53914.0,54032.0,54133.0,54234.0,54350.0,54444.0,54545.0,54622.0,54714.0,54810.0,54877.0,54956.0,55030.0,55095.0,55155.0,55209.0,55265.0,55308.0,55361.0,55404.0,55444.0,55492.0,55529.0,55570.0,55604.0,55635.0,55666.0,55701.0,55733.0,55759.0,55791.0,55818.0,55845.0,55879.0,55900.0,55920.0,55937.0,55951.0,55976.0,56003.0,56034.0,56057.0,56068.0,56082.0,56100.0,56114.0,56128.0,56138.0,56152.0,56166.0,56179.0,56194.0,56203.0,56209.0,56219.0,56225.0,56233.0,56236.0,56243.0,56248.0,56257.0,56264.0,56270.0,56271.0,56274.0,56276.0,56279.0,56286.0,56292.0,56294.0,56298.0,56299.0,56304.0,56309.0,56311.0,56314.0,56317.0,56318.0,56319.0,56319.0,56322.0,56324.0,56325.0,56326.0,56327.0,56328.0,56329.0,56330.0,56330.0,56331.0,56332.0,56332.0,56333.0,56334.0,56334.0,56334.0],\"yaxis\":\"y\",\"type\":\"scatter\"},{\"hovertemplate\":\"variable=False Negative<br>Default Score=%{x}<br>value=%{y}<extra></extra>\",\"legendgroup\":\"False Negative\",\"line\":{\"color\":\"#00cc96\",\"dash\":\"solid\"},\"marker\":{\"symbol\":\"circle\"},\"mode\":\"lines\",\"name\":\"False Negative\",\"orientation\":\"v\",\"showlegend\":true,\"x\":[0.0,0.005,0.01,0.015,0.02,0.025,0.03,0.035,0.04,0.045,0.05,0.055,0.06,0.065,0.07,0.075,0.08,0.085,0.09,0.095,0.1,0.105,0.11,0.115,0.12,0.125,0.13,0.135,0.14,0.145,0.15,0.155,0.16,0.165,0.17,0.175,0.18,0.185,0.19,0.195,0.2,0.205,0.21,0.215,0.22,0.225,0.23,0.235,0.24,0.245,0.25,0.255,0.26,0.265,0.27,0.275,0.28,0.285,0.29,0.295,0.3,0.305,0.31,0.315,0.32,0.325,0.33,0.335,0.34,0.345,0.35,0.355,0.36,0.365,0.37,0.375,0.38,0.385,0.39,0.395,0.4,0.405,0.41,0.415,0.42,0.425,0.43,0.435,0.44,0.445,0.45,0.455,0.46,0.465,0.47,0.475,0.48,0.485,0.49,0.495,0.5,0.505,0.51,0.515,0.52,0.525,0.53,0.535,0.54,0.545,0.55,0.555,0.56,0.565,0.57,0.575,0.58,0.585,0.59,0.595,0.6,0.605,0.61,0.615,0.62,0.625,0.63,0.635,0.64,0.645,0.65,0.655,0.66,0.665,0.67,0.675,0.68,0.685,0.69,0.695,0.7,0.705,0.71,0.715,0.72,0.725,0.73,0.735,0.74,0.745,0.75,0.755,0.76,0.765,0.77,0.775,0.78,0.785,0.79,0.795,0.8],\"xaxis\":\"x\",\"y\":[0.0,0.0,15.0,42.0,84.0,149.0,227.0,305.0,412.0,522.0,634.0,753.0,876.0,998.0,1121.0,1259.0,1393.0,1527.0,1642.0,1760.0,1901.0,1997.0,2140.0,2264.0,2387.0,2490.0,2616.0,2730.0,2857.0,2967.0,3079.0,3176.0,3267.0,3390.0,3489.0,3591.0,3686.0,3777.0,3873.0,3974.0,4060.0,4145.0,4233.0,4312.0,4387.0,4476.0,4553.0,4623.0,4704.0,4791.0,4870.0,4952.0,5017.0,5069.0,5122.0,5193.0,5259.0,5335.0,5409.0,5463.0,5530.0,5592.0,5653.0,5721.0,5772.0,5813.0,5863.0,5901.0,5946.0,5998.0,6039.0,6093.0,6134.0,6173.0,6205.0,6250.0,6294.0,6330.0,6368.0,6405.0,6442.0,6479.0,6515.0,6540.0,6579.0,6609.0,6644.0,6667.0,6688.0,6712.0,6730.0,6751.0,6771.0,6796.0,6818.0,6849.0,6874.0,6902.0,6922.0,6946.0,6966.0,6984.0,7002.0,7021.0,7042.0,7058.0,7074.0,7092.0,7110.0,7124.0,7146.0,7162.0,7174.0,7191.0,7201.0,7212.0,7227.0,7236.0,7252.0,7263.0,7279.0,7286.0,7294.0,7303.0,7317.0,7327.0,7334.0,7343.0,7347.0,7355.0,7362.0,7367.0,7378.0,7388.0,7398.0,7403.0,7413.0,7416.0,7423.0,7427.0,7429.0,7434.0,7436.0,7439.0,7443.0,7450.0,7457.0,7458.0,7461.0,7463.0,7464.0,7466.0,7466.0,7470.0,7472.0,7476.0,7478.0,7479.0,7481.0,7483.0,7485.0],\"yaxis\":\"y\",\"type\":\"scatter\"}],                        {\"template\":{\"data\":{\"histogram2dcontour\":[{\"type\":\"histogram2dcontour\",\"colorbar\":{\"outlinewidth\":0,\"ticks\":\"\"},\"colorscale\":[[0.0,\"#0d0887\"],[0.1111111111111111,\"#46039f\"],[0.2222222222222222,\"#7201a8\"],[0.3333333333333333,\"#9c179e\"],[0.4444444444444444,\"#bd3786\"],[0.5555555555555556,\"#d8576b\"],[0.6666666666666666,\"#ed7953\"],[0.7777777777777778,\"#fb9f3a\"],[0.8888888888888888,\"#fdca26\"],[1.0,\"#f0f921\"]]}],\"choropleth\":[{\"type\":\"choropleth\",\"colorbar\":{\"outlinewidth\":0,\"ticks\":\"\"}}],\"histogram2d\":[{\"type\":\"histogram2d\",\"colorbar\":{\"outlinewidth\":0,\"ticks\":\"\"},\"colorscale\":[[0.0,\"#0d0887\"],[0.1111111111111111,\"#46039f\"],[0.2222222222222222,\"#7201a8\"],[0.3333333333333333,\"#9c179e\"],[0.4444444444444444,\"#bd3786\"],[0.5555555555555556,\"#d8576b\"],[0.6666666666666666,\"#ed7953\"],[0.7777777777777778,\"#fb9f3a\"],[0.8888888888888888,\"#fdca26\"],[1.0,\"#f0f921\"]]}],\"heatmap\":[{\"type\":\"heatmap\",\"colorbar\":{\"outlinewidth\":0,\"ticks\":\"\"},\"colorscale\":[[0.0,\"#0d0887\"],[0.1111111111111111,\"#46039f\"],[0.2222222222222222,\"#7201a8\"],[0.3333333333333333,\"#9c179e\"],[0.4444444444444444,\"#bd3786\"],[0.5555555555555556,\"#d8576b\"],[0.6666666666666666,\"#ed7953\"],[0.7777777777777778,\"#fb9f3a\"],[0.8888888888888888,\"#fdca26\"],[1.0,\"#f0f921\"]]}],\"heatmapgl\":[{\"type\":\"heatmapgl\",\"colorbar\":{\"outlinewidth\":0,\"ticks\":\"\"},\"colorscale\":[[0.0,\"#0d0887\"],[0.1111111111111111,\"#46039f\"],[0.2222222222222222,\"#7201a8\"],[0.3333333333333333,\"#9c179e\"],[0.4444444444444444,\"#bd3786\"],[0.5555555555555556,\"#d8576b\"],[0.6666666666666666,\"#ed7953\"],[0.7777777777777778,\"#fb9f3a\"],[0.8888888888888888,\"#fdca26\"],[1.0,\"#f0f921\"]]}],\"contourcarpet\":[{\"type\":\"contourcarpet\",\"colorbar\":{\"outlinewidth\":0,\"ticks\":\"\"}}],\"contour\":[{\"type\":\"contour\",\"colorbar\":{\"outlinewidth\":0,\"ticks\":\"\"},\"colorscale\":[[0.0,\"#0d0887\"],[0.1111111111111111,\"#46039f\"],[0.2222222222222222,\"#7201a8\"],[0.3333333333333333,\"#9c179e\"],[0.4444444444444444,\"#bd3786\"],[0.5555555555555556,\"#d8576b\"],[0.6666666666666666,\"#ed7953\"],[0.7777777777777778,\"#fb9f3a\"],[0.8888888888888888,\"#fdca26\"],[1.0,\"#f0f921\"]]}],\"surface\":[{\"type\":\"surface\",\"colorbar\":{\"outlinewidth\":0,\"ticks\":\"\"},\"colorscale\":[[0.0,\"#0d0887\"],[0.1111111111111111,\"#46039f\"],[0.2222222222222222,\"#7201a8\"],[0.3333333333333333,\"#9c179e\"],[0.4444444444444444,\"#bd3786\"],[0.5555555555555556,\"#d8576b\"],[0.6666666666666666,\"#ed7953\"],[0.7777777777777778,\"#fb9f3a\"],[0.8888888888888888,\"#fdca26\"],[1.0,\"#f0f921\"]]}],\"mesh3d\":[{\"type\":\"mesh3d\",\"colorbar\":{\"outlinewidth\":0,\"ticks\":\"\"}}],\"scatter\":[{\"fillpattern\":{\"fillmode\":\"overlay\",\"size\":10,\"solidity\":0.2},\"type\":\"scatter\"}],\"parcoords\":[{\"type\":\"parcoords\",\"line\":{\"colorbar\":{\"outlinewidth\":0,\"ticks\":\"\"}}}],\"scatterpolargl\":[{\"type\":\"scatterpolargl\",\"marker\":{\"colorbar\":{\"outlinewidth\":0,\"ticks\":\"\"}}}],\"bar\":[{\"error_x\":{\"color\":\"#2a3f5f\"},\"error_y\":{\"color\":\"#2a3f5f\"},\"marker\":{\"line\":{\"color\":\"#E5ECF6\",\"width\":0.5},\"pattern\":{\"fillmode\":\"overlay\",\"size\":10,\"solidity\":0.2}},\"type\":\"bar\"}],\"scattergeo\":[{\"type\":\"scattergeo\",\"marker\":{\"colorbar\":{\"outlinewidth\":0,\"ticks\":\"\"}}}],\"scatterpolar\":[{\"type\":\"scatterpolar\",\"marker\":{\"colorbar\":{\"outlinewidth\":0,\"ticks\":\"\"}}}],\"histogram\":[{\"marker\":{\"pattern\":{\"fillmode\":\"overlay\",\"size\":10,\"solidity\":0.2}},\"type\":\"histogram\"}],\"scattergl\":[{\"type\":\"scattergl\",\"marker\":{\"colorbar\":{\"outlinewidth\":0,\"ticks\":\"\"}}}],\"scatter3d\":[{\"type\":\"scatter3d\",\"line\":{\"colorbar\":{\"outlinewidth\":0,\"ticks\":\"\"}},\"marker\":{\"colorbar\":{\"outlinewidth\":0,\"ticks\":\"\"}}}],\"scattermapbox\":[{\"type\":\"scattermapbox\",\"marker\":{\"colorbar\":{\"outlinewidth\":0,\"ticks\":\"\"}}}],\"scatterternary\":[{\"type\":\"scatterternary\",\"marker\":{\"colorbar\":{\"outlinewidth\":0,\"ticks\":\"\"}}}],\"scattercarpet\":[{\"type\":\"scattercarpet\",\"marker\":{\"colorbar\":{\"outlinewidth\":0,\"ticks\":\"\"}}}],\"carpet\":[{\"aaxis\":{\"endlinecolor\":\"#2a3f5f\",\"gridcolor\":\"white\",\"linecolor\":\"white\",\"minorgridcolor\":\"white\",\"startlinecolor\":\"#2a3f5f\"},\"baxis\":{\"endlinecolor\":\"#2a3f5f\",\"gridcolor\":\"white\",\"linecolor\":\"white\",\"minorgridcolor\":\"white\",\"startlinecolor\":\"#2a3f5f\"},\"type\":\"carpet\"}],\"table\":[{\"cells\":{\"fill\":{\"color\":\"#EBF0F8\"},\"line\":{\"color\":\"white\"}},\"header\":{\"fill\":{\"color\":\"#C8D4E3\"},\"line\":{\"color\":\"white\"}},\"type\":\"table\"}],\"barpolar\":[{\"marker\":{\"line\":{\"color\":\"#E5ECF6\",\"width\":0.5},\"pattern\":{\"fillmode\":\"overlay\",\"size\":10,\"solidity\":0.2}},\"type\":\"barpolar\"}],\"pie\":[{\"automargin\":true,\"type\":\"pie\"}]},\"layout\":{\"autotypenumbers\":\"strict\",\"colorway\":[\"#636efa\",\"#EF553B\",\"#00cc96\",\"#ab63fa\",\"#FFA15A\",\"#19d3f3\",\"#FF6692\",\"#B6E880\",\"#FF97FF\",\"#FECB52\"],\"font\":{\"color\":\"#2a3f5f\"},\"hovermode\":\"closest\",\"hoverlabel\":{\"align\":\"left\"},\"paper_bgcolor\":\"white\",\"plot_bgcolor\":\"#E5ECF6\",\"polar\":{\"bgcolor\":\"#E5ECF6\",\"angularaxis\":{\"gridcolor\":\"white\",\"linecolor\":\"white\",\"ticks\":\"\"},\"radialaxis\":{\"gridcolor\":\"white\",\"linecolor\":\"white\",\"ticks\":\"\"}},\"ternary\":{\"bgcolor\":\"#E5ECF6\",\"aaxis\":{\"gridcolor\":\"white\",\"linecolor\":\"white\",\"ticks\":\"\"},\"baxis\":{\"gridcolor\":\"white\",\"linecolor\":\"white\",\"ticks\":\"\"},\"caxis\":{\"gridcolor\":\"white\",\"linecolor\":\"white\",\"ticks\":\"\"}},\"coloraxis\":{\"colorbar\":{\"outlinewidth\":0,\"ticks\":\"\"}},\"colorscale\":{\"sequential\":[[0.0,\"#0d0887\"],[0.1111111111111111,\"#46039f\"],[0.2222222222222222,\"#7201a8\"],[0.3333333333333333,\"#9c179e\"],[0.4444444444444444,\"#bd3786\"],[0.5555555555555556,\"#d8576b\"],[0.6666666666666666,\"#ed7953\"],[0.7777777777777778,\"#fb9f3a\"],[0.8888888888888888,\"#fdca26\"],[1.0,\"#f0f921\"]],\"sequentialminus\":[[0.0,\"#0d0887\"],[0.1111111111111111,\"#46039f\"],[0.2222222222222222,\"#7201a8\"],[0.3333333333333333,\"#9c179e\"],[0.4444444444444444,\"#bd3786\"],[0.5555555555555556,\"#d8576b\"],[0.6666666666666666,\"#ed7953\"],[0.7777777777777778,\"#fb9f3a\"],[0.8888888888888888,\"#fdca26\"],[1.0,\"#f0f921\"]],\"diverging\":[[0,\"#8e0152\"],[0.1,\"#c51b7d\"],[0.2,\"#de77ae\"],[0.3,\"#f1b6da\"],[0.4,\"#fde0ef\"],[0.5,\"#f7f7f7\"],[0.6,\"#e6f5d0\"],[0.7,\"#b8e186\"],[0.8,\"#7fbc41\"],[0.9,\"#4d9221\"],[1,\"#276419\"]]},\"xaxis\":{\"gridcolor\":\"white\",\"linecolor\":\"white\",\"ticks\":\"\",\"title\":{\"standoff\":15},\"zerolinecolor\":\"white\",\"automargin\":true,\"zerolinewidth\":2},\"yaxis\":{\"gridcolor\":\"white\",\"linecolor\":\"white\",\"ticks\":\"\",\"title\":{\"standoff\":15},\"zerolinecolor\":\"white\",\"automargin\":true,\"zerolinewidth\":2},\"scene\":{\"xaxis\":{\"backgroundcolor\":\"#E5ECF6\",\"gridcolor\":\"white\",\"linecolor\":\"white\",\"showbackground\":true,\"ticks\":\"\",\"zerolinecolor\":\"white\",\"gridwidth\":2},\"yaxis\":{\"backgroundcolor\":\"#E5ECF6\",\"gridcolor\":\"white\",\"linecolor\":\"white\",\"showbackground\":true,\"ticks\":\"\",\"zerolinecolor\":\"white\",\"gridwidth\":2},\"zaxis\":{\"backgroundcolor\":\"#E5ECF6\",\"gridcolor\":\"white\",\"linecolor\":\"white\",\"showbackground\":true,\"ticks\":\"\",\"zerolinecolor\":\"white\",\"gridwidth\":2}},\"shapedefaults\":{\"line\":{\"color\":\"#2a3f5f\"}},\"annotationdefaults\":{\"arrowcolor\":\"#2a3f5f\",\"arrowhead\":0,\"arrowwidth\":1},\"geo\":{\"bgcolor\":\"white\",\"landcolor\":\"#E5ECF6\",\"subunitcolor\":\"white\",\"showland\":true,\"showlakes\":true,\"lakecolor\":\"white\"},\"title\":{\"x\":0.05},\"mapbox\":{\"style\":\"light\"}}},\"xaxis\":{\"anchor\":\"y\",\"domain\":[0.0,1.0],\"title\":{\"text\":\"Default Score\"}},\"yaxis\":{\"anchor\":\"x\",\"domain\":[0.0,1.0],\"title\":{\"text\":\"value\"}},\"legend\":{\"title\":{\"text\":\"variable\"},\"tracegroupgap\":0},\"title\":{\"text\":\"Gross Revenue vs Set Default Score\"}},                        {\"responsive\": true}                    ).then(function(){\n",
       "                            \n",
       "var gd = document.getElementById('4b4f0de0-b12d-4335-8705-29bb0d15f693');\n",
       "var x = new MutationObserver(function (mutations, observer) {{\n",
       "        var display = window.getComputedStyle(gd).display;\n",
       "        if (!display || display === 'none') {{\n",
       "            console.log([gd, 'removed!']);\n",
       "            Plotly.purge(gd);\n",
       "            observer.disconnect();\n",
       "        }}\n",
       "}});\n",
       "\n",
       "// Listen for the removal of the full notebook cells\n",
       "var notebookContainer = gd.closest('#notebook-container');\n",
       "if (notebookContainer) {{\n",
       "    x.observe(notebookContainer, {childList: true});\n",
       "}}\n",
       "\n",
       "// Listen for the clearing of the current output cell\n",
       "var outputEl = gd.closest('.output');\n",
       "if (outputEl) {{\n",
       "    x.observe(outputEl, {childList: true});\n",
       "}}\n",
       "\n",
       "                        })                };                });            </script>        </div>"
      ]
     },
     "metadata": {},
     "output_type": "display_data"
    }
   ],
   "source": [
    "# Plotting the Results\n",
    "fig = px.line(dtf, x='Default Score', y=['Gross', 'True Negative', 'False Negative'], title='Gross Revenue vs Set Default Score')\n",
    "display(fig)"
   ]
  },
  {
   "cell_type": "code",
   "execution_count": 117,
   "id": "f8f6af8c",
   "metadata": {},
   "outputs": [
    {
     "data": {
      "application/vnd.plotly.v1+json": {
       "config": {
        "plotlyServerURL": "https://plot.ly"
       },
       "data": [
        {
         "hovertemplate": "variable=Recall 0<br>Default Score=%{x}<br>value=%{y}<extra></extra>",
         "legendgroup": "Recall 0",
         "line": {
          "color": "#636efa",
          "dash": "solid"
         },
         "marker": {
          "symbol": "circle"
         },
         "mode": "lines",
         "name": "Recall 0",
         "showlegend": true,
         "type": "scattergl",
         "x": [
          0,
          0.005,
          0.01,
          0.015,
          0.02,
          0.025,
          0.03,
          0.035,
          0.04,
          0.045,
          0.05,
          0.055,
          0.06,
          0.065,
          0.07,
          0.075,
          0.08,
          0.085,
          0.09,
          0.095,
          0.1,
          0.105,
          0.11,
          0.115,
          0.12,
          0.125,
          0.13,
          0.135,
          0.14,
          0.145,
          0.15,
          0.155,
          0.16,
          0.165,
          0.17,
          0.175,
          0.18,
          0.185,
          0.19,
          0.195,
          0.2,
          0.205,
          0.21,
          0.215,
          0.22,
          0.225,
          0.23,
          0.235,
          0.24,
          0.245,
          0.25,
          0.255,
          0.26,
          0.265,
          0.27,
          0.275,
          0.28,
          0.285,
          0.29,
          0.295,
          0.3,
          0.305,
          0.31,
          0.315,
          0.32,
          0.325,
          0.33,
          0.335,
          0.34,
          0.345,
          0.35,
          0.355,
          0.36,
          0.365,
          0.37,
          0.375,
          0.38,
          0.385,
          0.39,
          0.395,
          0.4,
          0.405,
          0.41,
          0.415,
          0.42,
          0.425,
          0.43,
          0.435,
          0.44,
          0.445,
          0.45,
          0.455,
          0.46,
          0.465,
          0.47,
          0.475,
          0.48,
          0.485,
          0.49,
          0.495,
          0.5,
          0.505,
          0.51,
          0.515,
          0.52,
          0.525,
          0.53,
          0.535,
          0.54,
          0.545,
          0.55,
          0.555,
          0.56,
          0.565,
          0.57,
          0.575,
          0.58,
          0.585,
          0.59,
          0.595,
          0.6,
          0.605,
          0.61,
          0.615,
          0.62,
          0.625,
          0.63,
          0.635,
          0.64,
          0.645,
          0.65,
          0.655,
          0.66,
          0.665,
          0.67,
          0.675,
          0.68,
          0.685,
          0.69,
          0.695,
          0.7,
          0.705,
          0.71,
          0.715,
          0.72,
          0.725,
          0.73,
          0.735,
          0.74,
          0.745,
          0.75,
          0.755,
          0.76,
          0.765,
          0.77,
          0.775,
          0.78,
          0.785,
          0.79,
          0.795,
          0.8
         ],
         "xaxis": "x",
         "y": [
          0,
          0.0017217814225109608,
          0.017359816816656905,
          0.04796137529509913,
          0.08523705557626426,
          0.12691481619539557,
          0.16949784333564089,
          0.2120986207998296,
          0.25418463886965936,
          0.2942471200099402,
          0.33177130482631306,
          0.36720095141736336,
          0.4008555656140725,
          0.43335640875445974,
          0.4641177201483927,
          0.49415126826064576,
          0.5221790297672932,
          0.5475087420345421,
          0.571027921259563,
          0.5937660862310737,
          0.6163089976392069,
          0.6362248611037151,
          0.6545076947654295,
          0.6716722580187089,
          0.6880735573424215,
          0.704208601806983,
          0.7175745957363722,
          0.7324671175248948,
          0.7446793403979622,
          0.7571578181301809,
          0.768926282904663,
          0.7804639934678808,
          0.791114187833928,
          0.8005396098478798,
          0.8104975415801339,
          0.8199229635940856,
          0.8289578784812823,
          0.8363775138896284,
          0.8437971492979747,
          0.8511457834105473,
          0.8581039103963647,
          0.8641567708610682,
          0.8702096313257717,
          0.8760317375792108,
          0.8819603457763104,
          0.8871789410156735,
          0.8932140511564336,
          0.898361645100023,
          0.9029412286774233,
          0.9072190567477857,
          0.9119051422688464,
          0.9155262083533025,
          0.9191295241138151,
          0.9229280934377052,
          0.9263716562827271,
          0.929637715888315,
          0.9327617729023555,
          0.9362053357473774,
          0.9393116424374744,
          0.9425777020430622,
          0.9452580009585175,
          0.9480448018176332,
          0.9502635923105597,
          0.9527308873386939,
          0.955144931394998,
          0.9569909650851128,
          0.9590855033104354,
          0.96087828602872,
          0.9626710687470046,
          0.9647301063244405,
          0.9663986367751212,
          0.9681914194934057,
          0.9695581944370485,
          0.9711912242398424,
          0.9728952553384099,
          0.9740845270426185,
          0.9754868026341481,
          0.9768003266059606,
          0.9779540976622824,
          0.979019117098887,
          0.9799776345918313,
          0.9809716527326624,
          0.9817349166622291,
          0.9826756838312299,
          0.9834389477607967,
          0.9841489607185331,
          0.9850009762678169,
          0.9856577382537232,
          0.986385501535403,
          0.986989012549479,
          0.9875392725917248,
          0.9880895326339706,
          0.98871079397199,
          0.9892788043381792,
          0.9897403127607078,
          0.9903083231268971,
          0.9907875818733692,
          0.9912668406198413,
          0.9918703516339173,
          0.9922431084367289,
          0.9925981149155972,
          0.9928998704226352,
          0.993148374957843,
          0.9935921330564282,
          0.9940713918029004,
          0.9946216518451462,
          0.9950299092958447,
          0.9952251628592221,
          0.99547366739443,
          0.9957931732254114,
          0.9960416777606191,
          0.9962901822958269,
          0.996467685535261,
          0.9967161900704687,
          0.9969646946056766,
          0.9971954488169409,
          0.9974617036760921,
          0.9976214565915827,
          0.9977279585352433,
          0.9979054617746774,
          0.9980119637183379,
          0.9981539663098852,
          0.9982072172817154,
          0.9983314695493193,
          0.9984202211690363,
          0.998579974084527,
          0.998704226352131,
          0.9988107282957914,
          0.9988284786197348,
          0.9988817295915651,
          0.9989172302394519,
          0.9989704812112821,
          0.999094733478886,
          0.9992012354225465,
          0.9992367360704333,
          0.9993077373662069,
          0.9993254876901504,
          0.9994142393098674,
          0.9995029909295845,
          0.9995384915774713,
          0.9995917425493015,
          0.9996449935211318,
          0.9996627438450751,
          0.9996804941690186,
          0.9996804941690186,
          0.9997337451408488,
          0.9997692457887356,
          0.9997869961126791,
          0.9998047464366224,
          0.9998224967605659,
          0.9998402470845092,
          0.9998579974084527,
          0.9998757477323961,
          0.9998757477323961,
          0.9998934980563395,
          0.9999112483802829,
          0.9999112483802829,
          0.9999289987042264,
          0.9999467490281697,
          0.9999467490281697,
          0.9999467490281697
         ],
         "yaxis": "y"
        },
        {
         "hovertemplate": "variable=Recall 1<br>Default Score=%{x}<br>value=%{y}<extra></extra>",
         "legendgroup": "Recall 1",
         "line": {
          "color": "#EF553B",
          "dash": "solid"
         },
         "marker": {
          "symbol": "circle"
         },
         "mode": "lines",
         "name": "Recall 1",
         "showlegend": true,
         "type": "scattergl",
         "x": [
          0,
          0.005,
          0.01,
          0.015,
          0.02,
          0.025,
          0.03,
          0.035,
          0.04,
          0.045,
          0.05,
          0.055,
          0.06,
          0.065,
          0.07,
          0.075,
          0.08,
          0.085,
          0.09,
          0.095,
          0.1,
          0.105,
          0.11,
          0.115,
          0.12,
          0.125,
          0.13,
          0.135,
          0.14,
          0.145,
          0.15,
          0.155,
          0.16,
          0.165,
          0.17,
          0.175,
          0.18,
          0.185,
          0.19,
          0.195,
          0.2,
          0.205,
          0.21,
          0.215,
          0.22,
          0.225,
          0.23,
          0.235,
          0.24,
          0.245,
          0.25,
          0.255,
          0.26,
          0.265,
          0.27,
          0.275,
          0.28,
          0.285,
          0.29,
          0.295,
          0.3,
          0.305,
          0.31,
          0.315,
          0.32,
          0.325,
          0.33,
          0.335,
          0.34,
          0.345,
          0.35,
          0.355,
          0.36,
          0.365,
          0.37,
          0.375,
          0.38,
          0.385,
          0.39,
          0.395,
          0.4,
          0.405,
          0.41,
          0.415,
          0.42,
          0.425,
          0.43,
          0.435,
          0.44,
          0.445,
          0.45,
          0.455,
          0.46,
          0.465,
          0.47,
          0.475,
          0.48,
          0.485,
          0.49,
          0.495,
          0.5,
          0.505,
          0.51,
          0.515,
          0.52,
          0.525,
          0.53,
          0.535,
          0.54,
          0.545,
          0.55,
          0.555,
          0.56,
          0.565,
          0.57,
          0.575,
          0.58,
          0.585,
          0.59,
          0.595,
          0.6,
          0.605,
          0.61,
          0.615,
          0.62,
          0.625,
          0.63,
          0.635,
          0.64,
          0.645,
          0.65,
          0.655,
          0.66,
          0.665,
          0.67,
          0.675,
          0.68,
          0.685,
          0.69,
          0.695,
          0.7,
          0.705,
          0.71,
          0.715,
          0.72,
          0.725,
          0.73,
          0.735,
          0.74,
          0.745,
          0.75,
          0.755,
          0.76,
          0.765,
          0.77,
          0.775,
          0.78,
          0.785,
          0.79,
          0.795,
          0.8
         ],
         "xaxis": "x",
         "y": [
          1,
          1,
          0.998,
          0.9944,
          0.9888,
          0.9801333333333333,
          0.9697333333333333,
          0.9593333333333334,
          0.9450666666666667,
          0.9304,
          0.9154666666666667,
          0.8996,
          0.8832,
          0.8669333333333333,
          0.8505333333333334,
          0.8321333333333333,
          0.8142666666666667,
          0.7964,
          0.7810666666666667,
          0.7653333333333333,
          0.7465333333333334,
          0.7337333333333333,
          0.7146666666666667,
          0.6981333333333334,
          0.6817333333333333,
          0.668,
          0.6512,
          0.636,
          0.6190666666666667,
          0.6044,
          0.5894666666666667,
          0.5765333333333333,
          0.5644,
          0.548,
          0.5348,
          0.5212,
          0.5085333333333333,
          0.4964,
          0.4836,
          0.47013333333333335,
          0.45866666666666667,
          0.44733333333333336,
          0.4356,
          0.42506666666666665,
          0.41506666666666664,
          0.4032,
          0.39293333333333336,
          0.3836,
          0.3728,
          0.3612,
          0.3506666666666667,
          0.33973333333333333,
          0.3310666666666667,
          0.32413333333333333,
          0.31706666666666666,
          0.3076,
          0.2988,
          0.2886666666666667,
          0.2788,
          0.2716,
          0.26266666666666666,
          0.2544,
          0.24626666666666666,
          0.2372,
          0.2304,
          0.22493333333333335,
          0.21826666666666666,
          0.2132,
          0.2072,
          0.20026666666666668,
          0.1948,
          0.1876,
          0.18213333333333334,
          0.17693333333333333,
          0.17266666666666666,
          0.16666666666666666,
          0.1608,
          0.156,
          0.15093333333333334,
          0.146,
          0.14106666666666667,
          0.13613333333333333,
          0.13133333333333333,
          0.128,
          0.1228,
          0.1188,
          0.11413333333333334,
          0.11106666666666666,
          0.10826666666666666,
          0.10506666666666667,
          0.10266666666666667,
          0.09986666666666667,
          0.0972,
          0.09386666666666667,
          0.09093333333333334,
          0.0868,
          0.08346666666666666,
          0.07973333333333334,
          0.07706666666666667,
          0.07386666666666666,
          0.0712,
          0.0688,
          0.0664,
          0.06386666666666667,
          0.061066666666666665,
          0.05893333333333333,
          0.0568,
          0.0544,
          0.052,
          0.050133333333333335,
          0.0472,
          0.045066666666666665,
          0.04346666666666667,
          0.0412,
          0.03986666666666667,
          0.0384,
          0.0364,
          0.0352,
          0.03306666666666667,
          0.0316,
          0.029466666666666665,
          0.028533333333333334,
          0.027466666666666667,
          0.026266666666666667,
          0.0244,
          0.023066666666666666,
          0.022133333333333335,
          0.020933333333333335,
          0.0204,
          0.019333333333333334,
          0.0184,
          0.017733333333333334,
          0.016266666666666665,
          0.014933333333333333,
          0.0136,
          0.012933333333333333,
          0.0116,
          0.0112,
          0.010266666666666667,
          0.009733333333333333,
          0.009466666666666667,
          0.0088,
          0.008533333333333334,
          0.008133333333333333,
          0.0076,
          0.006666666666666667,
          0.005733333333333333,
          0.0056,
          0.0052,
          0.004933333333333333,
          0.0048,
          0.004533333333333334,
          0.004533333333333334,
          0.004,
          0.0037333333333333333,
          0.0032,
          0.0029333333333333334,
          0.0028,
          0.002533333333333333,
          0.002266666666666667,
          0.002
         ],
         "yaxis": "y"
        },
        {
         "hovertemplate": "variable=Precision 0<br>Default Score=%{x}<br>value=%{y}<extra></extra>",
         "legendgroup": "Precision 0",
         "line": {
          "color": "#00cc96",
          "dash": "solid"
         },
         "marker": {
          "symbol": "circle"
         },
         "mode": "lines",
         "name": "Precision 0",
         "showlegend": true,
         "type": "scattergl",
         "x": [
          0,
          0.005,
          0.01,
          0.015,
          0.02,
          0.025,
          0.03,
          0.035,
          0.04,
          0.045,
          0.05,
          0.055,
          0.06,
          0.065,
          0.07,
          0.075,
          0.08,
          0.085,
          0.09,
          0.095,
          0.1,
          0.105,
          0.11,
          0.115,
          0.12,
          0.125,
          0.13,
          0.135,
          0.14,
          0.145,
          0.15,
          0.155,
          0.16,
          0.165,
          0.17,
          0.175,
          0.18,
          0.185,
          0.19,
          0.195,
          0.2,
          0.205,
          0.21,
          0.215,
          0.22,
          0.225,
          0.23,
          0.235,
          0.24,
          0.245,
          0.25,
          0.255,
          0.26,
          0.265,
          0.27,
          0.275,
          0.28,
          0.285,
          0.29,
          0.295,
          0.3,
          0.305,
          0.31,
          0.315,
          0.32,
          0.325,
          0.33,
          0.335,
          0.34,
          0.345,
          0.35,
          0.355,
          0.36,
          0.365,
          0.37,
          0.375,
          0.38,
          0.385,
          0.39,
          0.395,
          0.4,
          0.405,
          0.41,
          0.415,
          0.42,
          0.425,
          0.43,
          0.435,
          0.44,
          0.445,
          0.45,
          0.455,
          0.46,
          0.465,
          0.47,
          0.475,
          0.48,
          0.485,
          0.49,
          0.495,
          0.5,
          0.505,
          0.51,
          0.515,
          0.52,
          0.525,
          0.53,
          0.535,
          0.54,
          0.545,
          0.55,
          0.555,
          0.56,
          0.565,
          0.57,
          0.575,
          0.58,
          0.585,
          0.59,
          0.595,
          0.6,
          0.605,
          0.61,
          0.615,
          0.62,
          0.625,
          0.63,
          0.635,
          0.64,
          0.645,
          0.65,
          0.655,
          0.66,
          0.665,
          0.67,
          0.675,
          0.68,
          0.685,
          0.69,
          0.695,
          0.7,
          0.705,
          0.71,
          0.715,
          0.72,
          0.725,
          0.73,
          0.735,
          0.74,
          0.745,
          0.75,
          0.755,
          0.76,
          0.765,
          0.77,
          0.775,
          0.78,
          0.785,
          0.79,
          0.795,
          0.8
         ],
         "xaxis": "x",
         "y": [
          0,
          1,
          0.9848942598187311,
          0.9846938775510204,
          0.9828080229226361,
          0.9795862446910536,
          0.9767798690671031,
          0.9751101681083728,
          0.9720336682052675,
          0.9694718989414586,
          0.9671927554980595,
          0.9648787313432836,
          0.9626582548275715,
          0.9607272154887455,
          0.958889540853748,
          0.9567324214722661,
          0.9547888741034046,
          0.9528296058322007,
          0.9514373595173311,
          0.9500156201187129,
          0.9480913112336846,
          0.9472251585623679,
          0.9451464896316613,
          0.9435467783762218,
          0.9419941192194601,
          0.9409434812513341,
          0.9392221551043167,
          0.9379474940334129,
          0.9362419102878822,
          0.9349670122525919,
          0.9336393810078021,
          0.9326333651500689,
          0.9317041558658751,
          0.9300886780779543,
          0.9290132248219736,
          0.9278669425305828,
          0.9268462103320301,
          0.9257898459603898,
          0.9246644621668936,
          0.9234665382763602,
          0.9225235196458218,
          0.9215393060629579,
          0.9205189830635773,
          0.919649678561446,
          0.9188704368088175,
          0.9178067098811906,
          0.9170281007398768,
          0.9163015533910273,
          0.9153545786623001,
          0.9142949142233592,
          0.9134129862740915,
          0.9124004953122236,
          0.9116694249797528,
          0.9111699144819851,
          0.9106279771771563,
          0.9097905013375951,
          0.9090264323277055,
          0.9081407761975274,
          0.9072642172578738,
          0.9067190301374541,
          0.9059251824507085,
          0.9052235517440087,
          0.9044907751571264,
          0.9036787608384544,
          0.9031251048974522,
          0.9026738326050195,
          0.9021120293847567,
          0.9017057001032748,
          0.9011964107676969,
          0.9006097965135547,
          0.9001537622141759,
          0.8995184537748606,
          0.899038778063072,
          0.8986154679980949,
          0.8983036958125051,
          0.8977538567245243,
          0.8972408163265306,
          0.896838331160365,
          0.8963929518572149,
          0.8959551656920078,
          0.8955085886684725,
          0.8950667271313811,
          0.8946185076751371,
          0.8943474257281788,
          0.8938579933207492,
          0.8934942710263807,
          0.8930732586584267,
          0.8928066113576436,
          0.892576054482958,
          0.8922909044226202,
          0.8920869077206767,
          0.8918403640033965,
          0.891615443718786,
          0.8913144301044316,
          0.8910462310433546,
          0.8906609195402299,
          0.8903528360875391,
          0.8900027092928745,
          0.889778825177943,
          0.8894758616300162,
          0.88922812708711,
          0.8890036712703231,
          0.8887741648531444,
          0.8885502484245281,
          0.8883020065032913,
          0.888131617320738,
          0.8879472842185298,
          0.8877137428752375,
          0.8874857576908469,
          0.8873212704036442,
          0.8870376225102751,
          0.8868383630905357,
          0.8866881475865555,
          0.886475222202927,
          0.8863604084144744,
          0.8862299064535976,
          0.8860472083379323,
          0.8859376724097164,
          0.8857250910007721,
          0.8855896159541288,
          0.8853772990677753,
          0.8852941639509438,
          0.8851881001101841,
          0.8850753784659932,
          0.8848894832061669,
          0.8847666079516859,
          0.884681908236108,
          0.8845676198261362,
          0.8845138168442893,
          0.8844080529318392,
          0.884314403343914,
          0.8842503849417088,
          0.8841103292284493,
          0.8839824120603015,
          0.8838472649626327,
          0.8837851839060611,
          0.8836482923154194,
          0.8836158192090395,
          0.8835278980731814,
          0.8834761053060969,
          0.883453869444488,
          0.8833900644695769,
          0.8833641810709916,
          0.8833244455597729,
          0.8832690317116778,
          0.883177570093458,
          0.8830843041031028,
          0.8830722919900287,
          0.8830325928480725,
          0.8830067408684746,
          0.882994732881866,
          0.882968884708833,
          0.8829707191673459,
          0.8829153605015674,
          0.8828895193016002,
          0.8828360080240722,
          0.8828083372512145,
          0.8827963392465367,
          0.8827705085011361,
          0.8827428428161775,
          0.8827151788652282
         ],
         "yaxis": "y"
        },
        {
         "hovertemplate": "variable=Precision 1<br>Default Score=%{x}<br>value=%{y}<extra></extra>",
         "legendgroup": "Precision 1",
         "line": {
          "color": "#ab63fa",
          "dash": "solid"
         },
         "marker": {
          "symbol": "circle"
         },
         "mode": "lines",
         "name": "Precision 1",
         "showlegend": true,
         "type": "scattergl",
         "x": [
          0,
          0.005,
          0.01,
          0.015,
          0.02,
          0.025,
          0.03,
          0.035,
          0.04,
          0.045,
          0.05,
          0.055,
          0.06,
          0.065,
          0.07,
          0.075,
          0.08,
          0.085,
          0.09,
          0.095,
          0.1,
          0.105,
          0.11,
          0.115,
          0.12,
          0.125,
          0.13,
          0.135,
          0.14,
          0.145,
          0.15,
          0.155,
          0.16,
          0.165,
          0.17,
          0.175,
          0.18,
          0.185,
          0.19,
          0.195,
          0.2,
          0.205,
          0.21,
          0.215,
          0.22,
          0.225,
          0.23,
          0.235,
          0.24,
          0.245,
          0.25,
          0.255,
          0.26,
          0.265,
          0.27,
          0.275,
          0.28,
          0.285,
          0.29,
          0.295,
          0.3,
          0.305,
          0.31,
          0.315,
          0.32,
          0.325,
          0.33,
          0.335,
          0.34,
          0.345,
          0.35,
          0.355,
          0.36,
          0.365,
          0.37,
          0.375,
          0.38,
          0.385,
          0.39,
          0.395,
          0.4,
          0.405,
          0.41,
          0.415,
          0.42,
          0.425,
          0.43,
          0.435,
          0.44,
          0.445,
          0.45,
          0.455,
          0.46,
          0.465,
          0.47,
          0.475,
          0.48,
          0.485,
          0.49,
          0.495,
          0.5,
          0.505,
          0.51,
          0.515,
          0.52,
          0.525,
          0.53,
          0.535,
          0.54,
          0.545,
          0.55,
          0.555,
          0.56,
          0.565,
          0.57,
          0.575,
          0.58,
          0.585,
          0.59,
          0.595,
          0.6,
          0.605,
          0.61,
          0.615,
          0.62,
          0.625,
          0.63,
          0.635,
          0.64,
          0.645,
          0.65,
          0.655,
          0.66,
          0.665,
          0.67,
          0.675,
          0.68,
          0.685,
          0.69,
          0.695,
          0.7,
          0.705,
          0.71,
          0.715,
          0.72,
          0.725,
          0.73,
          0.735,
          0.74,
          0.745,
          0.75,
          0.755,
          0.76,
          0.765,
          0.77,
          0.775,
          0.78,
          0.785,
          0.79,
          0.795,
          0.8
         ],
         "xaxis": "x",
         "y": [
          0.11748672400018798,
          0.11766551615939755,
          0.11910444911208708,
          0.12207617894030412,
          0.12579939271598445,
          0.13001874845236833,
          0.13453321248219605,
          0.1394839385068724,
          0.14434375318195702,
          0.14930035517138088,
          0.15425053918044573,
          0.1591386182984645,
          0.1640497300510179,
          0.16921275211450879,
          0.1744373649812683,
          0.17965399119145628,
          0.1849149155211046,
          0.18982996980772288,
          0.19510407993338885,
          0.2005170125061133,
          0.2057321330148815,
          0.2116782705696811,
          0.21592007734450533,
          0.22062107613870982,
          0.22538129242704752,
          0.23115253298883454,
          0.23486415003606637,
          0.24039915331115816,
          0.24402165343984863,
          0.24887449214889645,
          0.25351224267446526,
          0.2590462497004553,
          0.2645459658771327,
          0.26780478269368607,
          0.27309865867774225,
          0.2781414543902092,
          0.28356877323420077,
          0.28769028668572755,
          0.29186448861350284,
          0.2960040295500336,
          0.3008570928808816,
          0.3047783430232558,
          0.3088193591076661,
          0.3134093590247739,
          0.3188569087370685,
          0.32238805970149254,
          0.3287961619993306,
          0.33441822620016276,
          0.3383349467570184,
          0.34135584677419356,
          0.3463716581061504,
          0.3487067195839606,
          0.3527489700241512,
          0.35892514395393477,
          0.3643885994483604,
          0.367883910062191,
          0.3717034334052082,
          0.37593332175724953,
          0.379491833030853,
          0.38638088012139604,
          0.38979026513652554,
          0.39462254395036195,
          0.39728973972897397,
          0.4004952723998199,
          0.4061104582843713,
          0.41046228710462285,
          0.41527143581938103,
          0.42045753352616355,
          0.4249384741591468,
          0.4304958440813987,
          0.43559928443649376,
          0.43982494529540483,
          0.44336254462836744,
          0.4498305084745763,
          0.4588944011339476,
          0.4612546125461255,
          0.46617703904136065,
          0.47234557932983445,
          0.476832350463353,
          0.48089591567852435,
          0.4839890210430009,
          0.4878165312947922,
          0.4890764647467726,
          0.49586776859504134,
          0.4967637540453074,
          0.4994394618834081,
          0.503233392122281,
          0.5076173065204144,
          0.5142495250158328,
          0.5180802103879028,
          0.5230978260869565,
          0.5274647887323943,
          0.5340659340659341,
          0.5382262996941896,
          0.5412698412698412,
          0.543859649122807,
          0.5467248908296943,
          0.5486238532110091,
          0.5579150579150579,
          0.5590312815338042,
          0.5615141955835962,
          0.5633187772925764,
          0.5633484162895928,
          0.5702380952380952,
          0.5782828282828283,
          0.5932885906040268,
          0.603399433427762,
          0.6026587887740029,
          0.6046511627906976,
          0.6133768352365416,
          0.6135181975736569,
          0.6179159049360147,
          0.6209523809523809,
          0.6255060728744939,
          0.6361702127659574,
          0.6457399103139013,
          0.65625,
          0.6633165829145728,
          0.6595744680851063,
          0.6676056338028169,
          0.6636636636636637,
          0.6729559748427673,
          0.6710097719869706,
          0.6769759450171822,
          0.6727941176470589,
          0.6837944664031621,
          0.694560669456067,
          0.7008928571428571,
          0.6986301369863014,
          0.6971153846153846,
          0.6934673366834171,
          0.6963350785340314,
          0.7052023121387283,
          0.7133757961783439,
          0.7034482758620689,
          0.7132352941176471,
          0.696,
          0.717948717948718,
          0.7333333333333333,
          0.7373737373737373,
          0.7553191489361702,
          0.7674418604651163,
          0.7710843373493976,
          0.7721518987341772,
          0.76,
          0.7692307692307693,
          0.7678571428571429,
          0.7777777777777778,
          0.78,
          0.7872340425531915,
          0.8,
          0.8095238095238095,
          0.8292682926829268,
          0.8108108108108109,
          0.8235294117647058,
          0.8275862068965517,
          0.8148148148148148,
          0.84,
          0.8636363636363636,
          0.85,
          0.8333333333333334
         ],
         "yaxis": "y"
        },
        {
         "hovertemplate": "variable=F1 0<br>Default Score=%{x}<br>value=%{y}<extra></extra>",
         "legendgroup": "F1 0",
         "line": {
          "color": "#FFA15A",
          "dash": "solid"
         },
         "marker": {
          "symbol": "circle"
         },
         "mode": "lines",
         "name": "F1 0",
         "showlegend": true,
         "type": "scattergl",
         "x": [
          0,
          0.005,
          0.01,
          0.015,
          0.02,
          0.025,
          0.03,
          0.035,
          0.04,
          0.045,
          0.05,
          0.055,
          0.06,
          0.065,
          0.07,
          0.075,
          0.08,
          0.085,
          0.09,
          0.095,
          0.1,
          0.105,
          0.11,
          0.115,
          0.12,
          0.125,
          0.13,
          0.135,
          0.14,
          0.145,
          0.15,
          0.155,
          0.16,
          0.165,
          0.17,
          0.175,
          0.18,
          0.185,
          0.19,
          0.195,
          0.2,
          0.205,
          0.21,
          0.215,
          0.22,
          0.225,
          0.23,
          0.235,
          0.24,
          0.245,
          0.25,
          0.255,
          0.26,
          0.265,
          0.27,
          0.275,
          0.28,
          0.285,
          0.29,
          0.295,
          0.3,
          0.305,
          0.31,
          0.315,
          0.32,
          0.325,
          0.33,
          0.335,
          0.34,
          0.345,
          0.35,
          0.355,
          0.36,
          0.365,
          0.37,
          0.375,
          0.38,
          0.385,
          0.39,
          0.395,
          0.4,
          0.405,
          0.41,
          0.415,
          0.42,
          0.425,
          0.43,
          0.435,
          0.44,
          0.445,
          0.45,
          0.455,
          0.46,
          0.465,
          0.47,
          0.475,
          0.48,
          0.485,
          0.49,
          0.495,
          0.5,
          0.505,
          0.51,
          0.515,
          0.52,
          0.525,
          0.53,
          0.535,
          0.54,
          0.545,
          0.55,
          0.555,
          0.56,
          0.565,
          0.57,
          0.575,
          0.58,
          0.585,
          0.59,
          0.595,
          0.6,
          0.605,
          0.61,
          0.615,
          0.62,
          0.625,
          0.63,
          0.635,
          0.64,
          0.645,
          0.65,
          0.655,
          0.66,
          0.665,
          0.67,
          0.675,
          0.68,
          0.685,
          0.69,
          0.695,
          0.7,
          0.705,
          0.71,
          0.715,
          0.72,
          0.725,
          0.73,
          0.735,
          0.74,
          0.745,
          0.75,
          0.755,
          0.76,
          0.765,
          0.77,
          0.775,
          0.78,
          0.785,
          0.79,
          0.795,
          0.8
         ],
         "xaxis": "x",
         "y": [
          0,
          0.0034376439734911577,
          0.034118262689691266,
          0.09146764611296355,
          0.15686915048266176,
          0.22471556980325602,
          0.2888690575227263,
          0.3484130571066175,
          0.40298864483811503,
          0.451467944877172,
          0.4940657133039042,
          0.53195674813891,
          0.5660183467843001,
          0.5972917099903362,
          0.6254889061658991,
          0.6517001229004507,
          0.6751273695322899,
          0.6954198559334455,
          0.7137073067920887,
          0.7307860357408136,
          0.7470175023397412,
          0.7611837285112076,
          0.7734242265338228,
          0.7847284868468805,
          0.7952568521253898,
          0.8055431472081218,
          0.8135722838829129,
          0.8225690706853248,
          0.8295451175022492,
          0.8367202824637112,
          0.8433153258383219,
          0.8497903016949807,
          0.8556727750952742,
          0.8604653381285355,
          0.8657180505654725,
          0.8705616283452695,
          0.875173344327424,
          0.8788152900692884,
          0.8823818760615144,
          0.8858325174114648,
          0.8891484274416038,
          0.8919260575637105,
          0.8946576029928373,
          0.8973109579825822,
          0.9000371339812155,
          0.9022329729046699,
          0.904964436971163,
          0.907242921547714,
          0.909105531230453,
          0.9107432420392381,
          0.9126584414776917,
          0.9139606793836994,
          0.915384275423167,
          0.9170113138332114,
          0.9184323525271013,
          0.9196070340552926,
          0.9207411625563976,
          0.9219595332779793,
          0.92300983743808,
          0.9243007084297923,
          0.9251737317581653,
          0.9261394671360078,
          0.926812378273101,
          0.9275567690872015,
          0.9284069048214703,
          0.9290391508133443,
          0.9297267533897722,
          0.9303520636584716,
          0.9309199515950461,
          0.9315678964734113,
          0.9321006676938879,
          0.9325924342808293,
          0.932967811910191,
          0.9334948474715076,
          0.9341127547890109,
          0.9343628686235782,
          0.9347291792460051,
          0.9351130445126045,
          0.9353989813242785,
          0.9356472174864501,
          0.9358409329762348,
          0.9360523708301928,
          0.9361543669600543,
          0.9364332955564201,
          0.9365111561866126,
          0.9366331615845932,
          0.936787284866594,
          0.9369373929622975,
          0.9371390024874573,
          0.9372540095909923,
          0.9373894289902445,
          0.937501052596123,
          0.9376562381637754,
          0.9377450238083219,
          0.9378037909749903,
          0.9378451297309565,
          0.9378890858530274,
          0.9379093748950319,
          0.9380550286222701,
          0.9380532458488208,
          0.9380740293399763,
          0.938083818276342,
          0.9380668958001509,
          0.9381400103910034,
          0.9382151413110854,
          0.938365053713922,
          0.9384437673686679,
          0.938400127199846,
          0.9383831538789751,
          0.9384331010948386,
          0.9383847420921928,
          0.9383834753023983,
          0.9383780892443732,
          0.9383689839572192,
          0.9384147563991179,
          0.9384438059601764,
          0.9384592261059804,
          0.9384684744857067,
          0.9383963004390724,
          0.9383987514501039,
          0.9383266160996655,
          0.9383426778801228,
          0.9383066231740178,
          0.9382981740530351,
          0.9382328901936581,
          0.9382343376055903,
          0.9382415475048984,
          0.9382242601083784,
          0.9382018256846316,
          0.9381658136472001,
          0.9381287768285059,
          0.9381162331330273,
          0.9380921825651453,
          0.938067107159819,
          0.9380066483933049,
          0.9380029657275195,
          0.9379336770818584,
          0.9379544716259777,
          0.9379440155244069,
          0.9379304601290861,
          0.9379413724183878,
          0.9379288521750715,
          0.9379220757592158,
          0.9379074899038261,
          0.9378762520920242,
          0.9378481212898285,
          0.9378111523668392,
          0.9378121878121878,
          0.9377976091372249,
          0.9377908380297518,
          0.937791873735734,
          0.9377851030533081,
          0.9377939450442426,
          0.9377627208936463,
          0.9377559513900449,
          0.9377335719339132,
          0.937717962163017,
          0.937718998909687,
          0.9377122311738464,
          0.9376966226675766,
          0.9376810146809148
         ],
         "yaxis": "y"
        },
        {
         "hovertemplate": "variable=F1 1<br>Default Score=%{x}<br>value=%{y}<extra></extra>",
         "legendgroup": "F1 1",
         "line": {
          "color": "#19d3f3",
          "dash": "solid"
         },
         "marker": {
          "symbol": "circle"
         },
         "mode": "lines",
         "name": "F1 1",
         "showlegend": true,
         "type": "scattergl",
         "x": [
          0,
          0.005,
          0.01,
          0.015,
          0.02,
          0.025,
          0.03,
          0.035,
          0.04,
          0.045,
          0.05,
          0.055,
          0.06,
          0.065,
          0.07,
          0.075,
          0.08,
          0.085,
          0.09,
          0.095,
          0.1,
          0.105,
          0.11,
          0.115,
          0.12,
          0.125,
          0.13,
          0.135,
          0.14,
          0.145,
          0.15,
          0.155,
          0.16,
          0.165,
          0.17,
          0.175,
          0.18,
          0.185,
          0.19,
          0.195,
          0.2,
          0.205,
          0.21,
          0.215,
          0.22,
          0.225,
          0.23,
          0.235,
          0.24,
          0.245,
          0.25,
          0.255,
          0.26,
          0.265,
          0.27,
          0.275,
          0.28,
          0.285,
          0.29,
          0.295,
          0.3,
          0.305,
          0.31,
          0.315,
          0.32,
          0.325,
          0.33,
          0.335,
          0.34,
          0.345,
          0.35,
          0.355,
          0.36,
          0.365,
          0.37,
          0.375,
          0.38,
          0.385,
          0.39,
          0.395,
          0.4,
          0.405,
          0.41,
          0.415,
          0.42,
          0.425,
          0.43,
          0.435,
          0.44,
          0.445,
          0.45,
          0.455,
          0.46,
          0.465,
          0.47,
          0.475,
          0.48,
          0.485,
          0.49,
          0.495,
          0.5,
          0.505,
          0.51,
          0.515,
          0.52,
          0.525,
          0.53,
          0.535,
          0.54,
          0.545,
          0.55,
          0.555,
          0.56,
          0.565,
          0.57,
          0.575,
          0.58,
          0.585,
          0.59,
          0.595,
          0.6,
          0.605,
          0.61,
          0.615,
          0.62,
          0.625,
          0.63,
          0.635,
          0.64,
          0.645,
          0.65,
          0.655,
          0.66,
          0.665,
          0.67,
          0.675,
          0.68,
          0.685,
          0.69,
          0.695,
          0.7,
          0.705,
          0.71,
          0.715,
          0.72,
          0.725,
          0.73,
          0.735,
          0.74,
          0.745,
          0.75,
          0.755,
          0.76,
          0.765,
          0.77,
          0.775,
          0.78,
          0.785,
          0.79,
          0.795,
          0.8
         ],
         "xaxis": "x",
         "y": [
          0.2102695655830775,
          0.21055586749017405,
          0.2128113271920846,
          0.21745659178050236,
          0.2232020586597643,
          0.22958243542896406,
          0.23628596026705223,
          0.24355567591354532,
          0.2504372405264552,
          0.257310372801357,
          0.26401599630854417,
          0.2704371004268794,
          0.2767032875224529,
          0.283157321720196,
          0.2895005559463569,
          0.2955088898884917,
          0.30138676405270687,
          0.3065828307455409,
          0.31221852098600933,
          0.3177766705419919,
          0.3225694944548466,
          0.32856673731976,
          0.33164212349956684,
          0.33528639579931485,
          0.3387663155105015,
          0.34345650236511965,
          0.3452200035341933,
          0.34891375905200794,
          0.3500584310325329,
          0.3525705841176013,
          0.35454509001964796,
          0.357473544973545,
          0.3602399897876686,
          0.35978465444040797,
          0.36156307747780236,
          0.36271689709566673,
          0.36410501193317424,
          0.36426789296022705,
          0.36402870477241933,
          0.36328044508551405,
          0.36336748706031474,
          0.3625459260860169,
          0.36141379501078597,
          0.3607967406066093,
          0.36065573770491804,
          0.3582938388625593,
          0.3580149425985544,
          0.35732472210147176,
          0.3547323014463334,
          0.3509976677895828,
          0.3485059299012787,
          0.344161545215101,
          0.34156406905564346,
          0.3406431724234569,
          0.3390845572508199,
          0.33505192070292644,
          0.3312883435582822,
          0.3265706312693265,
          0.32144504227517295,
          0.3189790165988099,
          0.313844193085869,
          0.3093635995135792,
          0.30405794715614454,
          0.297940043543795,
          0.29400255210548704,
          0.29061154177433246,
          0.2861387869253627,
          0.28293373440679465,
          0.27856950793223983,
          0.2733642733642734,
          0.26920950801547816,
          0.263015235068698,
          0.25819865797183633,
          0.25397129186602874,
          0.25092036427049025,
          0.24485798237022524,
          0.23911965896698717,
          0.23453944071364136,
          0.22928904192829655,
          0.223995090518564,
          0.21845963245921948,
          0.2128635463358699,
          0.20706327517342862,
          0.20347604917337855,
          0.1969211032713278,
          0.19194312796208532,
          0.1860667318769699,
          0.1822557707034241,
          0.17887432536622977,
          0.17470346968185346,
          0.17164511814534106,
          0.16793721973094172,
          0.16446700507614212,
          0.15985467756584923,
          0.15570776255707763,
          0.1497067954467058,
          0.1448235974551764,
          0.1392316647264261,
          0.13542642924086223,
          0.1304911082322459,
          0.12637557685481007,
          0.1226235741444867,
          0.11879770992366412,
          0.11486810551558753,
          0.1104679208876025,
          0.10721649484536083,
          0.10382646843772851,
          0.09979209979209978,
          0.09576427255985265,
          0.09269074325157155,
          0.08765630803516156,
          0.08400646203554119,
          0.08124610591900312,
          0.0773079809857393,
          0.07503136762860727,
          0.07248930279385854,
          0.06897422940879233,
          0.06685236768802229,
          0.06297613001523616,
          0.060343730108211334,
          0.056427933103536325,
          0.05474545919672551,
          0.052773152299218654,
          0.050571171864972404,
          0.04709212557900155,
          0.044627885979620786,
          0.042899599431451094,
          0.04065251165199379,
          0.0396424407306646,
          0.037623248572911265,
          0.03584881153396545,
          0.03458587959953192,
          0.0317998175420305,
          0.029254277132036047,
          0.02668410725964683,
          0.02540597171293871,
          0.022819672131147536,
          0.02205592753052383,
          0.02024983563445102,
          0.019213054349256478,
          0.01869897287332104,
          0.017400474558397046,
          0.016879862851114338,
          0.016097110436733078,
          0.015049504950495047,
          0.013218770654329148,
          0.011381683430386447,
          0.011119936457505955,
          0.010331125827814569,
          0.009805220617463892,
          0.009542743538767395,
          0.009016176080615222,
          0.009017371701365866,
          0.00796072707973995,
          0.007432970533581099,
          0.0063753486518794,
          0.005845622425933306,
          0.005581395348837209,
          0.005051847912789151,
          0.004521276595744681,
          0.0039904229848363925
         ],
         "yaxis": "y"
        },
        {
         "hovertemplate": "variable=Weighted Average F1<br>Default Score=%{x}<br>value=%{y}<extra></extra>",
         "legendgroup": "Weighted Average F1",
         "line": {
          "color": "#FF6692",
          "dash": "solid"
         },
         "marker": {
          "symbol": "circle"
         },
         "mode": "lines",
         "name": "Weighted Average F1",
         "showlegend": true,
         "type": "scattergl",
         "x": [
          0,
          0.005,
          0.01,
          0.015,
          0.02,
          0.025,
          0.03,
          0.035,
          0.04,
          0.045,
          0.05,
          0.055,
          0.06,
          0.065,
          0.07,
          0.075,
          0.08,
          0.085,
          0.09,
          0.095,
          0.1,
          0.105,
          0.11,
          0.115,
          0.12,
          0.125,
          0.13,
          0.135,
          0.14,
          0.145,
          0.15,
          0.155,
          0.16,
          0.165,
          0.17,
          0.175,
          0.18,
          0.185,
          0.19,
          0.195,
          0.2,
          0.205,
          0.21,
          0.215,
          0.22,
          0.225,
          0.23,
          0.235,
          0.24,
          0.245,
          0.25,
          0.255,
          0.26,
          0.265,
          0.27,
          0.275,
          0.28,
          0.285,
          0.29,
          0.295,
          0.3,
          0.305,
          0.31,
          0.315,
          0.32,
          0.325,
          0.33,
          0.335,
          0.34,
          0.345,
          0.35,
          0.355,
          0.36,
          0.365,
          0.37,
          0.375,
          0.38,
          0.385,
          0.39,
          0.395,
          0.4,
          0.405,
          0.41,
          0.415,
          0.42,
          0.425,
          0.43,
          0.435,
          0.44,
          0.445,
          0.45,
          0.455,
          0.46,
          0.465,
          0.47,
          0.475,
          0.48,
          0.485,
          0.49,
          0.495,
          0.5,
          0.505,
          0.51,
          0.515,
          0.52,
          0.525,
          0.53,
          0.535,
          0.54,
          0.545,
          0.55,
          0.555,
          0.56,
          0.565,
          0.57,
          0.575,
          0.58,
          0.585,
          0.59,
          0.595,
          0.6,
          0.605,
          0.61,
          0.615,
          0.62,
          0.625,
          0.63,
          0.635,
          0.64,
          0.645,
          0.65,
          0.655,
          0.66,
          0.665,
          0.67,
          0.675,
          0.68,
          0.685,
          0.69,
          0.695,
          0.7,
          0.705,
          0.71,
          0.715,
          0.72,
          0.725,
          0.73,
          0.735,
          0.74,
          0.745,
          0.75,
          0.755,
          0.76,
          0.765,
          0.77,
          0.775,
          0.78,
          0.785,
          0.79,
          0.795,
          0.8
         ],
         "xaxis": "x",
         "y": [
          0.024703882417298453,
          0.027771285535204925,
          0.05511232543963174,
          0.10626967459968037,
          0.16466238655779483,
          0.22528736190176957,
          0.28269124168837384,
          0.33609370690300455,
          0.38506588010390996,
          0.4286570077941541,
          0.46703792569694896,
          0.5012316614675403,
          0.5320276682677054,
          0.5603850898166743,
          0.5860147355963773,
          0.609852381816288,
          0.631217810168647,
          0.64973666767414,
          0.6665377046249192,
          0.6822629184422067,
          0.6971504963849391,
          0.7103569754693062,
          0.7215206945264147,
          0.7319250079419077,
          0.7416252744414187,
          0.7512541011012792,
          0.7585471087867243,
          0.7669208598162383,
          0.7732117975072169,
          0.7798391204793476,
          0.7858913120431865,
          0.7919496187773817,
          0.7974660001871952,
          0.801642004831843,
          0.8064865343889991,
          0.8108966145699978,
          0.8151296002141846,
          0.8183628020401209,
          0.8214822600916504,
          0.8244395863143796,
          0.827376147214468,
          0.8297309201656075,
          0.8320085348996408,
          0.8342776602035545,
          0.8366669807460662,
          0.8383273459905632,
          0.840705132683766,
          0.8426348338266929,
          0.8439740365897134,
          0.844980568247042,
          0.8463780110561008,
          0.8470168457720871,
          0.8479680192119349,
          0.8492957090809024,
          0.8503666780033595,
          0.8509295687899646,
          0.8514882818996332,
          0.8520092416749138,
          0.8523339603805459,
          0.8531834458903188,
          0.853350626975011,
          0.8536764910066751,
          0.8536470003045691,
          0.8535851626273812,
          0.8538728157294097,
          0.8540323825160779,
          0.8541137116039259,
          0.854289005097017,
          0.8542774350690339,
          0.8542377090692643,
          0.8542197569745861,
          0.8539260026801747,
          0.8536913945575951,
          0.8536598510424602,
          0.8538467189651329,
          0.8533551983555495,
          0.853004295525081,
          0.8528049468812586,
          0.8524404377606734,
          0.8520375404612274,
          0.8515581541194963,
          0.8510872850068079,
          0.8504958430883233,
          0.8503205498466779,
          0.8496191437664702,
          0.8491419691386949,
          0.8485875864562337,
          0.8482723214999551,
          0.8480529696474239,
          0.8476644447724929,
          0.8474246384872951,
          0.8470875189637648,
          0.8468167681360916,
          0.8463532353969219,
          0.8459178907426119,
          0.8452493387769349,
          0.8447144197035549,
          0.8440753471953508,
          0.8437568238920892,
          0.8431754158736604,
          0.842710237281472,
          0.8422780656408968,
          0.8418136430772215,
          0.8414164913257963,
          0.8409658320832689,
          0.8407161323749774,
          0.8403873151233863,
          0.83987481733945,
          0.8393866219320881,
          0.8390696021236385,
          0.8384354453610222,
          0.8380055189526101,
          0.8376764604876916,
          0.837205747553784,
          0.8369786704962899,
          0.8367056482499552,
          0.8363062822767136,
          0.8360651535122487,
          0.8355460524922896,
          0.8352389435007298,
          0.8347152289343699,
          0.8345317353213328,
          0.8342681966884218,
          0.8340020367594518,
          0.8335356811360595,
          0.8332474430586226,
          0.8330507551658026,
          0.832771495827117,
          0.8326330272267662,
          0.8323640178538958,
          0.8321228595750471,
          0.8319634118616452,
          0.8316148616121969,
          0.8312936650305152,
          0.8309383485279849,
          0.8307849345683272,
          0.8304199305535076,
          0.830348552163661,
          0.8301271326950967,
          0.8299933618420626,
          0.829942594333766,
          0.8297789887396805,
          0.8297118434987593,
          0.8296070082708672,
          0.8294563607506161,
          0.8292164479692424,
          0.8289679890442614,
          0.8289381510441675,
          0.8288326103932273,
          0.8287648479206903,
          0.8287349243728684,
          0.8286670844701166,
          0.8286750281140678,
          0.8285233306716074,
          0.8284553521071293,
          0.8283113454098715,
          0.8282353337809167,
          0.8282052055499368,
          0.828137018139745,
          0.8280609083398554,
          0.8279847658327455
         ],
         "yaxis": "y"
        }
       ],
       "layout": {
        "legend": {
         "title": {
          "text": "variable"
         },
         "tracegroupgap": 0
        },
        "template": {
         "data": {
          "bar": [
           {
            "error_x": {
             "color": "#2a3f5f"
            },
            "error_y": {
             "color": "#2a3f5f"
            },
            "marker": {
             "line": {
              "color": "#E5ECF6",
              "width": 0.5
             },
             "pattern": {
              "fillmode": "overlay",
              "size": 10,
              "solidity": 0.2
             }
            },
            "type": "bar"
           }
          ],
          "barpolar": [
           {
            "marker": {
             "line": {
              "color": "#E5ECF6",
              "width": 0.5
             },
             "pattern": {
              "fillmode": "overlay",
              "size": 10,
              "solidity": 0.2
             }
            },
            "type": "barpolar"
           }
          ],
          "carpet": [
           {
            "aaxis": {
             "endlinecolor": "#2a3f5f",
             "gridcolor": "white",
             "linecolor": "white",
             "minorgridcolor": "white",
             "startlinecolor": "#2a3f5f"
            },
            "baxis": {
             "endlinecolor": "#2a3f5f",
             "gridcolor": "white",
             "linecolor": "white",
             "minorgridcolor": "white",
             "startlinecolor": "#2a3f5f"
            },
            "type": "carpet"
           }
          ],
          "choropleth": [
           {
            "colorbar": {
             "outlinewidth": 0,
             "ticks": ""
            },
            "type": "choropleth"
           }
          ],
          "contour": [
           {
            "colorbar": {
             "outlinewidth": 0,
             "ticks": ""
            },
            "colorscale": [
             [
              0,
              "#0d0887"
             ],
             [
              0.1111111111111111,
              "#46039f"
             ],
             [
              0.2222222222222222,
              "#7201a8"
             ],
             [
              0.3333333333333333,
              "#9c179e"
             ],
             [
              0.4444444444444444,
              "#bd3786"
             ],
             [
              0.5555555555555556,
              "#d8576b"
             ],
             [
              0.6666666666666666,
              "#ed7953"
             ],
             [
              0.7777777777777778,
              "#fb9f3a"
             ],
             [
              0.8888888888888888,
              "#fdca26"
             ],
             [
              1,
              "#f0f921"
             ]
            ],
            "type": "contour"
           }
          ],
          "contourcarpet": [
           {
            "colorbar": {
             "outlinewidth": 0,
             "ticks": ""
            },
            "type": "contourcarpet"
           }
          ],
          "heatmap": [
           {
            "colorbar": {
             "outlinewidth": 0,
             "ticks": ""
            },
            "colorscale": [
             [
              0,
              "#0d0887"
             ],
             [
              0.1111111111111111,
              "#46039f"
             ],
             [
              0.2222222222222222,
              "#7201a8"
             ],
             [
              0.3333333333333333,
              "#9c179e"
             ],
             [
              0.4444444444444444,
              "#bd3786"
             ],
             [
              0.5555555555555556,
              "#d8576b"
             ],
             [
              0.6666666666666666,
              "#ed7953"
             ],
             [
              0.7777777777777778,
              "#fb9f3a"
             ],
             [
              0.8888888888888888,
              "#fdca26"
             ],
             [
              1,
              "#f0f921"
             ]
            ],
            "type": "heatmap"
           }
          ],
          "heatmapgl": [
           {
            "colorbar": {
             "outlinewidth": 0,
             "ticks": ""
            },
            "colorscale": [
             [
              0,
              "#0d0887"
             ],
             [
              0.1111111111111111,
              "#46039f"
             ],
             [
              0.2222222222222222,
              "#7201a8"
             ],
             [
              0.3333333333333333,
              "#9c179e"
             ],
             [
              0.4444444444444444,
              "#bd3786"
             ],
             [
              0.5555555555555556,
              "#d8576b"
             ],
             [
              0.6666666666666666,
              "#ed7953"
             ],
             [
              0.7777777777777778,
              "#fb9f3a"
             ],
             [
              0.8888888888888888,
              "#fdca26"
             ],
             [
              1,
              "#f0f921"
             ]
            ],
            "type": "heatmapgl"
           }
          ],
          "histogram": [
           {
            "marker": {
             "pattern": {
              "fillmode": "overlay",
              "size": 10,
              "solidity": 0.2
             }
            },
            "type": "histogram"
           }
          ],
          "histogram2d": [
           {
            "colorbar": {
             "outlinewidth": 0,
             "ticks": ""
            },
            "colorscale": [
             [
              0,
              "#0d0887"
             ],
             [
              0.1111111111111111,
              "#46039f"
             ],
             [
              0.2222222222222222,
              "#7201a8"
             ],
             [
              0.3333333333333333,
              "#9c179e"
             ],
             [
              0.4444444444444444,
              "#bd3786"
             ],
             [
              0.5555555555555556,
              "#d8576b"
             ],
             [
              0.6666666666666666,
              "#ed7953"
             ],
             [
              0.7777777777777778,
              "#fb9f3a"
             ],
             [
              0.8888888888888888,
              "#fdca26"
             ],
             [
              1,
              "#f0f921"
             ]
            ],
            "type": "histogram2d"
           }
          ],
          "histogram2dcontour": [
           {
            "colorbar": {
             "outlinewidth": 0,
             "ticks": ""
            },
            "colorscale": [
             [
              0,
              "#0d0887"
             ],
             [
              0.1111111111111111,
              "#46039f"
             ],
             [
              0.2222222222222222,
              "#7201a8"
             ],
             [
              0.3333333333333333,
              "#9c179e"
             ],
             [
              0.4444444444444444,
              "#bd3786"
             ],
             [
              0.5555555555555556,
              "#d8576b"
             ],
             [
              0.6666666666666666,
              "#ed7953"
             ],
             [
              0.7777777777777778,
              "#fb9f3a"
             ],
             [
              0.8888888888888888,
              "#fdca26"
             ],
             [
              1,
              "#f0f921"
             ]
            ],
            "type": "histogram2dcontour"
           }
          ],
          "mesh3d": [
           {
            "colorbar": {
             "outlinewidth": 0,
             "ticks": ""
            },
            "type": "mesh3d"
           }
          ],
          "parcoords": [
           {
            "line": {
             "colorbar": {
              "outlinewidth": 0,
              "ticks": ""
             }
            },
            "type": "parcoords"
           }
          ],
          "pie": [
           {
            "automargin": true,
            "type": "pie"
           }
          ],
          "scatter": [
           {
            "fillpattern": {
             "fillmode": "overlay",
             "size": 10,
             "solidity": 0.2
            },
            "type": "scatter"
           }
          ],
          "scatter3d": [
           {
            "line": {
             "colorbar": {
              "outlinewidth": 0,
              "ticks": ""
             }
            },
            "marker": {
             "colorbar": {
              "outlinewidth": 0,
              "ticks": ""
             }
            },
            "type": "scatter3d"
           }
          ],
          "scattercarpet": [
           {
            "marker": {
             "colorbar": {
              "outlinewidth": 0,
              "ticks": ""
             }
            },
            "type": "scattercarpet"
           }
          ],
          "scattergeo": [
           {
            "marker": {
             "colorbar": {
              "outlinewidth": 0,
              "ticks": ""
             }
            },
            "type": "scattergeo"
           }
          ],
          "scattergl": [
           {
            "marker": {
             "colorbar": {
              "outlinewidth": 0,
              "ticks": ""
             }
            },
            "type": "scattergl"
           }
          ],
          "scattermapbox": [
           {
            "marker": {
             "colorbar": {
              "outlinewidth": 0,
              "ticks": ""
             }
            },
            "type": "scattermapbox"
           }
          ],
          "scatterpolar": [
           {
            "marker": {
             "colorbar": {
              "outlinewidth": 0,
              "ticks": ""
             }
            },
            "type": "scatterpolar"
           }
          ],
          "scatterpolargl": [
           {
            "marker": {
             "colorbar": {
              "outlinewidth": 0,
              "ticks": ""
             }
            },
            "type": "scatterpolargl"
           }
          ],
          "scatterternary": [
           {
            "marker": {
             "colorbar": {
              "outlinewidth": 0,
              "ticks": ""
             }
            },
            "type": "scatterternary"
           }
          ],
          "surface": [
           {
            "colorbar": {
             "outlinewidth": 0,
             "ticks": ""
            },
            "colorscale": [
             [
              0,
              "#0d0887"
             ],
             [
              0.1111111111111111,
              "#46039f"
             ],
             [
              0.2222222222222222,
              "#7201a8"
             ],
             [
              0.3333333333333333,
              "#9c179e"
             ],
             [
              0.4444444444444444,
              "#bd3786"
             ],
             [
              0.5555555555555556,
              "#d8576b"
             ],
             [
              0.6666666666666666,
              "#ed7953"
             ],
             [
              0.7777777777777778,
              "#fb9f3a"
             ],
             [
              0.8888888888888888,
              "#fdca26"
             ],
             [
              1,
              "#f0f921"
             ]
            ],
            "type": "surface"
           }
          ],
          "table": [
           {
            "cells": {
             "fill": {
              "color": "#EBF0F8"
             },
             "line": {
              "color": "white"
             }
            },
            "header": {
             "fill": {
              "color": "#C8D4E3"
             },
             "line": {
              "color": "white"
             }
            },
            "type": "table"
           }
          ]
         },
         "layout": {
          "annotationdefaults": {
           "arrowcolor": "#2a3f5f",
           "arrowhead": 0,
           "arrowwidth": 1
          },
          "autotypenumbers": "strict",
          "coloraxis": {
           "colorbar": {
            "outlinewidth": 0,
            "ticks": ""
           }
          },
          "colorscale": {
           "diverging": [
            [
             0,
             "#8e0152"
            ],
            [
             0.1,
             "#c51b7d"
            ],
            [
             0.2,
             "#de77ae"
            ],
            [
             0.3,
             "#f1b6da"
            ],
            [
             0.4,
             "#fde0ef"
            ],
            [
             0.5,
             "#f7f7f7"
            ],
            [
             0.6,
             "#e6f5d0"
            ],
            [
             0.7,
             "#b8e186"
            ],
            [
             0.8,
             "#7fbc41"
            ],
            [
             0.9,
             "#4d9221"
            ],
            [
             1,
             "#276419"
            ]
           ],
           "sequential": [
            [
             0,
             "#0d0887"
            ],
            [
             0.1111111111111111,
             "#46039f"
            ],
            [
             0.2222222222222222,
             "#7201a8"
            ],
            [
             0.3333333333333333,
             "#9c179e"
            ],
            [
             0.4444444444444444,
             "#bd3786"
            ],
            [
             0.5555555555555556,
             "#d8576b"
            ],
            [
             0.6666666666666666,
             "#ed7953"
            ],
            [
             0.7777777777777778,
             "#fb9f3a"
            ],
            [
             0.8888888888888888,
             "#fdca26"
            ],
            [
             1,
             "#f0f921"
            ]
           ],
           "sequentialminus": [
            [
             0,
             "#0d0887"
            ],
            [
             0.1111111111111111,
             "#46039f"
            ],
            [
             0.2222222222222222,
             "#7201a8"
            ],
            [
             0.3333333333333333,
             "#9c179e"
            ],
            [
             0.4444444444444444,
             "#bd3786"
            ],
            [
             0.5555555555555556,
             "#d8576b"
            ],
            [
             0.6666666666666666,
             "#ed7953"
            ],
            [
             0.7777777777777778,
             "#fb9f3a"
            ],
            [
             0.8888888888888888,
             "#fdca26"
            ],
            [
             1,
             "#f0f921"
            ]
           ]
          },
          "colorway": [
           "#636efa",
           "#EF553B",
           "#00cc96",
           "#ab63fa",
           "#FFA15A",
           "#19d3f3",
           "#FF6692",
           "#B6E880",
           "#FF97FF",
           "#FECB52"
          ],
          "font": {
           "color": "#2a3f5f"
          },
          "geo": {
           "bgcolor": "white",
           "lakecolor": "white",
           "landcolor": "#E5ECF6",
           "showlakes": true,
           "showland": true,
           "subunitcolor": "white"
          },
          "hoverlabel": {
           "align": "left"
          },
          "hovermode": "closest",
          "mapbox": {
           "style": "light"
          },
          "paper_bgcolor": "white",
          "plot_bgcolor": "#E5ECF6",
          "polar": {
           "angularaxis": {
            "gridcolor": "white",
            "linecolor": "white",
            "ticks": ""
           },
           "bgcolor": "#E5ECF6",
           "radialaxis": {
            "gridcolor": "white",
            "linecolor": "white",
            "ticks": ""
           }
          },
          "scene": {
           "xaxis": {
            "backgroundcolor": "#E5ECF6",
            "gridcolor": "white",
            "gridwidth": 2,
            "linecolor": "white",
            "showbackground": true,
            "ticks": "",
            "zerolinecolor": "white"
           },
           "yaxis": {
            "backgroundcolor": "#E5ECF6",
            "gridcolor": "white",
            "gridwidth": 2,
            "linecolor": "white",
            "showbackground": true,
            "ticks": "",
            "zerolinecolor": "white"
           },
           "zaxis": {
            "backgroundcolor": "#E5ECF6",
            "gridcolor": "white",
            "gridwidth": 2,
            "linecolor": "white",
            "showbackground": true,
            "ticks": "",
            "zerolinecolor": "white"
           }
          },
          "shapedefaults": {
           "line": {
            "color": "#2a3f5f"
           }
          },
          "ternary": {
           "aaxis": {
            "gridcolor": "white",
            "linecolor": "white",
            "ticks": ""
           },
           "baxis": {
            "gridcolor": "white",
            "linecolor": "white",
            "ticks": ""
           },
           "bgcolor": "#E5ECF6",
           "caxis": {
            "gridcolor": "white",
            "linecolor": "white",
            "ticks": ""
           }
          },
          "title": {
           "x": 0.05
          },
          "xaxis": {
           "automargin": true,
           "gridcolor": "white",
           "linecolor": "white",
           "ticks": "",
           "title": {
            "standoff": 15
           },
           "zerolinecolor": "white",
           "zerolinewidth": 2
          },
          "yaxis": {
           "automargin": true,
           "gridcolor": "white",
           "linecolor": "white",
           "ticks": "",
           "title": {
            "standoff": 15
           },
           "zerolinecolor": "white",
           "zerolinewidth": 2
          }
         }
        },
        "title": {
         "text": "% Precision and Recall vs Set Default Score"
        },
        "xaxis": {
         "anchor": "y",
         "domain": [
          0,
          1
         ],
         "title": {
          "text": "Default Score"
         }
        },
        "yaxis": {
         "anchor": "x",
         "domain": [
          0,
          1
         ],
         "title": {
          "text": "value"
         }
        }
       }
      },
      "text/html": [
       "<div>                            <div id=\"33bf21de-d688-420d-a494-4f3714d1b7e2\" class=\"plotly-graph-div\" style=\"height:525px; width:100%;\"></div>            <script type=\"text/javascript\">                require([\"plotly\"], function(Plotly) {                    window.PLOTLYENV=window.PLOTLYENV || {};                                    if (document.getElementById(\"33bf21de-d688-420d-a494-4f3714d1b7e2\")) {                    Plotly.newPlot(                        \"33bf21de-d688-420d-a494-4f3714d1b7e2\",                        [{\"hovertemplate\":\"variable=Recall 0<br>Default Score=%{x}<br>value=%{y}<extra></extra>\",\"legendgroup\":\"Recall 0\",\"line\":{\"color\":\"#636efa\",\"dash\":\"solid\"},\"marker\":{\"symbol\":\"circle\"},\"mode\":\"lines\",\"name\":\"Recall 0\",\"showlegend\":true,\"x\":[0.0,0.005,0.01,0.015,0.02,0.025,0.03,0.035,0.04,0.045,0.05,0.055,0.06,0.065,0.07,0.075,0.08,0.085,0.09,0.095,0.1,0.105,0.11,0.115,0.12,0.125,0.13,0.135,0.14,0.145,0.15,0.155,0.16,0.165,0.17,0.175,0.18,0.185,0.19,0.195,0.2,0.205,0.21,0.215,0.22,0.225,0.23,0.235,0.24,0.245,0.25,0.255,0.26,0.265,0.27,0.275,0.28,0.285,0.29,0.295,0.3,0.305,0.31,0.315,0.32,0.325,0.33,0.335,0.34,0.345,0.35,0.355,0.36,0.365,0.37,0.375,0.38,0.385,0.39,0.395,0.4,0.405,0.41,0.415,0.42,0.425,0.43,0.435,0.44,0.445,0.45,0.455,0.46,0.465,0.47,0.475,0.48,0.485,0.49,0.495,0.5,0.505,0.51,0.515,0.52,0.525,0.53,0.535,0.54,0.545,0.55,0.555,0.56,0.565,0.57,0.575,0.58,0.585,0.59,0.595,0.6,0.605,0.61,0.615,0.62,0.625,0.63,0.635,0.64,0.645,0.65,0.655,0.66,0.665,0.67,0.675,0.68,0.685,0.69,0.695,0.7,0.705,0.71,0.715,0.72,0.725,0.73,0.735,0.74,0.745,0.75,0.755,0.76,0.765,0.77,0.775,0.78,0.785,0.79,0.795,0.8],\"xaxis\":\"x\",\"y\":[0.0,0.0017217814225109608,0.017359816816656905,0.04796137529509913,0.08523705557626426,0.12691481619539557,0.16949784333564089,0.2120986207998296,0.25418463886965936,0.2942471200099402,0.33177130482631306,0.36720095141736336,0.4008555656140725,0.43335640875445974,0.4641177201483927,0.49415126826064576,0.5221790297672932,0.5475087420345421,0.571027921259563,0.5937660862310737,0.6163089976392069,0.6362248611037151,0.6545076947654295,0.6716722580187089,0.6880735573424215,0.704208601806983,0.7175745957363722,0.7324671175248948,0.7446793403979622,0.7571578181301809,0.768926282904663,0.7804639934678808,0.791114187833928,0.8005396098478798,0.8104975415801339,0.8199229635940856,0.8289578784812823,0.8363775138896284,0.8437971492979747,0.8511457834105473,0.8581039103963647,0.8641567708610682,0.8702096313257717,0.8760317375792108,0.8819603457763104,0.8871789410156735,0.8932140511564336,0.898361645100023,0.9029412286774233,0.9072190567477857,0.9119051422688464,0.9155262083533025,0.9191295241138151,0.9229280934377052,0.9263716562827271,0.929637715888315,0.9327617729023555,0.9362053357473774,0.9393116424374744,0.9425777020430622,0.9452580009585175,0.9480448018176332,0.9502635923105597,0.9527308873386939,0.955144931394998,0.9569909650851128,0.9590855033104354,0.96087828602872,0.9626710687470046,0.9647301063244405,0.9663986367751212,0.9681914194934057,0.9695581944370485,0.9711912242398424,0.9728952553384099,0.9740845270426185,0.9754868026341481,0.9768003266059606,0.9779540976622824,0.979019117098887,0.9799776345918313,0.9809716527326624,0.9817349166622291,0.9826756838312299,0.9834389477607967,0.9841489607185331,0.9850009762678169,0.9856577382537232,0.986385501535403,0.986989012549479,0.9875392725917248,0.9880895326339706,0.98871079397199,0.9892788043381792,0.9897403127607078,0.9903083231268971,0.9907875818733692,0.9912668406198413,0.9918703516339173,0.9922431084367289,0.9925981149155972,0.9928998704226352,0.993148374957843,0.9935921330564282,0.9940713918029004,0.9946216518451462,0.9950299092958447,0.9952251628592221,0.99547366739443,0.9957931732254114,0.9960416777606191,0.9962901822958269,0.996467685535261,0.9967161900704687,0.9969646946056766,0.9971954488169409,0.9974617036760921,0.9976214565915827,0.9977279585352433,0.9979054617746774,0.9980119637183379,0.9981539663098852,0.9982072172817154,0.9983314695493193,0.9984202211690363,0.998579974084527,0.998704226352131,0.9988107282957914,0.9988284786197348,0.9988817295915651,0.9989172302394519,0.9989704812112821,0.999094733478886,0.9992012354225465,0.9992367360704333,0.9993077373662069,0.9993254876901504,0.9994142393098674,0.9995029909295845,0.9995384915774713,0.9995917425493015,0.9996449935211318,0.9996627438450751,0.9996804941690186,0.9996804941690186,0.9997337451408488,0.9997692457887356,0.9997869961126791,0.9998047464366224,0.9998224967605659,0.9998402470845092,0.9998579974084527,0.9998757477323961,0.9998757477323961,0.9998934980563395,0.9999112483802829,0.9999112483802829,0.9999289987042264,0.9999467490281697,0.9999467490281697,0.9999467490281697],\"yaxis\":\"y\",\"type\":\"scattergl\"},{\"hovertemplate\":\"variable=Recall 1<br>Default Score=%{x}<br>value=%{y}<extra></extra>\",\"legendgroup\":\"Recall 1\",\"line\":{\"color\":\"#EF553B\",\"dash\":\"solid\"},\"marker\":{\"symbol\":\"circle\"},\"mode\":\"lines\",\"name\":\"Recall 1\",\"showlegend\":true,\"x\":[0.0,0.005,0.01,0.015,0.02,0.025,0.03,0.035,0.04,0.045,0.05,0.055,0.06,0.065,0.07,0.075,0.08,0.085,0.09,0.095,0.1,0.105,0.11,0.115,0.12,0.125,0.13,0.135,0.14,0.145,0.15,0.155,0.16,0.165,0.17,0.175,0.18,0.185,0.19,0.195,0.2,0.205,0.21,0.215,0.22,0.225,0.23,0.235,0.24,0.245,0.25,0.255,0.26,0.265,0.27,0.275,0.28,0.285,0.29,0.295,0.3,0.305,0.31,0.315,0.32,0.325,0.33,0.335,0.34,0.345,0.35,0.355,0.36,0.365,0.37,0.375,0.38,0.385,0.39,0.395,0.4,0.405,0.41,0.415,0.42,0.425,0.43,0.435,0.44,0.445,0.45,0.455,0.46,0.465,0.47,0.475,0.48,0.485,0.49,0.495,0.5,0.505,0.51,0.515,0.52,0.525,0.53,0.535,0.54,0.545,0.55,0.555,0.56,0.565,0.57,0.575,0.58,0.585,0.59,0.595,0.6,0.605,0.61,0.615,0.62,0.625,0.63,0.635,0.64,0.645,0.65,0.655,0.66,0.665,0.67,0.675,0.68,0.685,0.69,0.695,0.7,0.705,0.71,0.715,0.72,0.725,0.73,0.735,0.74,0.745,0.75,0.755,0.76,0.765,0.77,0.775,0.78,0.785,0.79,0.795,0.8],\"xaxis\":\"x\",\"y\":[1.0,1.0,0.998,0.9944,0.9888,0.9801333333333333,0.9697333333333333,0.9593333333333334,0.9450666666666667,0.9304,0.9154666666666667,0.8996,0.8832,0.8669333333333333,0.8505333333333334,0.8321333333333333,0.8142666666666667,0.7964,0.7810666666666667,0.7653333333333333,0.7465333333333334,0.7337333333333333,0.7146666666666667,0.6981333333333334,0.6817333333333333,0.668,0.6512,0.636,0.6190666666666667,0.6044,0.5894666666666667,0.5765333333333333,0.5644,0.548,0.5348,0.5212,0.5085333333333333,0.4964,0.4836,0.47013333333333335,0.45866666666666667,0.44733333333333336,0.4356,0.42506666666666665,0.41506666666666664,0.4032,0.39293333333333336,0.3836,0.3728,0.3612,0.3506666666666667,0.33973333333333333,0.3310666666666667,0.32413333333333333,0.31706666666666666,0.3076,0.2988,0.2886666666666667,0.2788,0.2716,0.26266666666666666,0.2544,0.24626666666666666,0.2372,0.2304,0.22493333333333335,0.21826666666666666,0.2132,0.2072,0.20026666666666668,0.1948,0.1876,0.18213333333333334,0.17693333333333333,0.17266666666666666,0.16666666666666666,0.1608,0.156,0.15093333333333334,0.146,0.14106666666666667,0.13613333333333333,0.13133333333333333,0.128,0.1228,0.1188,0.11413333333333334,0.11106666666666666,0.10826666666666666,0.10506666666666667,0.10266666666666667,0.09986666666666667,0.0972,0.09386666666666667,0.09093333333333334,0.0868,0.08346666666666666,0.07973333333333334,0.07706666666666667,0.07386666666666666,0.0712,0.0688,0.0664,0.06386666666666667,0.061066666666666665,0.05893333333333333,0.0568,0.0544,0.052,0.050133333333333335,0.0472,0.045066666666666665,0.04346666666666667,0.0412,0.03986666666666667,0.0384,0.0364,0.0352,0.03306666666666667,0.0316,0.029466666666666665,0.028533333333333334,0.027466666666666667,0.026266666666666667,0.0244,0.023066666666666666,0.022133333333333335,0.020933333333333335,0.0204,0.019333333333333334,0.0184,0.017733333333333334,0.016266666666666665,0.014933333333333333,0.0136,0.012933333333333333,0.0116,0.0112,0.010266666666666667,0.009733333333333333,0.009466666666666667,0.0088,0.008533333333333334,0.008133333333333333,0.0076,0.006666666666666667,0.005733333333333333,0.0056,0.0052,0.004933333333333333,0.0048,0.004533333333333334,0.004533333333333334,0.004,0.0037333333333333333,0.0032,0.0029333333333333334,0.0028,0.002533333333333333,0.002266666666666667,0.002],\"yaxis\":\"y\",\"type\":\"scattergl\"},{\"hovertemplate\":\"variable=Precision 0<br>Default Score=%{x}<br>value=%{y}<extra></extra>\",\"legendgroup\":\"Precision 0\",\"line\":{\"color\":\"#00cc96\",\"dash\":\"solid\"},\"marker\":{\"symbol\":\"circle\"},\"mode\":\"lines\",\"name\":\"Precision 0\",\"showlegend\":true,\"x\":[0.0,0.005,0.01,0.015,0.02,0.025,0.03,0.035,0.04,0.045,0.05,0.055,0.06,0.065,0.07,0.075,0.08,0.085,0.09,0.095,0.1,0.105,0.11,0.115,0.12,0.125,0.13,0.135,0.14,0.145,0.15,0.155,0.16,0.165,0.17,0.175,0.18,0.185,0.19,0.195,0.2,0.205,0.21,0.215,0.22,0.225,0.23,0.235,0.24,0.245,0.25,0.255,0.26,0.265,0.27,0.275,0.28,0.285,0.29,0.295,0.3,0.305,0.31,0.315,0.32,0.325,0.33,0.335,0.34,0.345,0.35,0.355,0.36,0.365,0.37,0.375,0.38,0.385,0.39,0.395,0.4,0.405,0.41,0.415,0.42,0.425,0.43,0.435,0.44,0.445,0.45,0.455,0.46,0.465,0.47,0.475,0.48,0.485,0.49,0.495,0.5,0.505,0.51,0.515,0.52,0.525,0.53,0.535,0.54,0.545,0.55,0.555,0.56,0.565,0.57,0.575,0.58,0.585,0.59,0.595,0.6,0.605,0.61,0.615,0.62,0.625,0.63,0.635,0.64,0.645,0.65,0.655,0.66,0.665,0.67,0.675,0.68,0.685,0.69,0.695,0.7,0.705,0.71,0.715,0.72,0.725,0.73,0.735,0.74,0.745,0.75,0.755,0.76,0.765,0.77,0.775,0.78,0.785,0.79,0.795,0.8],\"xaxis\":\"x\",\"y\":[0.0,1.0,0.9848942598187311,0.9846938775510204,0.9828080229226361,0.9795862446910536,0.9767798690671031,0.9751101681083728,0.9720336682052675,0.9694718989414586,0.9671927554980595,0.9648787313432836,0.9626582548275715,0.9607272154887455,0.958889540853748,0.9567324214722661,0.9547888741034046,0.9528296058322007,0.9514373595173311,0.9500156201187129,0.9480913112336846,0.9472251585623679,0.9451464896316613,0.9435467783762218,0.9419941192194601,0.9409434812513341,0.9392221551043167,0.9379474940334129,0.9362419102878822,0.9349670122525919,0.9336393810078021,0.9326333651500689,0.9317041558658751,0.9300886780779543,0.9290132248219736,0.9278669425305828,0.9268462103320301,0.9257898459603898,0.9246644621668936,0.9234665382763602,0.9225235196458218,0.9215393060629579,0.9205189830635773,0.919649678561446,0.9188704368088175,0.9178067098811906,0.9170281007398768,0.9163015533910273,0.9153545786623001,0.9142949142233592,0.9134129862740915,0.9124004953122236,0.9116694249797528,0.9111699144819851,0.9106279771771563,0.9097905013375951,0.9090264323277055,0.9081407761975274,0.9072642172578738,0.9067190301374541,0.9059251824507085,0.9052235517440087,0.9044907751571264,0.9036787608384544,0.9031251048974522,0.9026738326050195,0.9021120293847567,0.9017057001032748,0.9011964107676969,0.9006097965135547,0.9001537622141759,0.8995184537748606,0.899038778063072,0.8986154679980949,0.8983036958125051,0.8977538567245243,0.8972408163265306,0.896838331160365,0.8963929518572149,0.8959551656920078,0.8955085886684725,0.8950667271313811,0.8946185076751371,0.8943474257281788,0.8938579933207492,0.8934942710263807,0.8930732586584267,0.8928066113576436,0.892576054482958,0.8922909044226202,0.8920869077206767,0.8918403640033965,0.891615443718786,0.8913144301044316,0.8910462310433546,0.8906609195402299,0.8903528360875391,0.8900027092928745,0.889778825177943,0.8894758616300162,0.88922812708711,0.8890036712703231,0.8887741648531444,0.8885502484245281,0.8883020065032913,0.888131617320738,0.8879472842185298,0.8877137428752375,0.8874857576908469,0.8873212704036442,0.8870376225102751,0.8868383630905357,0.8866881475865555,0.886475222202927,0.8863604084144744,0.8862299064535976,0.8860472083379323,0.8859376724097164,0.8857250910007721,0.8855896159541288,0.8853772990677753,0.8852941639509438,0.8851881001101841,0.8850753784659932,0.8848894832061669,0.8847666079516859,0.884681908236108,0.8845676198261362,0.8845138168442893,0.8844080529318392,0.884314403343914,0.8842503849417088,0.8841103292284493,0.8839824120603015,0.8838472649626327,0.8837851839060611,0.8836482923154194,0.8836158192090395,0.8835278980731814,0.8834761053060969,0.883453869444488,0.8833900644695769,0.8833641810709916,0.8833244455597729,0.8832690317116778,0.883177570093458,0.8830843041031028,0.8830722919900287,0.8830325928480725,0.8830067408684746,0.882994732881866,0.882968884708833,0.8829707191673459,0.8829153605015674,0.8828895193016002,0.8828360080240722,0.8828083372512145,0.8827963392465367,0.8827705085011361,0.8827428428161775,0.8827151788652282],\"yaxis\":\"y\",\"type\":\"scattergl\"},{\"hovertemplate\":\"variable=Precision 1<br>Default Score=%{x}<br>value=%{y}<extra></extra>\",\"legendgroup\":\"Precision 1\",\"line\":{\"color\":\"#ab63fa\",\"dash\":\"solid\"},\"marker\":{\"symbol\":\"circle\"},\"mode\":\"lines\",\"name\":\"Precision 1\",\"showlegend\":true,\"x\":[0.0,0.005,0.01,0.015,0.02,0.025,0.03,0.035,0.04,0.045,0.05,0.055,0.06,0.065,0.07,0.075,0.08,0.085,0.09,0.095,0.1,0.105,0.11,0.115,0.12,0.125,0.13,0.135,0.14,0.145,0.15,0.155,0.16,0.165,0.17,0.175,0.18,0.185,0.19,0.195,0.2,0.205,0.21,0.215,0.22,0.225,0.23,0.235,0.24,0.245,0.25,0.255,0.26,0.265,0.27,0.275,0.28,0.285,0.29,0.295,0.3,0.305,0.31,0.315,0.32,0.325,0.33,0.335,0.34,0.345,0.35,0.355,0.36,0.365,0.37,0.375,0.38,0.385,0.39,0.395,0.4,0.405,0.41,0.415,0.42,0.425,0.43,0.435,0.44,0.445,0.45,0.455,0.46,0.465,0.47,0.475,0.48,0.485,0.49,0.495,0.5,0.505,0.51,0.515,0.52,0.525,0.53,0.535,0.54,0.545,0.55,0.555,0.56,0.565,0.57,0.575,0.58,0.585,0.59,0.595,0.6,0.605,0.61,0.615,0.62,0.625,0.63,0.635,0.64,0.645,0.65,0.655,0.66,0.665,0.67,0.675,0.68,0.685,0.69,0.695,0.7,0.705,0.71,0.715,0.72,0.725,0.73,0.735,0.74,0.745,0.75,0.755,0.76,0.765,0.77,0.775,0.78,0.785,0.79,0.795,0.8],\"xaxis\":\"x\",\"y\":[0.11748672400018798,0.11766551615939755,0.11910444911208708,0.12207617894030412,0.12579939271598445,0.13001874845236833,0.13453321248219605,0.1394839385068724,0.14434375318195702,0.14930035517138088,0.15425053918044573,0.1591386182984645,0.1640497300510179,0.16921275211450879,0.1744373649812683,0.17965399119145628,0.1849149155211046,0.18982996980772288,0.19510407993338885,0.2005170125061133,0.2057321330148815,0.2116782705696811,0.21592007734450533,0.22062107613870982,0.22538129242704752,0.23115253298883454,0.23486415003606637,0.24039915331115816,0.24402165343984863,0.24887449214889645,0.25351224267446526,0.2590462497004553,0.2645459658771327,0.26780478269368607,0.27309865867774225,0.2781414543902092,0.28356877323420077,0.28769028668572755,0.29186448861350284,0.2960040295500336,0.3008570928808816,0.3047783430232558,0.3088193591076661,0.3134093590247739,0.3188569087370685,0.32238805970149254,0.3287961619993306,0.33441822620016276,0.3383349467570184,0.34135584677419356,0.3463716581061504,0.3487067195839606,0.3527489700241512,0.35892514395393477,0.3643885994483604,0.367883910062191,0.3717034334052082,0.37593332175724953,0.379491833030853,0.38638088012139604,0.38979026513652554,0.39462254395036195,0.39728973972897397,0.4004952723998199,0.4061104582843713,0.41046228710462285,0.41527143581938103,0.42045753352616355,0.4249384741591468,0.4304958440813987,0.43559928443649376,0.43982494529540483,0.44336254462836744,0.4498305084745763,0.4588944011339476,0.4612546125461255,0.46617703904136065,0.47234557932983445,0.476832350463353,0.48089591567852435,0.4839890210430009,0.4878165312947922,0.4890764647467726,0.49586776859504134,0.4967637540453074,0.4994394618834081,0.503233392122281,0.5076173065204144,0.5142495250158328,0.5180802103879028,0.5230978260869565,0.5274647887323943,0.5340659340659341,0.5382262996941896,0.5412698412698412,0.543859649122807,0.5467248908296943,0.5486238532110091,0.5579150579150579,0.5590312815338042,0.5615141955835962,0.5633187772925764,0.5633484162895928,0.5702380952380952,0.5782828282828283,0.5932885906040268,0.603399433427762,0.6026587887740029,0.6046511627906976,0.6133768352365416,0.6135181975736569,0.6179159049360147,0.6209523809523809,0.6255060728744939,0.6361702127659574,0.6457399103139013,0.65625,0.6633165829145728,0.6595744680851063,0.6676056338028169,0.6636636636636637,0.6729559748427673,0.6710097719869706,0.6769759450171822,0.6727941176470589,0.6837944664031621,0.694560669456067,0.7008928571428571,0.6986301369863014,0.6971153846153846,0.6934673366834171,0.6963350785340314,0.7052023121387283,0.7133757961783439,0.7034482758620689,0.7132352941176471,0.696,0.717948717948718,0.7333333333333333,0.7373737373737373,0.7553191489361702,0.7674418604651163,0.7710843373493976,0.7721518987341772,0.76,0.7692307692307693,0.7678571428571429,0.7777777777777778,0.78,0.7872340425531915,0.8,0.8095238095238095,0.8292682926829268,0.8108108108108109,0.8235294117647058,0.8275862068965517,0.8148148148148148,0.84,0.8636363636363636,0.85,0.8333333333333334],\"yaxis\":\"y\",\"type\":\"scattergl\"},{\"hovertemplate\":\"variable=F1 0<br>Default Score=%{x}<br>value=%{y}<extra></extra>\",\"legendgroup\":\"F1 0\",\"line\":{\"color\":\"#FFA15A\",\"dash\":\"solid\"},\"marker\":{\"symbol\":\"circle\"},\"mode\":\"lines\",\"name\":\"F1 0\",\"showlegend\":true,\"x\":[0.0,0.005,0.01,0.015,0.02,0.025,0.03,0.035,0.04,0.045,0.05,0.055,0.06,0.065,0.07,0.075,0.08,0.085,0.09,0.095,0.1,0.105,0.11,0.115,0.12,0.125,0.13,0.135,0.14,0.145,0.15,0.155,0.16,0.165,0.17,0.175,0.18,0.185,0.19,0.195,0.2,0.205,0.21,0.215,0.22,0.225,0.23,0.235,0.24,0.245,0.25,0.255,0.26,0.265,0.27,0.275,0.28,0.285,0.29,0.295,0.3,0.305,0.31,0.315,0.32,0.325,0.33,0.335,0.34,0.345,0.35,0.355,0.36,0.365,0.37,0.375,0.38,0.385,0.39,0.395,0.4,0.405,0.41,0.415,0.42,0.425,0.43,0.435,0.44,0.445,0.45,0.455,0.46,0.465,0.47,0.475,0.48,0.485,0.49,0.495,0.5,0.505,0.51,0.515,0.52,0.525,0.53,0.535,0.54,0.545,0.55,0.555,0.56,0.565,0.57,0.575,0.58,0.585,0.59,0.595,0.6,0.605,0.61,0.615,0.62,0.625,0.63,0.635,0.64,0.645,0.65,0.655,0.66,0.665,0.67,0.675,0.68,0.685,0.69,0.695,0.7,0.705,0.71,0.715,0.72,0.725,0.73,0.735,0.74,0.745,0.75,0.755,0.76,0.765,0.77,0.775,0.78,0.785,0.79,0.795,0.8],\"xaxis\":\"x\",\"y\":[0.0,0.0034376439734911577,0.034118262689691266,0.09146764611296355,0.15686915048266176,0.22471556980325602,0.2888690575227263,0.3484130571066175,0.40298864483811503,0.451467944877172,0.4940657133039042,0.53195674813891,0.5660183467843001,0.5972917099903362,0.6254889061658991,0.6517001229004507,0.6751273695322899,0.6954198559334455,0.7137073067920887,0.7307860357408136,0.7470175023397412,0.7611837285112076,0.7734242265338228,0.7847284868468805,0.7952568521253898,0.8055431472081218,0.8135722838829129,0.8225690706853248,0.8295451175022492,0.8367202824637112,0.8433153258383219,0.8497903016949807,0.8556727750952742,0.8604653381285355,0.8657180505654725,0.8705616283452695,0.875173344327424,0.8788152900692884,0.8823818760615144,0.8858325174114648,0.8891484274416038,0.8919260575637105,0.8946576029928373,0.8973109579825822,0.9000371339812155,0.9022329729046699,0.904964436971163,0.907242921547714,0.909105531230453,0.9107432420392381,0.9126584414776917,0.9139606793836994,0.915384275423167,0.9170113138332114,0.9184323525271013,0.9196070340552926,0.9207411625563976,0.9219595332779793,0.92300983743808,0.9243007084297923,0.9251737317581653,0.9261394671360078,0.926812378273101,0.9275567690872015,0.9284069048214703,0.9290391508133443,0.9297267533897722,0.9303520636584716,0.9309199515950461,0.9315678964734113,0.9321006676938879,0.9325924342808293,0.932967811910191,0.9334948474715076,0.9341127547890109,0.9343628686235782,0.9347291792460051,0.9351130445126045,0.9353989813242785,0.9356472174864501,0.9358409329762348,0.9360523708301928,0.9361543669600543,0.9364332955564201,0.9365111561866126,0.9366331615845932,0.936787284866594,0.9369373929622975,0.9371390024874573,0.9372540095909923,0.9373894289902445,0.937501052596123,0.9376562381637754,0.9377450238083219,0.9378037909749903,0.9378451297309565,0.9378890858530274,0.9379093748950319,0.9380550286222701,0.9380532458488208,0.9380740293399763,0.938083818276342,0.9380668958001509,0.9381400103910034,0.9382151413110854,0.938365053713922,0.9384437673686679,0.938400127199846,0.9383831538789751,0.9384331010948386,0.9383847420921928,0.9383834753023983,0.9383780892443732,0.9383689839572192,0.9384147563991179,0.9384438059601764,0.9384592261059804,0.9384684744857067,0.9383963004390724,0.9383987514501039,0.9383266160996655,0.9383426778801228,0.9383066231740178,0.9382981740530351,0.9382328901936581,0.9382343376055903,0.9382415475048984,0.9382242601083784,0.9382018256846316,0.9381658136472001,0.9381287768285059,0.9381162331330273,0.9380921825651453,0.938067107159819,0.9380066483933049,0.9380029657275195,0.9379336770818584,0.9379544716259777,0.9379440155244069,0.9379304601290861,0.9379413724183878,0.9379288521750715,0.9379220757592158,0.9379074899038261,0.9378762520920242,0.9378481212898285,0.9378111523668392,0.9378121878121878,0.9377976091372249,0.9377908380297518,0.937791873735734,0.9377851030533081,0.9377939450442426,0.9377627208936463,0.9377559513900449,0.9377335719339132,0.937717962163017,0.937718998909687,0.9377122311738464,0.9376966226675766,0.9376810146809148],\"yaxis\":\"y\",\"type\":\"scattergl\"},{\"hovertemplate\":\"variable=F1 1<br>Default Score=%{x}<br>value=%{y}<extra></extra>\",\"legendgroup\":\"F1 1\",\"line\":{\"color\":\"#19d3f3\",\"dash\":\"solid\"},\"marker\":{\"symbol\":\"circle\"},\"mode\":\"lines\",\"name\":\"F1 1\",\"showlegend\":true,\"x\":[0.0,0.005,0.01,0.015,0.02,0.025,0.03,0.035,0.04,0.045,0.05,0.055,0.06,0.065,0.07,0.075,0.08,0.085,0.09,0.095,0.1,0.105,0.11,0.115,0.12,0.125,0.13,0.135,0.14,0.145,0.15,0.155,0.16,0.165,0.17,0.175,0.18,0.185,0.19,0.195,0.2,0.205,0.21,0.215,0.22,0.225,0.23,0.235,0.24,0.245,0.25,0.255,0.26,0.265,0.27,0.275,0.28,0.285,0.29,0.295,0.3,0.305,0.31,0.315,0.32,0.325,0.33,0.335,0.34,0.345,0.35,0.355,0.36,0.365,0.37,0.375,0.38,0.385,0.39,0.395,0.4,0.405,0.41,0.415,0.42,0.425,0.43,0.435,0.44,0.445,0.45,0.455,0.46,0.465,0.47,0.475,0.48,0.485,0.49,0.495,0.5,0.505,0.51,0.515,0.52,0.525,0.53,0.535,0.54,0.545,0.55,0.555,0.56,0.565,0.57,0.575,0.58,0.585,0.59,0.595,0.6,0.605,0.61,0.615,0.62,0.625,0.63,0.635,0.64,0.645,0.65,0.655,0.66,0.665,0.67,0.675,0.68,0.685,0.69,0.695,0.7,0.705,0.71,0.715,0.72,0.725,0.73,0.735,0.74,0.745,0.75,0.755,0.76,0.765,0.77,0.775,0.78,0.785,0.79,0.795,0.8],\"xaxis\":\"x\",\"y\":[0.2102695655830775,0.21055586749017405,0.2128113271920846,0.21745659178050236,0.2232020586597643,0.22958243542896406,0.23628596026705223,0.24355567591354532,0.2504372405264552,0.257310372801357,0.26401599630854417,0.2704371004268794,0.2767032875224529,0.283157321720196,0.2895005559463569,0.2955088898884917,0.30138676405270687,0.3065828307455409,0.31221852098600933,0.3177766705419919,0.3225694944548466,0.32856673731976,0.33164212349956684,0.33528639579931485,0.3387663155105015,0.34345650236511965,0.3452200035341933,0.34891375905200794,0.3500584310325329,0.3525705841176013,0.35454509001964796,0.357473544973545,0.3602399897876686,0.35978465444040797,0.36156307747780236,0.36271689709566673,0.36410501193317424,0.36426789296022705,0.36402870477241933,0.36328044508551405,0.36336748706031474,0.3625459260860169,0.36141379501078597,0.3607967406066093,0.36065573770491804,0.3582938388625593,0.3580149425985544,0.35732472210147176,0.3547323014463334,0.3509976677895828,0.3485059299012787,0.344161545215101,0.34156406905564346,0.3406431724234569,0.3390845572508199,0.33505192070292644,0.3312883435582822,0.3265706312693265,0.32144504227517295,0.3189790165988099,0.313844193085869,0.3093635995135792,0.30405794715614454,0.297940043543795,0.29400255210548704,0.29061154177433246,0.2861387869253627,0.28293373440679465,0.27856950793223983,0.2733642733642734,0.26920950801547816,0.263015235068698,0.25819865797183633,0.25397129186602874,0.25092036427049025,0.24485798237022524,0.23911965896698717,0.23453944071364136,0.22928904192829655,0.223995090518564,0.21845963245921948,0.2128635463358699,0.20706327517342862,0.20347604917337855,0.1969211032713278,0.19194312796208532,0.1860667318769699,0.1822557707034241,0.17887432536622977,0.17470346968185346,0.17164511814534106,0.16793721973094172,0.16446700507614212,0.15985467756584923,0.15570776255707763,0.1497067954467058,0.1448235974551764,0.1392316647264261,0.13542642924086223,0.1304911082322459,0.12637557685481007,0.1226235741444867,0.11879770992366412,0.11486810551558753,0.1104679208876025,0.10721649484536083,0.10382646843772851,0.09979209979209978,0.09576427255985265,0.09269074325157155,0.08765630803516156,0.08400646203554119,0.08124610591900312,0.0773079809857393,0.07503136762860727,0.07248930279385854,0.06897422940879233,0.06685236768802229,0.06297613001523616,0.060343730108211334,0.056427933103536325,0.05474545919672551,0.052773152299218654,0.050571171864972404,0.04709212557900155,0.044627885979620786,0.042899599431451094,0.04065251165199379,0.0396424407306646,0.037623248572911265,0.03584881153396545,0.03458587959953192,0.0317998175420305,0.029254277132036047,0.02668410725964683,0.02540597171293871,0.022819672131147536,0.02205592753052383,0.02024983563445102,0.019213054349256478,0.01869897287332104,0.017400474558397046,0.016879862851114338,0.016097110436733078,0.015049504950495047,0.013218770654329148,0.011381683430386447,0.011119936457505955,0.010331125827814569,0.009805220617463892,0.009542743538767395,0.009016176080615222,0.009017371701365866,0.00796072707973995,0.007432970533581099,0.0063753486518794,0.005845622425933306,0.005581395348837209,0.005051847912789151,0.004521276595744681,0.0039904229848363925],\"yaxis\":\"y\",\"type\":\"scattergl\"},{\"hovertemplate\":\"variable=Weighted Average F1<br>Default Score=%{x}<br>value=%{y}<extra></extra>\",\"legendgroup\":\"Weighted Average F1\",\"line\":{\"color\":\"#FF6692\",\"dash\":\"solid\"},\"marker\":{\"symbol\":\"circle\"},\"mode\":\"lines\",\"name\":\"Weighted Average F1\",\"showlegend\":true,\"x\":[0.0,0.005,0.01,0.015,0.02,0.025,0.03,0.035,0.04,0.045,0.05,0.055,0.06,0.065,0.07,0.075,0.08,0.085,0.09,0.095,0.1,0.105,0.11,0.115,0.12,0.125,0.13,0.135,0.14,0.145,0.15,0.155,0.16,0.165,0.17,0.175,0.18,0.185,0.19,0.195,0.2,0.205,0.21,0.215,0.22,0.225,0.23,0.235,0.24,0.245,0.25,0.255,0.26,0.265,0.27,0.275,0.28,0.285,0.29,0.295,0.3,0.305,0.31,0.315,0.32,0.325,0.33,0.335,0.34,0.345,0.35,0.355,0.36,0.365,0.37,0.375,0.38,0.385,0.39,0.395,0.4,0.405,0.41,0.415,0.42,0.425,0.43,0.435,0.44,0.445,0.45,0.455,0.46,0.465,0.47,0.475,0.48,0.485,0.49,0.495,0.5,0.505,0.51,0.515,0.52,0.525,0.53,0.535,0.54,0.545,0.55,0.555,0.56,0.565,0.57,0.575,0.58,0.585,0.59,0.595,0.6,0.605,0.61,0.615,0.62,0.625,0.63,0.635,0.64,0.645,0.65,0.655,0.66,0.665,0.67,0.675,0.68,0.685,0.69,0.695,0.7,0.705,0.71,0.715,0.72,0.725,0.73,0.735,0.74,0.745,0.75,0.755,0.76,0.765,0.77,0.775,0.78,0.785,0.79,0.795,0.8],\"xaxis\":\"x\",\"y\":[0.024703882417298453,0.027771285535204925,0.05511232543963174,0.10626967459968037,0.16466238655779483,0.22528736190176957,0.28269124168837384,0.33609370690300455,0.38506588010390996,0.4286570077941541,0.46703792569694896,0.5012316614675403,0.5320276682677054,0.5603850898166743,0.5860147355963773,0.609852381816288,0.631217810168647,0.64973666767414,0.6665377046249192,0.6822629184422067,0.6971504963849391,0.7103569754693062,0.7215206945264147,0.7319250079419077,0.7416252744414187,0.7512541011012792,0.7585471087867243,0.7669208598162383,0.7732117975072169,0.7798391204793476,0.7858913120431865,0.7919496187773817,0.7974660001871952,0.801642004831843,0.8064865343889991,0.8108966145699978,0.8151296002141846,0.8183628020401209,0.8214822600916504,0.8244395863143796,0.827376147214468,0.8297309201656075,0.8320085348996408,0.8342776602035545,0.8366669807460662,0.8383273459905632,0.840705132683766,0.8426348338266929,0.8439740365897134,0.844980568247042,0.8463780110561008,0.8470168457720871,0.8479680192119349,0.8492957090809024,0.8503666780033595,0.8509295687899646,0.8514882818996332,0.8520092416749138,0.8523339603805459,0.8531834458903188,0.853350626975011,0.8536764910066751,0.8536470003045691,0.8535851626273812,0.8538728157294097,0.8540323825160779,0.8541137116039259,0.854289005097017,0.8542774350690339,0.8542377090692643,0.8542197569745861,0.8539260026801747,0.8536913945575951,0.8536598510424602,0.8538467189651329,0.8533551983555495,0.853004295525081,0.8528049468812586,0.8524404377606734,0.8520375404612274,0.8515581541194963,0.8510872850068079,0.8504958430883233,0.8503205498466779,0.8496191437664702,0.8491419691386949,0.8485875864562337,0.8482723214999551,0.8480529696474239,0.8476644447724929,0.8474246384872951,0.8470875189637648,0.8468167681360916,0.8463532353969219,0.8459178907426119,0.8452493387769349,0.8447144197035549,0.8440753471953508,0.8437568238920892,0.8431754158736604,0.842710237281472,0.8422780656408968,0.8418136430772215,0.8414164913257963,0.8409658320832689,0.8407161323749774,0.8403873151233863,0.83987481733945,0.8393866219320881,0.8390696021236385,0.8384354453610222,0.8380055189526101,0.8376764604876916,0.837205747553784,0.8369786704962899,0.8367056482499552,0.8363062822767136,0.8360651535122487,0.8355460524922896,0.8352389435007298,0.8347152289343699,0.8345317353213328,0.8342681966884218,0.8340020367594518,0.8335356811360595,0.8332474430586226,0.8330507551658026,0.832771495827117,0.8326330272267662,0.8323640178538958,0.8321228595750471,0.8319634118616452,0.8316148616121969,0.8312936650305152,0.8309383485279849,0.8307849345683272,0.8304199305535076,0.830348552163661,0.8301271326950967,0.8299933618420626,0.829942594333766,0.8297789887396805,0.8297118434987593,0.8296070082708672,0.8294563607506161,0.8292164479692424,0.8289679890442614,0.8289381510441675,0.8288326103932273,0.8287648479206903,0.8287349243728684,0.8286670844701166,0.8286750281140678,0.8285233306716074,0.8284553521071293,0.8283113454098715,0.8282353337809167,0.8282052055499368,0.828137018139745,0.8280609083398554,0.8279847658327455],\"yaxis\":\"y\",\"type\":\"scattergl\"}],                        {\"template\":{\"data\":{\"histogram2dcontour\":[{\"type\":\"histogram2dcontour\",\"colorbar\":{\"outlinewidth\":0,\"ticks\":\"\"},\"colorscale\":[[0.0,\"#0d0887\"],[0.1111111111111111,\"#46039f\"],[0.2222222222222222,\"#7201a8\"],[0.3333333333333333,\"#9c179e\"],[0.4444444444444444,\"#bd3786\"],[0.5555555555555556,\"#d8576b\"],[0.6666666666666666,\"#ed7953\"],[0.7777777777777778,\"#fb9f3a\"],[0.8888888888888888,\"#fdca26\"],[1.0,\"#f0f921\"]]}],\"choropleth\":[{\"type\":\"choropleth\",\"colorbar\":{\"outlinewidth\":0,\"ticks\":\"\"}}],\"histogram2d\":[{\"type\":\"histogram2d\",\"colorbar\":{\"outlinewidth\":0,\"ticks\":\"\"},\"colorscale\":[[0.0,\"#0d0887\"],[0.1111111111111111,\"#46039f\"],[0.2222222222222222,\"#7201a8\"],[0.3333333333333333,\"#9c179e\"],[0.4444444444444444,\"#bd3786\"],[0.5555555555555556,\"#d8576b\"],[0.6666666666666666,\"#ed7953\"],[0.7777777777777778,\"#fb9f3a\"],[0.8888888888888888,\"#fdca26\"],[1.0,\"#f0f921\"]]}],\"heatmap\":[{\"type\":\"heatmap\",\"colorbar\":{\"outlinewidth\":0,\"ticks\":\"\"},\"colorscale\":[[0.0,\"#0d0887\"],[0.1111111111111111,\"#46039f\"],[0.2222222222222222,\"#7201a8\"],[0.3333333333333333,\"#9c179e\"],[0.4444444444444444,\"#bd3786\"],[0.5555555555555556,\"#d8576b\"],[0.6666666666666666,\"#ed7953\"],[0.7777777777777778,\"#fb9f3a\"],[0.8888888888888888,\"#fdca26\"],[1.0,\"#f0f921\"]]}],\"heatmapgl\":[{\"type\":\"heatmapgl\",\"colorbar\":{\"outlinewidth\":0,\"ticks\":\"\"},\"colorscale\":[[0.0,\"#0d0887\"],[0.1111111111111111,\"#46039f\"],[0.2222222222222222,\"#7201a8\"],[0.3333333333333333,\"#9c179e\"],[0.4444444444444444,\"#bd3786\"],[0.5555555555555556,\"#d8576b\"],[0.6666666666666666,\"#ed7953\"],[0.7777777777777778,\"#fb9f3a\"],[0.8888888888888888,\"#fdca26\"],[1.0,\"#f0f921\"]]}],\"contourcarpet\":[{\"type\":\"contourcarpet\",\"colorbar\":{\"outlinewidth\":0,\"ticks\":\"\"}}],\"contour\":[{\"type\":\"contour\",\"colorbar\":{\"outlinewidth\":0,\"ticks\":\"\"},\"colorscale\":[[0.0,\"#0d0887\"],[0.1111111111111111,\"#46039f\"],[0.2222222222222222,\"#7201a8\"],[0.3333333333333333,\"#9c179e\"],[0.4444444444444444,\"#bd3786\"],[0.5555555555555556,\"#d8576b\"],[0.6666666666666666,\"#ed7953\"],[0.7777777777777778,\"#fb9f3a\"],[0.8888888888888888,\"#fdca26\"],[1.0,\"#f0f921\"]]}],\"surface\":[{\"type\":\"surface\",\"colorbar\":{\"outlinewidth\":0,\"ticks\":\"\"},\"colorscale\":[[0.0,\"#0d0887\"],[0.1111111111111111,\"#46039f\"],[0.2222222222222222,\"#7201a8\"],[0.3333333333333333,\"#9c179e\"],[0.4444444444444444,\"#bd3786\"],[0.5555555555555556,\"#d8576b\"],[0.6666666666666666,\"#ed7953\"],[0.7777777777777778,\"#fb9f3a\"],[0.8888888888888888,\"#fdca26\"],[1.0,\"#f0f921\"]]}],\"mesh3d\":[{\"type\":\"mesh3d\",\"colorbar\":{\"outlinewidth\":0,\"ticks\":\"\"}}],\"scatter\":[{\"fillpattern\":{\"fillmode\":\"overlay\",\"size\":10,\"solidity\":0.2},\"type\":\"scatter\"}],\"parcoords\":[{\"type\":\"parcoords\",\"line\":{\"colorbar\":{\"outlinewidth\":0,\"ticks\":\"\"}}}],\"scatterpolargl\":[{\"type\":\"scatterpolargl\",\"marker\":{\"colorbar\":{\"outlinewidth\":0,\"ticks\":\"\"}}}],\"bar\":[{\"error_x\":{\"color\":\"#2a3f5f\"},\"error_y\":{\"color\":\"#2a3f5f\"},\"marker\":{\"line\":{\"color\":\"#E5ECF6\",\"width\":0.5},\"pattern\":{\"fillmode\":\"overlay\",\"size\":10,\"solidity\":0.2}},\"type\":\"bar\"}],\"scattergeo\":[{\"type\":\"scattergeo\",\"marker\":{\"colorbar\":{\"outlinewidth\":0,\"ticks\":\"\"}}}],\"scatterpolar\":[{\"type\":\"scatterpolar\",\"marker\":{\"colorbar\":{\"outlinewidth\":0,\"ticks\":\"\"}}}],\"histogram\":[{\"marker\":{\"pattern\":{\"fillmode\":\"overlay\",\"size\":10,\"solidity\":0.2}},\"type\":\"histogram\"}],\"scattergl\":[{\"type\":\"scattergl\",\"marker\":{\"colorbar\":{\"outlinewidth\":0,\"ticks\":\"\"}}}],\"scatter3d\":[{\"type\":\"scatter3d\",\"line\":{\"colorbar\":{\"outlinewidth\":0,\"ticks\":\"\"}},\"marker\":{\"colorbar\":{\"outlinewidth\":0,\"ticks\":\"\"}}}],\"scattermapbox\":[{\"type\":\"scattermapbox\",\"marker\":{\"colorbar\":{\"outlinewidth\":0,\"ticks\":\"\"}}}],\"scatterternary\":[{\"type\":\"scatterternary\",\"marker\":{\"colorbar\":{\"outlinewidth\":0,\"ticks\":\"\"}}}],\"scattercarpet\":[{\"type\":\"scattercarpet\",\"marker\":{\"colorbar\":{\"outlinewidth\":0,\"ticks\":\"\"}}}],\"carpet\":[{\"aaxis\":{\"endlinecolor\":\"#2a3f5f\",\"gridcolor\":\"white\",\"linecolor\":\"white\",\"minorgridcolor\":\"white\",\"startlinecolor\":\"#2a3f5f\"},\"baxis\":{\"endlinecolor\":\"#2a3f5f\",\"gridcolor\":\"white\",\"linecolor\":\"white\",\"minorgridcolor\":\"white\",\"startlinecolor\":\"#2a3f5f\"},\"type\":\"carpet\"}],\"table\":[{\"cells\":{\"fill\":{\"color\":\"#EBF0F8\"},\"line\":{\"color\":\"white\"}},\"header\":{\"fill\":{\"color\":\"#C8D4E3\"},\"line\":{\"color\":\"white\"}},\"type\":\"table\"}],\"barpolar\":[{\"marker\":{\"line\":{\"color\":\"#E5ECF6\",\"width\":0.5},\"pattern\":{\"fillmode\":\"overlay\",\"size\":10,\"solidity\":0.2}},\"type\":\"barpolar\"}],\"pie\":[{\"automargin\":true,\"type\":\"pie\"}]},\"layout\":{\"autotypenumbers\":\"strict\",\"colorway\":[\"#636efa\",\"#EF553B\",\"#00cc96\",\"#ab63fa\",\"#FFA15A\",\"#19d3f3\",\"#FF6692\",\"#B6E880\",\"#FF97FF\",\"#FECB52\"],\"font\":{\"color\":\"#2a3f5f\"},\"hovermode\":\"closest\",\"hoverlabel\":{\"align\":\"left\"},\"paper_bgcolor\":\"white\",\"plot_bgcolor\":\"#E5ECF6\",\"polar\":{\"bgcolor\":\"#E5ECF6\",\"angularaxis\":{\"gridcolor\":\"white\",\"linecolor\":\"white\",\"ticks\":\"\"},\"radialaxis\":{\"gridcolor\":\"white\",\"linecolor\":\"white\",\"ticks\":\"\"}},\"ternary\":{\"bgcolor\":\"#E5ECF6\",\"aaxis\":{\"gridcolor\":\"white\",\"linecolor\":\"white\",\"ticks\":\"\"},\"baxis\":{\"gridcolor\":\"white\",\"linecolor\":\"white\",\"ticks\":\"\"},\"caxis\":{\"gridcolor\":\"white\",\"linecolor\":\"white\",\"ticks\":\"\"}},\"coloraxis\":{\"colorbar\":{\"outlinewidth\":0,\"ticks\":\"\"}},\"colorscale\":{\"sequential\":[[0.0,\"#0d0887\"],[0.1111111111111111,\"#46039f\"],[0.2222222222222222,\"#7201a8\"],[0.3333333333333333,\"#9c179e\"],[0.4444444444444444,\"#bd3786\"],[0.5555555555555556,\"#d8576b\"],[0.6666666666666666,\"#ed7953\"],[0.7777777777777778,\"#fb9f3a\"],[0.8888888888888888,\"#fdca26\"],[1.0,\"#f0f921\"]],\"sequentialminus\":[[0.0,\"#0d0887\"],[0.1111111111111111,\"#46039f\"],[0.2222222222222222,\"#7201a8\"],[0.3333333333333333,\"#9c179e\"],[0.4444444444444444,\"#bd3786\"],[0.5555555555555556,\"#d8576b\"],[0.6666666666666666,\"#ed7953\"],[0.7777777777777778,\"#fb9f3a\"],[0.8888888888888888,\"#fdca26\"],[1.0,\"#f0f921\"]],\"diverging\":[[0,\"#8e0152\"],[0.1,\"#c51b7d\"],[0.2,\"#de77ae\"],[0.3,\"#f1b6da\"],[0.4,\"#fde0ef\"],[0.5,\"#f7f7f7\"],[0.6,\"#e6f5d0\"],[0.7,\"#b8e186\"],[0.8,\"#7fbc41\"],[0.9,\"#4d9221\"],[1,\"#276419\"]]},\"xaxis\":{\"gridcolor\":\"white\",\"linecolor\":\"white\",\"ticks\":\"\",\"title\":{\"standoff\":15},\"zerolinecolor\":\"white\",\"automargin\":true,\"zerolinewidth\":2},\"yaxis\":{\"gridcolor\":\"white\",\"linecolor\":\"white\",\"ticks\":\"\",\"title\":{\"standoff\":15},\"zerolinecolor\":\"white\",\"automargin\":true,\"zerolinewidth\":2},\"scene\":{\"xaxis\":{\"backgroundcolor\":\"#E5ECF6\",\"gridcolor\":\"white\",\"linecolor\":\"white\",\"showbackground\":true,\"ticks\":\"\",\"zerolinecolor\":\"white\",\"gridwidth\":2},\"yaxis\":{\"backgroundcolor\":\"#E5ECF6\",\"gridcolor\":\"white\",\"linecolor\":\"white\",\"showbackground\":true,\"ticks\":\"\",\"zerolinecolor\":\"white\",\"gridwidth\":2},\"zaxis\":{\"backgroundcolor\":\"#E5ECF6\",\"gridcolor\":\"white\",\"linecolor\":\"white\",\"showbackground\":true,\"ticks\":\"\",\"zerolinecolor\":\"white\",\"gridwidth\":2}},\"shapedefaults\":{\"line\":{\"color\":\"#2a3f5f\"}},\"annotationdefaults\":{\"arrowcolor\":\"#2a3f5f\",\"arrowhead\":0,\"arrowwidth\":1},\"geo\":{\"bgcolor\":\"white\",\"landcolor\":\"#E5ECF6\",\"subunitcolor\":\"white\",\"showland\":true,\"showlakes\":true,\"lakecolor\":\"white\"},\"title\":{\"x\":0.05},\"mapbox\":{\"style\":\"light\"}}},\"xaxis\":{\"anchor\":\"y\",\"domain\":[0.0,1.0],\"title\":{\"text\":\"Default Score\"}},\"yaxis\":{\"anchor\":\"x\",\"domain\":[0.0,1.0],\"title\":{\"text\":\"value\"}},\"legend\":{\"title\":{\"text\":\"variable\"},\"tracegroupgap\":0},\"title\":{\"text\":\"% Precision and Recall vs Set Default Score\"}},                        {\"responsive\": true}                    ).then(function(){\n",
       "                            \n",
       "var gd = document.getElementById('33bf21de-d688-420d-a494-4f3714d1b7e2');\n",
       "var x = new MutationObserver(function (mutations, observer) {{\n",
       "        var display = window.getComputedStyle(gd).display;\n",
       "        if (!display || display === 'none') {{\n",
       "            console.log([gd, 'removed!']);\n",
       "            Plotly.purge(gd);\n",
       "            observer.disconnect();\n",
       "        }}\n",
       "}});\n",
       "\n",
       "// Listen for the removal of the full notebook cells\n",
       "var notebookContainer = gd.closest('#notebook-container');\n",
       "if (notebookContainer) {{\n",
       "    x.observe(notebookContainer, {childList: true});\n",
       "}}\n",
       "\n",
       "// Listen for the clearing of the current output cell\n",
       "var outputEl = gd.closest('.output');\n",
       "if (outputEl) {{\n",
       "    x.observe(outputEl, {childList: true});\n",
       "}}\n",
       "\n",
       "                        })                };                });            </script>        </div>"
      ]
     },
     "metadata": {},
     "output_type": "display_data"
    }
   ],
   "source": [
    "# Plotting the Results\n",
    "fig = px.line(dtf, x='Default Score', y=['Recall 0', 'Recall 1', 'Precision 0', 'Precision 1', 'F1 0', 'F1 1', 'Weighted Average F1'], title='% Precision and Recall vs Set Default Score')\n",
    "display(fig)"
   ]
  },
  {
   "cell_type": "markdown",
   "id": "f28d4635",
   "metadata": {},
   "source": [
    "## Discussion and Conclusion\n",
    "\n",
    "### Learning and Takeaways\n",
    "This project focussed on assessing the different methods of ML in predicting if a loan will default. Selecting the correct model is important because performance, precision, and recall varies dramatically. For this use-case and dataset, it was determined that the Keras Sequential model was the best choice due to the ability to the sigmoid activation layer outputting classification values between 0,1 allowing for the user to set a custom score classification score. I was able to set three different scores optimizing the results for different use-cases such as profit maximization, weighted f1 score maximization, and requiring recall rates for default to be greater than 50%.\n",
    "\n",
    "### Where things can go wrong\n",
    "I had to set a random seed for the keras model because the model was not consistent in outputting results especially for the profit driven use-case. I have gotten values from ~0.5 - ~0.68. From the Gross Revenue vs Score chart, it can be seen that the gross revenue plateaus between 0.4 and 0.8. If banks were using this method to give out loans and they started at the model optimizing default score of 0.335 and realized that they could make more money by increasing the default score (lowering requirements), maybe that's how banking crises happen where new loans default en masse and the banks cannot cover these losses with what they make on interest payments on the non-defaulting loans.\n",
    "\n",
    "### Ways to Improve\n",
    "The attributes education, employment type, and marital status was removed because they could not be ordered for machine learning. If they could be ordered, the model could gain more insight from these variables.\n",
    "\n",
    "Another way to improve the model is to create seperate models depending on loan purposes. These loan purposes are very different from one another. The average interest rate was 13.5% for the dataset which from my personal experiences for US loans in 2021 is well above the mortgage rates of ~4% with the prime rate at 3.5%"
   ]
  },
  {
   "cell_type": "code",
   "execution_count": null,
   "id": "a46fe862",
   "metadata": {},
   "outputs": [],
   "source": []
  }
 ],
 "metadata": {
  "kernelspec": {
   "display_name": "Python 3 (ipykernel)",
   "language": "python",
   "name": "python3"
  },
  "language_info": {
   "codemirror_mode": {
    "name": "ipython",
    "version": 3
   },
   "file_extension": ".py",
   "mimetype": "text/x-python",
   "name": "python",
   "nbconvert_exporter": "python",
   "pygments_lexer": "ipython3",
   "version": "3.9.13"
  }
 },
 "nbformat": 4,
 "nbformat_minor": 5
}
